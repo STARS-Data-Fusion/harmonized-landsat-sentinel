{
 "cells": [
  {
   "cell_type": "code",
   "execution_count": 1,
   "id": "dce36470",
   "metadata": {},
   "outputs": [
    {
     "name": "stdout",
     "output_type": "stream",
     "text": [
      "[2025-06-18 09:30:13 INFO] HLS 2.0 working directory: \u001b[34m~/data/HLS2\u001b[0m\n",
      "[2025-06-18 09:30:13 INFO] HLS 2.0 download directory: \u001b[34m~/data/HLS2\u001b[0m\n",
      "[2025-06-18 09:30:14 INFO] You're now authenticated with NASA Earthdata Login\n"
     ]
    }
   ],
   "source": [
    "from os.path import join\n",
    "\n",
    "import earthaccess\n",
    "\n",
    "import geopandas as gpd\n",
    "import rasters as rt\n",
    "\n",
    "from harmonized_landsat_sentinel import harmonized_landsat_sentinel as HLS\n",
    "from harmonized_landsat_sentinel import timeseries\n",
    "from sentinel_tiles import sentinel_tiles"
   ]
  },
  {
   "cell_type": "markdown",
   "id": "063c94c4",
   "metadata": {},
   "source": [
    "date range"
   ]
  },
  {
   "cell_type": "code",
   "execution_count": 2,
   "id": "45ee2d11",
   "metadata": {},
   "outputs": [],
   "source": [
    "start_date = \"2023-04-01\"\n",
    "end_date = \"2023-06-01\""
   ]
  },
  {
   "cell_type": "markdown",
   "id": "cfcdb0bc",
   "metadata": {},
   "source": [
    "download directory"
   ]
  },
  {
   "cell_type": "code",
   "execution_count": 3,
   "id": "816ba3bd",
   "metadata": {},
   "outputs": [],
   "source": [
    "download_directory = \"~/data/HLS_download\""
   ]
  },
  {
   "cell_type": "markdown",
   "id": "cd3881fe",
   "metadata": {},
   "source": [
    "output directory"
   ]
  },
  {
   "cell_type": "code",
   "execution_count": 4,
   "id": "8c53bc9c",
   "metadata": {},
   "outputs": [],
   "source": [
    "output_directory = \"~/data/Kings Canyon EMIT\""
   ]
  },
  {
   "cell_type": "markdown",
   "id": "50b3bd93",
   "metadata": {},
   "source": [
    "Upper Kings area of interest"
   ]
  },
  {
   "cell_type": "code",
   "execution_count": 5,
   "id": "7951d3ab",
   "metadata": {},
   "outputs": [
    {
     "data": {
      "text/html": [
       "<div>\n",
       "<style scoped>\n",
       "    .dataframe tbody tr th:only-of-type {\n",
       "        vertical-align: middle;\n",
       "    }\n",
       "\n",
       "    .dataframe tbody tr th {\n",
       "        vertical-align: top;\n",
       "    }\n",
       "\n",
       "    .dataframe thead th {\n",
       "        text-align: right;\n",
       "    }\n",
       "</style>\n",
       "<table border=\"1\" class=\"dataframe\">\n",
       "  <thead>\n",
       "    <tr style=\"text-align: right;\">\n",
       "      <th></th>\n",
       "      <th>Name</th>\n",
       "      <th>Description</th>\n",
       "      <th>geometry</th>\n",
       "    </tr>\n",
       "  </thead>\n",
       "  <tbody>\n",
       "    <tr>\n",
       "      <th>0</th>\n",
       "      <td>0</td>\n",
       "      <td>&lt;html xmlns:fo=\"http://www.w3.org/1999/XSL/For...</td>\n",
       "      <td>MULTIPOLYGON Z (((-118.75179 36.85601 0, -118....</td>\n",
       "    </tr>\n",
       "  </tbody>\n",
       "</table>\n",
       "</div>"
      ],
      "text/plain": [
       "  Name                                        Description  \\\n",
       "0    0  <html xmlns:fo=\"http://www.w3.org/1999/XSL/For...   \n",
       "\n",
       "                                            geometry  \n",
       "0  MULTIPOLYGON Z (((-118.75179 36.85601 0, -118....  "
      ]
     },
     "execution_count": 5,
     "metadata": {},
     "output_type": "execute_result"
    }
   ],
   "source": [
    "gdf = gpd.read_file(\"upper_kings.kml\")\n",
    "gdf"
   ]
  },
  {
   "cell_type": "code",
   "execution_count": 6,
   "id": "7f1aba85",
   "metadata": {},
   "outputs": [
    {
     "data": {
      "image/svg+xml": [
       "<svg xmlns=\"http://www.w3.org/2000/svg\" xmlns:xlink=\"http://www.w3.org/1999/xlink\" width=\"100.0\" height=\"100.0\" viewBox=\"-118.77555938868137 36.56952187249183 0.4661740671847525 0.5922276095799361\" preserveAspectRatio=\"xMinYMin meet\"><g transform=\"matrix(1,0,0,-1,0,73.7312713545636)\"><g><path fill-rule=\"evenodd\" fill=\"#66cc99\" stroke=\"#555555\" stroke-width=\"0.011844552191598723\" opacity=\"0.6\" d=\"M -118.75179336538,36.8560054055524 L -118.75179336538,36.8560054055524 L -118.743018955865,36.8464809995079 L -118.718385467173,36.841233321285 L -118.698729084739,36.8413356201814 L -118.669965058155,36.8372454743763 L -118.65096000978,36.8222238656854 L -118.638768182765,36.804121860702 L -118.612291487905,36.7981922604537 L -118.612906142798,36.7569370160943 L -118.605574450662,36.7297964802785 L -118.563889322764,36.7013719685922 L -118.542341087436,36.677865300318 L -118.532451820717,36.6611097808275 L -118.535847796164,36.6293005899985 L -118.538842395183,36.6049780503338 L -118.536558554096,36.5935506131577 L -118.522756550821,36.5914562284022 L -118.502327797986,36.6044074305123 L -118.48768747109,36.6151827379332 L -118.477562117532,36.6441629461739 L -118.46873616642,36.6624084780356 L -118.438078181179,36.6767815822392 L -118.405608789618,36.6875806486806 L -118.354841959651,36.6876914660071 L -118.33529282043,36.7002257159523 L -118.331319677407,36.7184427859625 L -118.338943790322,36.7312835345775 L -118.355924714641,36.7480377685847 L -118.365759990699,36.7594452570892 L -118.370258358109,36.7730047406643 L -118.364541221074,36.7962365140716 L -118.371730041928,36.814073621358 L -118.376678607793,36.826221333032 L -118.349502632642,36.8423704758143 L -118.359339469176,36.8677768295363 L -118.348291951553,36.8819824237906 L -118.360932455294,36.9044360974935 L -118.372071698168,36.9203796268144 L -118.378825777923,36.9475681490007 L -118.39290292684,36.9540379724336 L -118.394450119182,36.9723627712262 L -118.410787235715,36.9871234625091 L -118.406388263987,36.9971898728096 L -118.413832759893,37.0089994525078 L -118.41165769123,37.0208332252118 L -118.425762086294,37.0290832971361 L -118.428857173621,37.0592596042781 L -118.471181533243,37.0745518549307 L -118.480871070126,37.0845984544677 L -118.497963746718,37.0910537030511 L -118.524038956875,37.1087572159892 L -118.555881968322,37.1167349806868 L -118.57055012219,37.1174158302619 L -118.598170030074,37.1356049856822 L -118.630270196234,37.1347531428026 L -118.646816058709,37.1398151261614 L -118.642106828584,37.1229987220022 L -118.629207485116,37.1135415721163 L -118.603518478564,37.1121793465625 L -118.594176662526,37.0836880550974 L -118.582079142131,37.0537363961676 L -118.575573090131,37.0376709581218 L -118.580911284085,37.0120648604171 L -118.593496631153,36.976924255878 L -118.605165733769,36.9425247288916 L -118.675466290747,36.9268796358257 L -118.727593041996,36.9259073994129 L -118.753625032771,36.9091305106524 L -118.75179336538,36.8560054055524 z\" /></g></g></svg>"
      ],
      "text/plain": [
       "<MULTIPOLYGON Z (((-118.752 36.856 0, -118.752 36.856 0, -118.743 36.846 0, ...>"
      ]
     },
     "execution_count": 6,
     "metadata": {},
     "output_type": "execute_result"
    }
   ],
   "source": [
    "gdf.geometry[0]"
   ]
  },
  {
   "cell_type": "code",
   "execution_count": 7,
   "id": "27b67657",
   "metadata": {},
   "outputs": [
    {
     "name": "stderr",
     "output_type": "stream",
     "text": [
      "/var/folders/hk/35_x93nx79vg1zmd2fy1vcbr0000gq/T/ipykernel_10091/4116591760.py:1: DeprecationWarning: The 'unary_union' attribute is deprecated, use the 'union_all()' method instead.\n",
      "  bbox_UTM = rt.Polygon(gdf.unary_union).UTM.bbox\n"
     ]
    },
    {
     "data": {
      "text/plain": [
       "BBox(xmin=343776.99999338, ymin=4050631.999999944, xmax=381105.99999904167, ymax=4111651.9999999665, crs=\"EPSG:32611\")"
      ]
     },
     "execution_count": 7,
     "metadata": {},
     "output_type": "execute_result"
    }
   ],
   "source": [
    "bbox_UTM = rt.Polygon(gdf.unary_union).UTM.bbox\n",
    "bbox_UTM"
   ]
  },
  {
   "cell_type": "code",
   "execution_count": 8,
   "id": "3e5f8574",
   "metadata": {},
   "outputs": [
    {
     "data": {
      "text/plain": [
       "{\n",
       "  \"dimensions\": {\n",
       "    \"rows\": 1017,\n",
       "    \"cols\": 622\n",
       "  },\n",
       "  \"bbox\": {\n",
       "    \"xmin\": 343776.99999338,\n",
       "    \"ymin\": 4050631.9999999665,\n",
       "    \"xmax\": 381096.99999338,\n",
       "    \"ymax\": 4111651.9999999665\n",
       "  },\n",
       "  \"crs\": \"EPSG:32611\",\n",
       "  \"resolution\": {\n",
       "    \"cell_width\": 60.0,\n",
       "    \"cell_height\": -60.0\n",
       "  }\n",
       "}"
      ]
     },
     "execution_count": 8,
     "metadata": {},
     "output_type": "execute_result"
    }
   ],
   "source": [
    "grid = rt.RasterGrid.from_bbox(bbox_UTM, cell_size=60, crs=bbox_UTM.crs)\n",
    "grid"
   ]
  },
  {
   "cell_type": "markdown",
   "id": "1512404d",
   "metadata": {},
   "source": [
    "Log into `earthaccess` using `netrc` credentials"
   ]
  },
  {
   "cell_type": "code",
   "execution_count": 9,
   "id": "73a628a3",
   "metadata": {},
   "outputs": [
    {
     "data": {
      "text/plain": [
       "<earthaccess.auth.Auth at 0x107d0cd00>"
      ]
     },
     "execution_count": 9,
     "metadata": {},
     "output_type": "execute_result"
    }
   ],
   "source": [
    "earthaccess.login(strategy=\"netrc\", persist=True)"
   ]
  },
  {
   "cell_type": "markdown",
   "id": "b0f25a19",
   "metadata": {},
   "source": [
    "search for EMIT granules covering area of interest"
   ]
  },
  {
   "cell_type": "code",
   "execution_count": 10,
   "id": "e74ebf22",
   "metadata": {},
   "outputs": [],
   "source": [
    "# search_results = search_EMIT_L2A_RFL_granules(\n",
    "#     start_UTC=start_date,\n",
    "#     end_UTC=end_date,\n",
    "#     geometry=grid\n",
    "# )\n",
    "\n",
    "# search_results"
   ]
  },
  {
   "cell_type": "markdown",
   "id": "efa7d3ba",
   "metadata": {},
   "source": [
    "download each granule, extract subset projected to target grid, and write to multi-band GeoTIFF"
   ]
  },
  {
   "cell_type": "code",
   "execution_count": 11,
   "id": "de41ecc7",
   "metadata": {},
   "outputs": [],
   "source": [
    "# for search_result in search_results:\n",
    "#     granule_ID = dict(search_result.items())[\"meta\"][\"native-id\"]\n",
    "#     print(granule_ID)\n",
    "#     output_filename = join(output_directory, f\"{granule_ID}.tif\")\n",
    "#     granule = retrieve_EMIT_L2A_RFL_granule(search_result)\n",
    "#     reflectance = granule.reflectance(geometry=grid)\n",
    "#     print(output_filename)\n",
    "#     reflectance.to_geotiff(output_filename)"
   ]
  },
  {
   "cell_type": "code",
   "execution_count": 12,
   "id": "55cbdc27",
   "metadata": {},
   "outputs": [
    {
     "name": "stderr",
     "output_type": "stream",
     "text": [
      "/var/folders/hk/35_x93nx79vg1zmd2fy1vcbr0000gq/T/ipykernel_10091/1555463836.py:1: DeprecationWarning: The 'unary_union' attribute is deprecated, use the 'union_all()' method instead.\n",
      "  sentinel_tiles.tiles(gdf.unary_union)\n"
     ]
    },
    {
     "data": {
      "text/plain": [
       "{'11SLA', '11SLB'}"
      ]
     },
     "execution_count": 12,
     "metadata": {},
     "output_type": "execute_result"
    }
   ],
   "source": [
    "sentinel_tiles.tiles(gdf.unary_union)"
   ]
  },
  {
   "cell_type": "markdown",
   "id": "ac53facd",
   "metadata": {},
   "source": []
  },
  {
   "cell_type": "code",
   "execution_count": 13,
   "id": "0be77b4c",
   "metadata": {},
   "outputs": [
    {
     "name": "stdout",
     "output_type": "stream",
     "text": [
      "[2025-06-18 09:30:19 INFO] searching HLSS30.v2.0, HLSL30.v2.0 at 11SLA from 2023-04-01 to 2023-06-01\n",
      "[2025-06-18 09:30:29 INFO] Currently storing \u001b[36m37\u001b[0m DataGranules for HLS2\n"
     ]
    },
    {
     "data": {
      "text/html": [
       "<div>\n",
       "<style scoped>\n",
       "    .dataframe tbody tr th:only-of-type {\n",
       "        vertical-align: middle;\n",
       "    }\n",
       "\n",
       "    .dataframe tbody tr th {\n",
       "        vertical-align: top;\n",
       "    }\n",
       "\n",
       "    .dataframe thead th {\n",
       "        text-align: right;\n",
       "    }\n",
       "</style>\n",
       "<table border=\"1\" class=\"dataframe\">\n",
       "  <thead>\n",
       "    <tr style=\"text-align: right;\">\n",
       "      <th></th>\n",
       "      <th>ID</th>\n",
       "      <th>sensor</th>\n",
       "      <th>tile</th>\n",
       "      <th>date_UTC</th>\n",
       "      <th>timestamp_str</th>\n",
       "      <th>granule</th>\n",
       "    </tr>\n",
       "  </thead>\n",
       "  <tbody>\n",
       "    <tr>\n",
       "      <th>0</th>\n",
       "      <td>HLS.S30.T11SLA.2023091T183929.v2.0</td>\n",
       "      <td>S30</td>\n",
       "      <td>11SLA</td>\n",
       "      <td>2023-04-01</td>\n",
       "      <td>2023-04-01T18:54:19.092Z</td>\n",
       "      <td>{'meta': {'concept-type': 'granule', 'concept-...</td>\n",
       "    </tr>\n",
       "    <tr>\n",
       "      <th>1</th>\n",
       "      <td>HLS.S30.T11SLA.2023093T182921.v2.0</td>\n",
       "      <td>S30</td>\n",
       "      <td>11SLA</td>\n",
       "      <td>2023-04-03</td>\n",
       "      <td>2023-04-03T18:44:19.031Z</td>\n",
       "      <td>{'meta': {'concept-type': 'granule', 'concept-...</td>\n",
       "    </tr>\n",
       "    <tr>\n",
       "      <th>2</th>\n",
       "      <td>HLS.L30.T11SLA.2023096T183339.v2.0</td>\n",
       "      <td>L30</td>\n",
       "      <td>11SLA</td>\n",
       "      <td>2023-04-06</td>\n",
       "      <td>2023-04-06T18:33:39.624Z</td>\n",
       "      <td>{'meta': {'concept-type': 'granule', 'concept-...</td>\n",
       "    </tr>\n",
       "    <tr>\n",
       "      <th>3</th>\n",
       "      <td>HLS.S30.T11SLA.2023096T183921.v2.0</td>\n",
       "      <td>S30</td>\n",
       "      <td>11SLA</td>\n",
       "      <td>2023-04-06</td>\n",
       "      <td>2023-04-06T18:54:15.555Z</td>\n",
       "      <td>{'meta': {'concept-type': 'granule', 'concept-...</td>\n",
       "    </tr>\n",
       "    <tr>\n",
       "      <th>4</th>\n",
       "      <td>HLS.L30.T11SLA.2023097T182710.v2.0</td>\n",
       "      <td>L30</td>\n",
       "      <td>11SLA</td>\n",
       "      <td>2023-04-07</td>\n",
       "      <td>2023-04-07T18:27:10.782Z</td>\n",
       "      <td>{'meta': {'concept-type': 'granule', 'concept-...</td>\n",
       "    </tr>\n",
       "    <tr>\n",
       "      <th>5</th>\n",
       "      <td>HLS.S30.T11SLA.2023098T182919.v2.0</td>\n",
       "      <td>S30</td>\n",
       "      <td>11SLA</td>\n",
       "      <td>2023-04-08</td>\n",
       "      <td>2023-04-08T18:44:21.913Z</td>\n",
       "      <td>{'meta': {'concept-type': 'granule', 'concept-...</td>\n",
       "    </tr>\n",
       "    <tr>\n",
       "      <th>6</th>\n",
       "      <td>HLS.S30.T11SLA.2023101T183919.v2.0</td>\n",
       "      <td>S30</td>\n",
       "      <td>11SLA</td>\n",
       "      <td>2023-04-11</td>\n",
       "      <td>2023-04-11T18:54:16.912Z</td>\n",
       "      <td>{'meta': {'concept-type': 'granule', 'concept-...</td>\n",
       "    </tr>\n",
       "    <tr>\n",
       "      <th>7</th>\n",
       "      <td>HLS.S30.T11SLA.2023103T182921.v2.0</td>\n",
       "      <td>S30</td>\n",
       "      <td>11SLA</td>\n",
       "      <td>2023-04-13</td>\n",
       "      <td>2023-04-13T18:44:19.645Z</td>\n",
       "      <td>{'meta': {'concept-type': 'granule', 'concept-...</td>\n",
       "    </tr>\n",
       "    <tr>\n",
       "      <th>8</th>\n",
       "      <td>HLS.L30.T11SLA.2023104T183316.v2.0</td>\n",
       "      <td>L30</td>\n",
       "      <td>11SLA</td>\n",
       "      <td>2023-04-14</td>\n",
       "      <td>2023-04-14T18:33:16.349Z</td>\n",
       "      <td>{'meta': {'concept-type': 'granule', 'concept-...</td>\n",
       "    </tr>\n",
       "    <tr>\n",
       "      <th>9</th>\n",
       "      <td>HLS.L30.T11SLA.2023105T182723.v2.0</td>\n",
       "      <td>L30</td>\n",
       "      <td>11SLA</td>\n",
       "      <td>2023-04-15</td>\n",
       "      <td>2023-04-15T18:27:23.147Z</td>\n",
       "      <td>{'meta': {'concept-type': 'granule', 'concept-...</td>\n",
       "    </tr>\n",
       "    <tr>\n",
       "      <th>10</th>\n",
       "      <td>HLS.S30.T11SLA.2023108T182919.v2.0</td>\n",
       "      <td>S30</td>\n",
       "      <td>11SLA</td>\n",
       "      <td>2023-04-18</td>\n",
       "      <td>2023-04-18T18:44:21.383Z</td>\n",
       "      <td>{'meta': {'concept-type': 'granule', 'concept-...</td>\n",
       "    </tr>\n",
       "    <tr>\n",
       "      <th>11</th>\n",
       "      <td>HLS.S30.T11SLA.2023111T183919.v2.0</td>\n",
       "      <td>S30</td>\n",
       "      <td>11SLA</td>\n",
       "      <td>2023-04-21</td>\n",
       "      <td>2023-04-21T18:54:17.669Z</td>\n",
       "      <td>{'meta': {'concept-type': 'granule', 'concept-...</td>\n",
       "    </tr>\n",
       "    <tr>\n",
       "      <th>12</th>\n",
       "      <td>HLS.L30.T11SLA.2023112T183333.v2.0</td>\n",
       "      <td>L30</td>\n",
       "      <td>11SLA</td>\n",
       "      <td>2023-04-22</td>\n",
       "      <td>2023-04-22T18:33:33.474Z</td>\n",
       "      <td>{'meta': {'concept-type': 'granule', 'concept-...</td>\n",
       "    </tr>\n",
       "    <tr>\n",
       "      <th>13</th>\n",
       "      <td>HLS.S30.T11SLA.2023113T182921.v2.0</td>\n",
       "      <td>S30</td>\n",
       "      <td>11SLA</td>\n",
       "      <td>2023-04-23</td>\n",
       "      <td>2023-04-23T18:44:19.017Z</td>\n",
       "      <td>{'meta': {'concept-type': 'granule', 'concept-...</td>\n",
       "    </tr>\n",
       "    <tr>\n",
       "      <th>14</th>\n",
       "      <td>HLS.S30.T11SLA.2023116T183921.v2.0</td>\n",
       "      <td>S30</td>\n",
       "      <td>11SLA</td>\n",
       "      <td>2023-04-26</td>\n",
       "      <td>2023-04-26T18:54:15.606Z</td>\n",
       "      <td>{'meta': {'concept-type': 'granule', 'concept-...</td>\n",
       "    </tr>\n",
       "    <tr>\n",
       "      <th>15</th>\n",
       "      <td>HLS.S30.T11SLA.2023118T182919.v2.0</td>\n",
       "      <td>S30</td>\n",
       "      <td>11SLA</td>\n",
       "      <td>2023-04-28</td>\n",
       "      <td>2023-04-28T18:44:21.398Z</td>\n",
       "      <td>{'meta': {'concept-type': 'granule', 'concept-...</td>\n",
       "    </tr>\n",
       "    <tr>\n",
       "      <th>16</th>\n",
       "      <td>HLS.L30.T11SLA.2023120T183311.v2.0</td>\n",
       "      <td>L30</td>\n",
       "      <td>11SLA</td>\n",
       "      <td>2023-04-30</td>\n",
       "      <td>2023-04-30T18:33:11.857Z</td>\n",
       "      <td>{'meta': {'concept-type': 'granule', 'concept-...</td>\n",
       "    </tr>\n",
       "    <tr>\n",
       "      <th>17</th>\n",
       "      <td>HLS.L30.T11SLA.2023121T182714.v2.0</td>\n",
       "      <td>L30</td>\n",
       "      <td>11SLA</td>\n",
       "      <td>2023-05-01</td>\n",
       "      <td>2023-05-01T18:27:14.701Z</td>\n",
       "      <td>{'meta': {'concept-type': 'granule', 'concept-...</td>\n",
       "    </tr>\n",
       "    <tr>\n",
       "      <th>18</th>\n",
       "      <td>HLS.S30.T11SLA.2023121T183919.v2.0</td>\n",
       "      <td>S30</td>\n",
       "      <td>11SLA</td>\n",
       "      <td>2023-05-01</td>\n",
       "      <td>2023-05-01T18:54:17.922Z</td>\n",
       "      <td>{'meta': {'concept-type': 'granule', 'concept-...</td>\n",
       "    </tr>\n",
       "    <tr>\n",
       "      <th>19</th>\n",
       "      <td>HLS.S30.T11SLA.2023123T182921.v2.0</td>\n",
       "      <td>S30</td>\n",
       "      <td>11SLA</td>\n",
       "      <td>2023-05-03</td>\n",
       "      <td>2023-05-03T18:44:19.988Z</td>\n",
       "      <td>{'meta': {'concept-type': 'granule', 'concept-...</td>\n",
       "    </tr>\n",
       "    <tr>\n",
       "      <th>20</th>\n",
       "      <td>HLS.S30.T11SLA.2023126T183921.v2.0</td>\n",
       "      <td>S30</td>\n",
       "      <td>11SLA</td>\n",
       "      <td>2023-05-06</td>\n",
       "      <td>2023-05-06T18:54:15.738Z</td>\n",
       "      <td>{'meta': {'concept-type': 'granule', 'concept-...</td>\n",
       "    </tr>\n",
       "    <tr>\n",
       "      <th>21</th>\n",
       "      <td>HLS.L30.T11SLA.2023128T183322.v2.0</td>\n",
       "      <td>L30</td>\n",
       "      <td>11SLA</td>\n",
       "      <td>2023-05-08</td>\n",
       "      <td>2023-05-08T18:33:22.278Z</td>\n",
       "      <td>{'meta': {'concept-type': 'granule', 'concept-...</td>\n",
       "    </tr>\n",
       "    <tr>\n",
       "      <th>22</th>\n",
       "      <td>HLS.L30.T11SLA.2023129T182652.v2.0</td>\n",
       "      <td>L30</td>\n",
       "      <td>11SLA</td>\n",
       "      <td>2023-05-09</td>\n",
       "      <td>2023-05-09T18:26:52.954Z</td>\n",
       "      <td>{'meta': {'concept-type': 'granule', 'concept-...</td>\n",
       "    </tr>\n",
       "    <tr>\n",
       "      <th>23</th>\n",
       "      <td>HLS.S30.T11SLA.2023131T183919.v2.0</td>\n",
       "      <td>S30</td>\n",
       "      <td>11SLA</td>\n",
       "      <td>2023-05-11</td>\n",
       "      <td>2023-05-11T18:54:18.162Z</td>\n",
       "      <td>{'meta': {'concept-type': 'granule', 'concept-...</td>\n",
       "    </tr>\n",
       "    <tr>\n",
       "      <th>24</th>\n",
       "      <td>HLS.S30.T11SLA.2023133T182921.v2.0</td>\n",
       "      <td>S30</td>\n",
       "      <td>11SLA</td>\n",
       "      <td>2023-05-13</td>\n",
       "      <td>2023-05-13T18:44:19.667Z</td>\n",
       "      <td>{'meta': {'concept-type': 'granule', 'concept-...</td>\n",
       "    </tr>\n",
       "    <tr>\n",
       "      <th>25</th>\n",
       "      <td>HLS.L30.T11SLA.2023136T183258.v2.0</td>\n",
       "      <td>L30</td>\n",
       "      <td>11SLA</td>\n",
       "      <td>2023-05-16</td>\n",
       "      <td>2023-05-16T18:32:58.715Z</td>\n",
       "      <td>{'meta': {'concept-type': 'granule', 'concept-...</td>\n",
       "    </tr>\n",
       "    <tr>\n",
       "      <th>26</th>\n",
       "      <td>HLS.S30.T11SLA.2023136T183921.v2.0</td>\n",
       "      <td>S30</td>\n",
       "      <td>11SLA</td>\n",
       "      <td>2023-05-16</td>\n",
       "      <td>2023-05-16T18:54:16.890Z</td>\n",
       "      <td>{'meta': {'concept-type': 'granule', 'concept-...</td>\n",
       "    </tr>\n",
       "    <tr>\n",
       "      <th>27</th>\n",
       "      <td>HLS.L30.T11SLA.2023137T182707.v2.0</td>\n",
       "      <td>L30</td>\n",
       "      <td>11SLA</td>\n",
       "      <td>2023-05-17</td>\n",
       "      <td>2023-05-17T18:27:07.377Z</td>\n",
       "      <td>{'meta': {'concept-type': 'granule', 'concept-...</td>\n",
       "    </tr>\n",
       "    <tr>\n",
       "      <th>28</th>\n",
       "      <td>HLS.S30.T11SLA.2023138T182919.v2.0</td>\n",
       "      <td>S30</td>\n",
       "      <td>11SLA</td>\n",
       "      <td>2023-05-18</td>\n",
       "      <td>2023-05-18T18:44:24.412Z</td>\n",
       "      <td>{'meta': {'concept-type': 'granule', 'concept-...</td>\n",
       "    </tr>\n",
       "    <tr>\n",
       "      <th>29</th>\n",
       "      <td>HLS.S30.T11SLA.2023141T183929.v2.0</td>\n",
       "      <td>S30</td>\n",
       "      <td>11SLA</td>\n",
       "      <td>2023-05-21</td>\n",
       "      <td>2023-05-21T18:54:20.586Z</td>\n",
       "      <td>{'meta': {'concept-type': 'granule', 'concept-...</td>\n",
       "    </tr>\n",
       "    <tr>\n",
       "      <th>30</th>\n",
       "      <td>HLS.S30.T11SLA.2023143T182921.v2.0</td>\n",
       "      <td>S30</td>\n",
       "      <td>11SLA</td>\n",
       "      <td>2023-05-23</td>\n",
       "      <td>2023-05-23T18:44:22.839Z</td>\n",
       "      <td>{'meta': {'concept-type': 'granule', 'concept-...</td>\n",
       "    </tr>\n",
       "    <tr>\n",
       "      <th>31</th>\n",
       "      <td>HLS.L30.T11SLA.2023144T183311.v2.0</td>\n",
       "      <td>L30</td>\n",
       "      <td>11SLA</td>\n",
       "      <td>2023-05-24</td>\n",
       "      <td>2023-05-24T18:33:11.430Z</td>\n",
       "      <td>{'meta': {'concept-type': 'granule', 'concept-...</td>\n",
       "    </tr>\n",
       "    <tr>\n",
       "      <th>32</th>\n",
       "      <td>HLS.L30.T11SLA.2023145T182650.v2.0</td>\n",
       "      <td>L30</td>\n",
       "      <td>11SLA</td>\n",
       "      <td>2023-05-25</td>\n",
       "      <td>2023-05-25T18:26:50.724Z</td>\n",
       "      <td>{'meta': {'concept-type': 'granule', 'concept-...</td>\n",
       "    </tr>\n",
       "    <tr>\n",
       "      <th>33</th>\n",
       "      <td>HLS.S30.T11SLA.2023146T183921.v2.0</td>\n",
       "      <td>S30</td>\n",
       "      <td>11SLA</td>\n",
       "      <td>2023-05-26</td>\n",
       "      <td>2023-05-26T18:54:19.129Z</td>\n",
       "      <td>{'meta': {'concept-type': 'granule', 'concept-...</td>\n",
       "    </tr>\n",
       "    <tr>\n",
       "      <th>34</th>\n",
       "      <td>HLS.S30.T11SLA.2023148T182919.v2.0</td>\n",
       "      <td>S30</td>\n",
       "      <td>11SLA</td>\n",
       "      <td>2023-05-28</td>\n",
       "      <td>2023-05-28T18:44:24.026Z</td>\n",
       "      <td>{'meta': {'concept-type': 'granule', 'concept-...</td>\n",
       "    </tr>\n",
       "    <tr>\n",
       "      <th>35</th>\n",
       "      <td>HLS.S30.T11SLA.2023151T183919.v2.0</td>\n",
       "      <td>S30</td>\n",
       "      <td>11SLA</td>\n",
       "      <td>2023-05-31</td>\n",
       "      <td>2023-05-31T18:54:19.463Z</td>\n",
       "      <td>{'meta': {'concept-type': 'granule', 'concept-...</td>\n",
       "    </tr>\n",
       "    <tr>\n",
       "      <th>36</th>\n",
       "      <td>HLS.L30.T11SLA.2023152T183301.v2.0</td>\n",
       "      <td>L30</td>\n",
       "      <td>11SLA</td>\n",
       "      <td>2023-06-01</td>\n",
       "      <td>2023-06-01T18:33:01.373Z</td>\n",
       "      <td>{'meta': {'concept-type': 'granule', 'concept-...</td>\n",
       "    </tr>\n",
       "  </tbody>\n",
       "</table>\n",
       "</div>"
      ],
      "text/plain": [
       "                                    ID sensor   tile    date_UTC  \\\n",
       "0   HLS.S30.T11SLA.2023091T183929.v2.0    S30  11SLA  2023-04-01   \n",
       "1   HLS.S30.T11SLA.2023093T182921.v2.0    S30  11SLA  2023-04-03   \n",
       "2   HLS.L30.T11SLA.2023096T183339.v2.0    L30  11SLA  2023-04-06   \n",
       "3   HLS.S30.T11SLA.2023096T183921.v2.0    S30  11SLA  2023-04-06   \n",
       "4   HLS.L30.T11SLA.2023097T182710.v2.0    L30  11SLA  2023-04-07   \n",
       "5   HLS.S30.T11SLA.2023098T182919.v2.0    S30  11SLA  2023-04-08   \n",
       "6   HLS.S30.T11SLA.2023101T183919.v2.0    S30  11SLA  2023-04-11   \n",
       "7   HLS.S30.T11SLA.2023103T182921.v2.0    S30  11SLA  2023-04-13   \n",
       "8   HLS.L30.T11SLA.2023104T183316.v2.0    L30  11SLA  2023-04-14   \n",
       "9   HLS.L30.T11SLA.2023105T182723.v2.0    L30  11SLA  2023-04-15   \n",
       "10  HLS.S30.T11SLA.2023108T182919.v2.0    S30  11SLA  2023-04-18   \n",
       "11  HLS.S30.T11SLA.2023111T183919.v2.0    S30  11SLA  2023-04-21   \n",
       "12  HLS.L30.T11SLA.2023112T183333.v2.0    L30  11SLA  2023-04-22   \n",
       "13  HLS.S30.T11SLA.2023113T182921.v2.0    S30  11SLA  2023-04-23   \n",
       "14  HLS.S30.T11SLA.2023116T183921.v2.0    S30  11SLA  2023-04-26   \n",
       "15  HLS.S30.T11SLA.2023118T182919.v2.0    S30  11SLA  2023-04-28   \n",
       "16  HLS.L30.T11SLA.2023120T183311.v2.0    L30  11SLA  2023-04-30   \n",
       "17  HLS.L30.T11SLA.2023121T182714.v2.0    L30  11SLA  2023-05-01   \n",
       "18  HLS.S30.T11SLA.2023121T183919.v2.0    S30  11SLA  2023-05-01   \n",
       "19  HLS.S30.T11SLA.2023123T182921.v2.0    S30  11SLA  2023-05-03   \n",
       "20  HLS.S30.T11SLA.2023126T183921.v2.0    S30  11SLA  2023-05-06   \n",
       "21  HLS.L30.T11SLA.2023128T183322.v2.0    L30  11SLA  2023-05-08   \n",
       "22  HLS.L30.T11SLA.2023129T182652.v2.0    L30  11SLA  2023-05-09   \n",
       "23  HLS.S30.T11SLA.2023131T183919.v2.0    S30  11SLA  2023-05-11   \n",
       "24  HLS.S30.T11SLA.2023133T182921.v2.0    S30  11SLA  2023-05-13   \n",
       "25  HLS.L30.T11SLA.2023136T183258.v2.0    L30  11SLA  2023-05-16   \n",
       "26  HLS.S30.T11SLA.2023136T183921.v2.0    S30  11SLA  2023-05-16   \n",
       "27  HLS.L30.T11SLA.2023137T182707.v2.0    L30  11SLA  2023-05-17   \n",
       "28  HLS.S30.T11SLA.2023138T182919.v2.0    S30  11SLA  2023-05-18   \n",
       "29  HLS.S30.T11SLA.2023141T183929.v2.0    S30  11SLA  2023-05-21   \n",
       "30  HLS.S30.T11SLA.2023143T182921.v2.0    S30  11SLA  2023-05-23   \n",
       "31  HLS.L30.T11SLA.2023144T183311.v2.0    L30  11SLA  2023-05-24   \n",
       "32  HLS.L30.T11SLA.2023145T182650.v2.0    L30  11SLA  2023-05-25   \n",
       "33  HLS.S30.T11SLA.2023146T183921.v2.0    S30  11SLA  2023-05-26   \n",
       "34  HLS.S30.T11SLA.2023148T182919.v2.0    S30  11SLA  2023-05-28   \n",
       "35  HLS.S30.T11SLA.2023151T183919.v2.0    S30  11SLA  2023-05-31   \n",
       "36  HLS.L30.T11SLA.2023152T183301.v2.0    L30  11SLA  2023-06-01   \n",
       "\n",
       "               timestamp_str  \\\n",
       "0   2023-04-01T18:54:19.092Z   \n",
       "1   2023-04-03T18:44:19.031Z   \n",
       "2   2023-04-06T18:33:39.624Z   \n",
       "3   2023-04-06T18:54:15.555Z   \n",
       "4   2023-04-07T18:27:10.782Z   \n",
       "5   2023-04-08T18:44:21.913Z   \n",
       "6   2023-04-11T18:54:16.912Z   \n",
       "7   2023-04-13T18:44:19.645Z   \n",
       "8   2023-04-14T18:33:16.349Z   \n",
       "9   2023-04-15T18:27:23.147Z   \n",
       "10  2023-04-18T18:44:21.383Z   \n",
       "11  2023-04-21T18:54:17.669Z   \n",
       "12  2023-04-22T18:33:33.474Z   \n",
       "13  2023-04-23T18:44:19.017Z   \n",
       "14  2023-04-26T18:54:15.606Z   \n",
       "15  2023-04-28T18:44:21.398Z   \n",
       "16  2023-04-30T18:33:11.857Z   \n",
       "17  2023-05-01T18:27:14.701Z   \n",
       "18  2023-05-01T18:54:17.922Z   \n",
       "19  2023-05-03T18:44:19.988Z   \n",
       "20  2023-05-06T18:54:15.738Z   \n",
       "21  2023-05-08T18:33:22.278Z   \n",
       "22  2023-05-09T18:26:52.954Z   \n",
       "23  2023-05-11T18:54:18.162Z   \n",
       "24  2023-05-13T18:44:19.667Z   \n",
       "25  2023-05-16T18:32:58.715Z   \n",
       "26  2023-05-16T18:54:16.890Z   \n",
       "27  2023-05-17T18:27:07.377Z   \n",
       "28  2023-05-18T18:44:24.412Z   \n",
       "29  2023-05-21T18:54:20.586Z   \n",
       "30  2023-05-23T18:44:22.839Z   \n",
       "31  2023-05-24T18:33:11.430Z   \n",
       "32  2023-05-25T18:26:50.724Z   \n",
       "33  2023-05-26T18:54:19.129Z   \n",
       "34  2023-05-28T18:44:24.026Z   \n",
       "35  2023-05-31T18:54:19.463Z   \n",
       "36  2023-06-01T18:33:01.373Z   \n",
       "\n",
       "                                              granule  \n",
       "0   {'meta': {'concept-type': 'granule', 'concept-...  \n",
       "1   {'meta': {'concept-type': 'granule', 'concept-...  \n",
       "2   {'meta': {'concept-type': 'granule', 'concept-...  \n",
       "3   {'meta': {'concept-type': 'granule', 'concept-...  \n",
       "4   {'meta': {'concept-type': 'granule', 'concept-...  \n",
       "5   {'meta': {'concept-type': 'granule', 'concept-...  \n",
       "6   {'meta': {'concept-type': 'granule', 'concept-...  \n",
       "7   {'meta': {'concept-type': 'granule', 'concept-...  \n",
       "8   {'meta': {'concept-type': 'granule', 'concept-...  \n",
       "9   {'meta': {'concept-type': 'granule', 'concept-...  \n",
       "10  {'meta': {'concept-type': 'granule', 'concept-...  \n",
       "11  {'meta': {'concept-type': 'granule', 'concept-...  \n",
       "12  {'meta': {'concept-type': 'granule', 'concept-...  \n",
       "13  {'meta': {'concept-type': 'granule', 'concept-...  \n",
       "14  {'meta': {'concept-type': 'granule', 'concept-...  \n",
       "15  {'meta': {'concept-type': 'granule', 'concept-...  \n",
       "16  {'meta': {'concept-type': 'granule', 'concept-...  \n",
       "17  {'meta': {'concept-type': 'granule', 'concept-...  \n",
       "18  {'meta': {'concept-type': 'granule', 'concept-...  \n",
       "19  {'meta': {'concept-type': 'granule', 'concept-...  \n",
       "20  {'meta': {'concept-type': 'granule', 'concept-...  \n",
       "21  {'meta': {'concept-type': 'granule', 'concept-...  \n",
       "22  {'meta': {'concept-type': 'granule', 'concept-...  \n",
       "23  {'meta': {'concept-type': 'granule', 'concept-...  \n",
       "24  {'meta': {'concept-type': 'granule', 'concept-...  \n",
       "25  {'meta': {'concept-type': 'granule', 'concept-...  \n",
       "26  {'meta': {'concept-type': 'granule', 'concept-...  \n",
       "27  {'meta': {'concept-type': 'granule', 'concept-...  \n",
       "28  {'meta': {'concept-type': 'granule', 'concept-...  \n",
       "29  {'meta': {'concept-type': 'granule', 'concept-...  \n",
       "30  {'meta': {'concept-type': 'granule', 'concept-...  \n",
       "31  {'meta': {'concept-type': 'granule', 'concept-...  \n",
       "32  {'meta': {'concept-type': 'granule', 'concept-...  \n",
       "33  {'meta': {'concept-type': 'granule', 'concept-...  \n",
       "34  {'meta': {'concept-type': 'granule', 'concept-...  \n",
       "35  {'meta': {'concept-type': 'granule', 'concept-...  \n",
       "36  {'meta': {'concept-type': 'granule', 'concept-...  "
      ]
     },
     "execution_count": 13,
     "metadata": {},
     "output_type": "execute_result"
    }
   ],
   "source": [
    "HLS.search(\n",
    "    tile=\"11SLA\",\n",
    "    start_UTC=start_date,\n",
    "    end_UTC=end_date\n",
    ")"
   ]
  },
  {
   "cell_type": "code",
   "execution_count": 14,
   "id": "2f38616a",
   "metadata": {},
   "outputs": [
    {
     "name": "stdout",
     "output_type": "stream",
     "text": [
      "[2025-06-18 09:30:30 INFO] searching for Sentinel tile \u001b[33m11SLA\u001b[0m on \u001b[32m2023-04-01\u001b[0m\n",
      "[2025-06-18 09:30:30 INFO] started listing available HLS2 granules at tile \u001b[33m11SLA\u001b[0m from \u001b[32m2023-04-01\u001b[0m to \u001b[32m2023-04-01\u001b[0m\n",
      "[2025-06-18 09:30:30 INFO] searching HLSS30.v2.0, HLSL30.v2.0 at 11SLA from 2023-03-16 to 2023-04-01\n",
      "[2025-06-18 09:30:33 INFO] Currently storing \u001b[36m47\u001b[0m DataGranules for HLS2\n",
      "[2025-06-18 09:30:33 INFO] finished listing available HLS2 granules at tile \u001b[33m11SLA\u001b[0m from \u001b[32m2023-04-01\u001b[0m to \u001b[32m2023-04-01\u001b[0m (3.69)\n",
      "[2025-06-18 09:30:33 INFO] retrieving Sentinel tile \u001b[33m11SLA\u001b[0m on \u001b[32m2023-04-01\u001b[0m: ~/data/HLS2/2023.04.01/HLS.S30.T11SLA.2023091T183929.v2.0\n",
      "[2025-06-18 09:30:33 INFO]  Getting 1 granules, approx download size: 0.23 GB\n"
     ]
    },
    {
     "data": {
      "application/vnd.jupyter.widget-view+json": {
       "model_id": "f05f2a9a47e943b2859c7d3f38a1f629",
       "version_major": 2,
       "version_minor": 0
      },
      "text/plain": [
       "QUEUEING TASKS | :   0%|          | 0/18 [00:00<?, ?it/s]"
      ]
     },
     "metadata": {},
     "output_type": "display_data"
    },
    {
     "name": "stdout",
     "output_type": "stream",
     "text": [
      "[2025-06-18 09:30:33 INFO] File HLS.S30.T11SLA.2023091T183929.v2.0.B10.tif already downloaded\n",
      "[2025-06-18 09:30:33 INFO] File HLS.S30.T11SLA.2023091T183929.v2.0.B09.tif already downloaded\n",
      "[2025-06-18 09:30:33 INFO] File HLS.S30.T11SLA.2023091T183929.v2.0.B03.tif already downloaded\n"
     ]
    },
    {
     "data": {
      "application/vnd.jupyter.widget-view+json": {
       "model_id": "c4861f169a504ee0a74f78f3df8e16e5",
       "version_major": 2,
       "version_minor": 0
      },
      "text/plain": [
       "PROCESSING TASKS | :   0%|          | 0/18 [00:00<?, ?it/s]"
      ]
     },
     "metadata": {},
     "output_type": "display_data"
    },
    {
     "name": "stdout",
     "output_type": "stream",
     "text": [
      "[2025-06-18 09:30:33 INFO] File HLS.S30.T11SLA.2023091T183929.v2.0.B04.tif already downloaded\n",
      "[2025-06-18 09:30:33 INFO] File HLS.S30.T11SLA.2023091T183929.v2.0.B01.tif already downloaded\n",
      "[2025-06-18 09:30:33 INFO] File HLS.S30.T11SLA.2023091T183929.v2.0.B11.tif already downloaded\n",
      "[2025-06-18 09:30:33 INFO] File HLS.S30.T11SLA.2023091T183929.v2.0.VAA.tif already downloaded\n",
      "[2025-06-18 09:30:33 INFO] File HLS.S30.T11SLA.2023091T183929.v2.0.B05.tif already downloaded\n",
      "[2025-06-18 09:30:33 INFO] File HLS.S30.T11SLA.2023091T183929.v2.0.B8A.tif already downloaded\n",
      "[2025-06-18 09:30:33 INFO] File HLS.S30.T11SLA.2023091T183929.v2.0.SAA.tif already downloaded\n",
      "[2025-06-18 09:30:33 INFO] File HLS.S30.T11SLA.2023091T183929.v2.0.B07.tif already downloaded\n",
      "[2025-06-18 09:30:33 INFO] File HLS.S30.T11SLA.2023091T183929.v2.0.VZA.tif already downloaded\n",
      "[2025-06-18 09:30:33 INFO] File HLS.S30.T11SLA.2023091T183929.v2.0.B08.tif already downloaded\n",
      "[2025-06-18 09:30:33 INFO] File HLS.S30.T11SLA.2023091T183929.v2.0.Fmask.tif already downloaded\n",
      "[2025-06-18 09:30:33 INFO] File HLS.S30.T11SLA.2023091T183929.v2.0.B12.tif already downloaded\n",
      "[2025-06-18 09:30:33 INFO] File HLS.S30.T11SLA.2023091T183929.v2.0.B06.tif already downloaded\n",
      "[2025-06-18 09:30:33 INFO] File HLS.S30.T11SLA.2023091T183929.v2.0.SZA.tif already downloaded\n",
      "[2025-06-18 09:30:33 INFO] File HLS.S30.T11SLA.2023091T183929.v2.0.B02.tif already downloaded\n"
     ]
    },
    {
     "data": {
      "application/vnd.jupyter.widget-view+json": {
       "model_id": "05997689029e46b78ca7ded44bf04b6b",
       "version_major": 2,
       "version_minor": 0
      },
      "text/plain": [
       "COLLECTING RESULTS | :   0%|          | 0/18 [00:00<?, ?it/s]"
      ]
     },
     "metadata": {},
     "output_type": "display_data"
    },
    {
     "name": "stdout",
     "output_type": "stream",
     "text": [
      "[2025-06-18 09:30:33 INFO] searching for Landsat tile \u001b[33m11SLA\u001b[0m on \u001b[32m2023-04-01\u001b[0m\n"
     ]
    },
    {
     "data": {
      "image/png": "[encoded data removed]",
      "text/plain": [
       "<rasters.raster.Raster at 0x15d621600>"
      ]
     },
     "execution_count": 14,
     "metadata": {},
     "output_type": "execute_result"
    }
   ],
   "source": [
    "HLS.NDVI(\"11SLA\", \"2023-04-01\").to_geometry(grid)"
   ]
  },
  {
   "cell_type": "code",
   "execution_count": null,
   "id": "9a9654ae",
   "metadata": {},
   "outputs": [
    {
     "name": "stdout",
     "output_type": "stream",
     "text": [
      "[2025-06-18 09:30:35 INFO] Generating HLS timeseries with parameters:\n",
      "[2025-06-18 09:30:35 INFO]   Bands: red, green, blue, NIR, SWIR1, SWIR2\n",
      "[2025-06-18 09:30:35 INFO]   Tile: 11SLA\n",
      "[2025-06-18 09:30:35 INFO]   Start date: 2023-04-01\n",
      "[2025-06-18 09:30:35 INFO]   End date: 2023-06-01\n",
      "[2025-06-18 09:30:35 INFO]   Directory: ~/data/HLS2\n",
      "[2025-06-18 09:30:35 INFO] started listing available HLS2 granules at tile \u001b[33m11SLA\u001b[0m from \u001b[32m2023-04-01\u001b[0m to \u001b[32m2023-06-01\u001b[0m\n",
      "[2025-06-18 09:30:35 INFO] searching HLSS30.v2.0, HLSL30.v2.0 at 11SLA from 2023-03-16 to 2023-06-01\n",
      "[2025-06-18 09:30:43 INFO] Currently storing \u001b[36m47\u001b[0m DataGranules for HLS2\n",
      "[2025-06-18 09:30:43 INFO] finished listing available HLS2 granules at tile \u001b[33m11SLA\u001b[0m from \u001b[32m2023-04-01\u001b[0m to \u001b[32m2023-06-01\u001b[0m (8.14)\n",
      "[2025-06-18 09:30:43 INFO] 34 dates available:\n",
      "[2025-06-18 09:30:43 INFO]   * 2023-04-01\n",
      "[2025-06-18 09:30:43 INFO]   * 2023-04-03\n",
      "[2025-06-18 09:30:43 INFO]   * 2023-04-06\n",
      "[2025-06-18 09:30:43 INFO]   * 2023-04-07\n",
      "[2025-06-18 09:30:43 INFO]   * 2023-04-08\n",
      "[2025-06-18 09:30:43 INFO]   * 2023-04-11\n",
      "[2025-06-18 09:30:43 INFO]   * 2023-04-13\n",
      "[2025-06-18 09:30:43 INFO]   * 2023-04-14\n",
      "[2025-06-18 09:30:43 INFO]   * 2023-04-15\n",
      "[2025-06-18 09:30:43 INFO]   * 2023-04-18\n",
      "[2025-06-18 09:30:43 INFO]   * 2023-04-21\n",
      "[2025-06-18 09:30:43 INFO]   * 2023-04-22\n",
      "[2025-06-18 09:30:43 INFO]   * 2023-04-23\n",
      "[2025-06-18 09:30:43 INFO]   * 2023-04-26\n",
      "[2025-06-18 09:30:43 INFO]   * 2023-04-28\n",
      "[2025-06-18 09:30:43 INFO]   * 2023-04-30\n",
      "[2025-06-18 09:30:43 INFO]   * 2023-05-01\n",
      "[2025-06-18 09:30:43 INFO]   * 2023-05-03\n",
      "[2025-06-18 09:30:43 INFO]   * 2023-05-06\n",
      "[2025-06-18 09:30:43 INFO]   * 2023-05-08\n",
      "[2025-06-18 09:30:43 INFO]   * 2023-05-09\n",
      "[2025-06-18 09:30:43 INFO]   * 2023-05-11\n",
      "[2025-06-18 09:30:43 INFO]   * 2023-05-13\n",
      "[2025-06-18 09:30:43 INFO]   * 2023-05-16\n",
      "[2025-06-18 09:30:43 INFO]   * 2023-05-17\n",
      "[2025-06-18 09:30:43 INFO]   * 2023-05-18\n",
      "[2025-06-18 09:30:43 INFO]   * 2023-05-21\n",
      "[2025-06-18 09:30:43 INFO]   * 2023-05-23\n",
      "[2025-06-18 09:30:43 INFO]   * 2023-05-24\n",
      "[2025-06-18 09:30:43 INFO]   * 2023-05-25\n",
      "[2025-06-18 09:30:43 INFO]   * 2023-05-26\n",
      "[2025-06-18 09:30:43 INFO]   * 2023-05-28\n",
      "[2025-06-18 09:30:43 INFO]   * 2023-05-31\n",
      "[2025-06-18 09:30:43 INFO]   * 2023-06-01\n",
      "[2025-06-18 09:30:43 INFO] extracting band ['red', 'green', 'blue', 'NIR', 'SWIR1', 'SWIR2'] for date 2023-04-01\n",
      "[2025-06-18 09:30:43 INFO] searching for Sentinel tile \u001b[33m11SLA\u001b[0m on \u001b[32m2023-04-01\u001b[0m\n",
      "[2025-06-18 09:30:43 INFO] retrieving Sentinel tile \u001b[33m11SLA\u001b[0m on \u001b[32m2023-04-01\u001b[0m: ~/data/HLS2/2023.04.01/HLS.S30.T11SLA.2023091T183929.v2.0\n",
      "[2025-06-18 09:30:43 INFO]  Getting 1 granules, approx download size: 0.23 GB\n"
     ]
    },
    {
     "data": {
      "application/vnd.jupyter.widget-view+json": {
       "model_id": "fc7565392ce549509ae7a3722264315f",
       "version_major": 2,
       "version_minor": 0
      },
      "text/plain": [
       "QUEUEING TASKS | :   0%|          | 0/18 [00:00<?, ?it/s]"
      ]
     },
     "metadata": {},
     "output_type": "display_data"
    },
    {
     "name": "stdout",
     "output_type": "stream",
     "text": [
      "[2025-06-18 09:30:43 INFO] File HLS.S30.T11SLA.2023091T183929.v2.0.B10.tif already downloaded\n",
      "[2025-06-18 09:30:43 INFO] File HLS.S30.T11SLA.2023091T183929.v2.0.B09.tif already downloaded\n",
      "[2025-06-18 09:30:43 INFO] File HLS.S30.T11SLA.2023091T183929.v2.0.B04.tif already downloaded\n",
      "[2025-06-18 09:30:43 INFO] File HLS.S30.T11SLA.2023091T183929.v2.0.B03.tif already downloaded\n",
      "[2025-06-18 09:30:43 INFO] File HLS.S30.T11SLA.2023091T183929.v2.0.B01.tif already downloaded\n"
     ]
    },
    {
     "data": {
      "application/vnd.jupyter.widget-view+json": {
       "model_id": "76511f2b9ff14a32847eede12d3df58d",
       "version_major": 2,
       "version_minor": 0
      },
      "text/plain": [
       "PROCESSING TASKS | :   0%|          | 0/18 [00:00<?, ?it/s]"
      ]
     },
     "metadata": {},
     "output_type": "display_data"
    },
    {
     "name": "stdout",
     "output_type": "stream",
     "text": [
      "[2025-06-18 09:30:43 INFO] File HLS.S30.T11SLA.2023091T183929.v2.0.VAA.tif already downloaded\n",
      "[2025-06-18 09:30:43 INFO] File HLS.S30.T11SLA.2023091T183929.v2.0.B11.tif already downloaded\n",
      "[2025-06-18 09:30:43 INFO] File HLS.S30.T11SLA.2023091T183929.v2.0.B8A.tif already downloaded\n",
      "[2025-06-18 09:30:43 INFO] File HLS.S30.T11SLA.2023091T183929.v2.0.B05.tif already downloaded\n",
      "[2025-06-18 09:30:43 INFO] File HLS.S30.T11SLA.2023091T183929.v2.0.SAA.tif already downloaded\n",
      "[2025-06-18 09:30:43 INFO] File HLS.S30.T11SLA.2023091T183929.v2.0.B07.tif already downloaded\n",
      "[2025-06-18 09:30:43 INFO] File HLS.S30.T11SLA.2023091T183929.v2.0.VZA.tif already downloaded\n",
      "[2025-06-18 09:30:43 INFO] File HLS.S30.T11SLA.2023091T183929.v2.0.B08.tif already downloaded\n",
      "[2025-06-18 09:30:43 INFO] File HLS.S30.T11SLA.2023091T183929.v2.0.Fmask.tif already downloaded\n",
      "[2025-06-18 09:30:43 INFO] File HLS.S30.T11SLA.2023091T183929.v2.0.B12.tif already downloaded\n",
      "[2025-06-18 09:30:43 INFO] File HLS.S30.T11SLA.2023091T183929.v2.0.B06.tif already downloaded\n",
      "[2025-06-18 09:30:43 INFO] File HLS.S30.T11SLA.2023091T183929.v2.0.SZA.tif already downloaded\n",
      "[2025-06-18 09:30:43 INFO] File HLS.S30.T11SLA.2023091T183929.v2.0.B02.tif already downloaded\n"
     ]
    },
    {
     "data": {
      "application/vnd.jupyter.widget-view+json": {
       "model_id": "8c76e18129b4432e9dee47b63a662e45",
       "version_major": 2,
       "version_minor": 0
      },
      "text/plain": [
       "COLLECTING RESULTS | :   0%|          | 0/18 [00:00<?, ?it/s]"
      ]
     },
     "metadata": {},
     "output_type": "display_data"
    },
    {
     "name": "stdout",
     "output_type": "stream",
     "text": [
      "[2025-06-18 09:30:43 INFO] searching for Landsat tile \u001b[33m11SLA\u001b[0m on \u001b[32m2023-04-01\u001b[0m\n",
      "[2025-06-18 09:30:43 INFO] writing image to ~/data/kings_canyon_HLS/HLS_red_11SLA_20230401.tif\n",
      "[2025-06-18 09:30:45 INFO] extracting band ['red', 'green', 'blue', 'NIR', 'SWIR1', 'SWIR2'] for date 2023-04-01\n",
      "[2025-06-18 09:30:45 INFO] searching for Sentinel tile \u001b[33m11SLA\u001b[0m on \u001b[32m2023-04-01\u001b[0m\n",
      "[2025-06-18 09:30:45 INFO] retrieving Sentinel tile \u001b[33m11SLA\u001b[0m on \u001b[32m2023-04-01\u001b[0m: ~/data/HLS2/2023.04.01/HLS.S30.T11SLA.2023091T183929.v2.0\n",
      "[2025-06-18 09:30:45 INFO]  Getting 1 granules, approx download size: 0.23 GB\n"
     ]
    },
    {
     "data": {
      "application/vnd.jupyter.widget-view+json": {
       "model_id": "6d43545f660743d8b27d814e4204254e",
       "version_major": 2,
       "version_minor": 0
      },
      "text/plain": [
       "QUEUEING TASKS | :   0%|          | 0/18 [00:00<?, ?it/s]"
      ]
     },
     "metadata": {},
     "output_type": "display_data"
    },
    {
     "name": "stdout",
     "output_type": "stream",
     "text": [
      "[2025-06-18 09:30:45 INFO] File HLS.S30.T11SLA.2023091T183929.v2.0.B09.tif already downloaded\n",
      "[2025-06-18 09:30:45 INFO] File HLS.S30.T11SLA.2023091T183929.v2.0.B10.tif already downloaded\n",
      "[2025-06-18 09:30:45 INFO] File HLS.S30.T11SLA.2023091T183929.v2.0.B04.tif already downloaded\n",
      "[2025-06-18 09:30:45 INFO] File HLS.S30.T11SLA.2023091T183929.v2.0.B03.tif already downloaded\n"
     ]
    },
    {
     "data": {
      "application/vnd.jupyter.widget-view+json": {
       "model_id": "8375126044844239a33424b4801db22c",
       "version_major": 2,
       "version_minor": 0
      },
      "text/plain": [
       "PROCESSING TASKS | :   0%|          | 0/18 [00:00<?, ?it/s]"
      ]
     },
     "metadata": {},
     "output_type": "display_data"
    },
    {
     "name": "stdout",
     "output_type": "stream",
     "text": [
      "[2025-06-18 09:30:45 INFO] File HLS.S30.T11SLA.2023091T183929.v2.0.B01.tif already downloaded\n",
      "[2025-06-18 09:30:45 INFO] File HLS.S30.T11SLA.2023091T183929.v2.0.B11.tif already downloaded\n",
      "[2025-06-18 09:30:45 INFO] File HLS.S30.T11SLA.2023091T183929.v2.0.B05.tif already downloaded\n",
      "[2025-06-18 09:30:45 INFO] File HLS.S30.T11SLA.2023091T183929.v2.0.VAA.tif already downloaded\n",
      "[2025-06-18 09:30:45 INFO] File HLS.S30.T11SLA.2023091T183929.v2.0.B8A.tif already downloaded\n",
      "[2025-06-18 09:30:45 INFO] File HLS.S30.T11SLA.2023091T183929.v2.0.SAA.tif already downloaded\n",
      "[2025-06-18 09:30:45 INFO] File HLS.S30.T11SLA.2023091T183929.v2.0.B07.tif already downloaded\n",
      "[2025-06-18 09:30:45 INFO] File HLS.S30.T11SLA.2023091T183929.v2.0.VZA.tif already downloaded\n",
      "[2025-06-18 09:30:45 INFO] File HLS.S30.T11SLA.2023091T183929.v2.0.B08.tif already downloaded\n",
      "[2025-06-18 09:30:45 INFO] File HLS.S30.T11SLA.2023091T183929.v2.0.Fmask.tif already downloaded\n",
      "[2025-06-18 09:30:45 INFO] File HLS.S30.T11SLA.2023091T183929.v2.0.B12.tif already downloaded\n",
      "[2025-06-18 09:30:45 INFO] File HLS.S30.T11SLA.2023091T183929.v2.0.B06.tif already downloaded\n",
      "[2025-06-18 09:30:45 INFO] File HLS.S30.T11SLA.2023091T183929.v2.0.SZA.tif already downloaded\n",
      "[2025-06-18 09:30:45 INFO] File HLS.S30.T11SLA.2023091T183929.v2.0.B02.tif already downloaded\n"
     ]
    },
    {
     "data": {
      "application/vnd.jupyter.widget-view+json": {
       "model_id": "3997e6fb7a9f44a8b2abcd27240a7579",
       "version_major": 2,
       "version_minor": 0
      },
      "text/plain": [
       "COLLECTING RESULTS | :   0%|          | 0/18 [00:00<?, ?it/s]"
      ]
     },
     "metadata": {},
     "output_type": "display_data"
    },
    {
     "name": "stdout",
     "output_type": "stream",
     "text": [
      "[2025-06-18 09:30:45 INFO] searching for Landsat tile \u001b[33m11SLA\u001b[0m on \u001b[32m2023-04-01\u001b[0m\n",
      "[2025-06-18 09:30:46 INFO] writing image to ~/data/kings_canyon_HLS/HLS_green_11SLA_20230401.tif\n",
      "[2025-06-18 09:30:48 INFO] extracting band ['red', 'green', 'blue', 'NIR', 'SWIR1', 'SWIR2'] for date 2023-04-01\n",
      "[2025-06-18 09:30:48 INFO] searching for Sentinel tile \u001b[33m11SLA\u001b[0m on \u001b[32m2023-04-01\u001b[0m\n",
      "[2025-06-18 09:30:48 INFO] retrieving Sentinel tile \u001b[33m11SLA\u001b[0m on \u001b[32m2023-04-01\u001b[0m: ~/data/HLS2/2023.04.01/HLS.S30.T11SLA.2023091T183929.v2.0\n",
      "[2025-06-18 09:30:48 INFO]  Getting 1 granules, approx download size: 0.23 GB\n"
     ]
    },
    {
     "data": {
      "application/vnd.jupyter.widget-view+json": {
       "model_id": "3bdef43996a64916ab912f73360f912b",
       "version_major": 2,
       "version_minor": 0
      },
      "text/plain": [
       "QUEUEING TASKS | :   0%|          | 0/18 [00:00<?, ?it/s]"
      ]
     },
     "metadata": {},
     "output_type": "display_data"
    },
    {
     "name": "stdout",
     "output_type": "stream",
     "text": [
      "[2025-06-18 09:30:48 INFO] File HLS.S30.T11SLA.2023091T183929.v2.0.B09.tif already downloaded\n",
      "[2025-06-18 09:30:48 INFO] File HLS.S30.T11SLA.2023091T183929.v2.0.B10.tif already downloaded\n",
      "[2025-06-18 09:30:48 INFO] File HLS.S30.T11SLA.2023091T183929.v2.0.B01.tif already downloaded\n",
      "[2025-06-18 09:30:48 INFO] File HLS.S30.T11SLA.2023091T183929.v2.0.B03.tif already downloaded\n"
     ]
    },
    {
     "data": {
      "application/vnd.jupyter.widget-view+json": {
       "model_id": "9973a275eac94137b837daf4d6b1be8e",
       "version_major": 2,
       "version_minor": 0
      },
      "text/plain": [
       "PROCESSING TASKS | :   0%|          | 0/18 [00:00<?, ?it/s]"
      ]
     },
     "metadata": {},
     "output_type": "display_data"
    },
    {
     "name": "stdout",
     "output_type": "stream",
     "text": [
      "[2025-06-18 09:30:48 INFO] File HLS.S30.T11SLA.2023091T183929.v2.0.B11.tif already downloaded\n",
      "[2025-06-18 09:30:48 INFO] File HLS.S30.T11SLA.2023091T183929.v2.0.B04.tif already downloaded\n",
      "[2025-06-18 09:30:48 INFO] File HLS.S30.T11SLA.2023091T183929.v2.0.B05.tif already downloaded\n",
      "[2025-06-18 09:30:48 INFO] File HLS.S30.T11SLA.2023091T183929.v2.0.VAA.tif already downloaded\n",
      "[2025-06-18 09:30:48 INFO] File HLS.S30.T11SLA.2023091T183929.v2.0.B8A.tif already downloaded\n",
      "[2025-06-18 09:30:48 INFO] File HLS.S30.T11SLA.2023091T183929.v2.0.SAA.tif already downloaded\n",
      "[2025-06-18 09:30:48 INFO] File HLS.S30.T11SLA.2023091T183929.v2.0.B07.tif already downloaded\n",
      "[2025-06-18 09:30:48 INFO] File HLS.S30.T11SLA.2023091T183929.v2.0.VZA.tif already downloaded\n",
      "[2025-06-18 09:30:48 INFO] File HLS.S30.T11SLA.2023091T183929.v2.0.B08.tif already downloaded\n",
      "[2025-06-18 09:30:48 INFO] File HLS.S30.T11SLA.2023091T183929.v2.0.Fmask.tif already downloaded\n",
      "[2025-06-18 09:30:48 INFO] File HLS.S30.T11SLA.2023091T183929.v2.0.B12.tif already downloaded\n",
      "[2025-06-18 09:30:48 INFO] File HLS.S30.T11SLA.2023091T183929.v2.0.B06.tif already downloaded\n",
      "[2025-06-18 09:30:48 INFO] File HLS.S30.T11SLA.2023091T183929.v2.0.SZA.tif already downloaded\n",
      "[2025-06-18 09:30:48 INFO] File HLS.S30.T11SLA.2023091T183929.v2.0.B02.tif already downloaded\n"
     ]
    },
    {
     "data": {
      "application/vnd.jupyter.widget-view+json": {
       "model_id": "b147d3faf01747ce9e62c7e8d6f88c1b",
       "version_major": 2,
       "version_minor": 0
      },
      "text/plain": [
       "COLLECTING RESULTS | :   0%|          | 0/18 [00:00<?, ?it/s]"
      ]
     },
     "metadata": {},
     "output_type": "display_data"
    },
    {
     "name": "stdout",
     "output_type": "stream",
     "text": [
      "[2025-06-18 09:30:48 INFO] searching for Landsat tile \u001b[33m11SLA\u001b[0m on \u001b[32m2023-04-01\u001b[0m\n",
      "[2025-06-18 09:30:48 INFO] writing image to ~/data/kings_canyon_HLS/HLS_blue_11SLA_20230401.tif\n",
      "[2025-06-18 09:30:50 INFO] extracting band ['red', 'green', 'blue', 'NIR', 'SWIR1', 'SWIR2'] for date 2023-04-01\n",
      "[2025-06-18 09:30:50 INFO] searching for Sentinel tile \u001b[33m11SLA\u001b[0m on \u001b[32m2023-04-01\u001b[0m\n",
      "[2025-06-18 09:30:50 INFO] retrieving Sentinel tile \u001b[33m11SLA\u001b[0m on \u001b[32m2023-04-01\u001b[0m: ~/data/HLS2/2023.04.01/HLS.S30.T11SLA.2023091T183929.v2.0\n",
      "[2025-06-18 09:30:50 INFO]  Getting 1 granules, approx download size: 0.23 GB\n"
     ]
    },
    {
     "data": {
      "application/vnd.jupyter.widget-view+json": {
       "model_id": "edd858dbf2dc463896b2efde4e3d9d6b",
       "version_major": 2,
       "version_minor": 0
      },
      "text/plain": [
       "QUEUEING TASKS | :   0%|          | 0/18 [00:00<?, ?it/s]"
      ]
     },
     "metadata": {},
     "output_type": "display_data"
    },
    {
     "name": "stdout",
     "output_type": "stream",
     "text": [
      "[2025-06-18 09:30:50 INFO] File HLS.S30.T11SLA.2023091T183929.v2.0.B09.tif already downloaded\n",
      "[2025-06-18 09:30:50 INFO] File HLS.S30.T11SLA.2023091T183929.v2.0.B10.tif already downloaded\n"
     ]
    },
    {
     "data": {
      "application/vnd.jupyter.widget-view+json": {
       "model_id": "c1229c5fc36c460eb5a37248c5e335d3",
       "version_major": 2,
       "version_minor": 0
      },
      "text/plain": [
       "PROCESSING TASKS | :   0%|          | 0/18 [00:00<?, ?it/s]"
      ]
     },
     "metadata": {},
     "output_type": "display_data"
    },
    {
     "name": "stdout",
     "output_type": "stream",
     "text": [
      "[2025-06-18 09:30:50 INFO] File HLS.S30.T11SLA.2023091T183929.v2.0.B04.tif already downloaded\n",
      "[2025-06-18 09:30:50 INFO] File HLS.S30.T11SLA.2023091T183929.v2.0.B03.tif already downloaded\n",
      "[2025-06-18 09:30:50 INFO] File HLS.S30.T11SLA.2023091T183929.v2.0.B11.tif already downloaded\n",
      "[2025-06-18 09:30:50 INFO] File HLS.S30.T11SLA.2023091T183929.v2.0.B01.tif already downloaded\n",
      "[2025-06-18 09:30:50 INFO] File HLS.S30.T11SLA.2023091T183929.v2.0.VAA.tif already downloaded\n",
      "[2025-06-18 09:30:50 INFO] File HLS.S30.T11SLA.2023091T183929.v2.0.B05.tif already downloaded\n",
      "[2025-06-18 09:30:50 INFO] File HLS.S30.T11SLA.2023091T183929.v2.0.B8A.tif already downloaded\n",
      "[2025-06-18 09:30:50 INFO] File HLS.S30.T11SLA.2023091T183929.v2.0.SAA.tif already downloaded\n",
      "[2025-06-18 09:30:50 INFO] File HLS.S30.T11SLA.2023091T183929.v2.0.B07.tif already downloaded\n",
      "[2025-06-18 09:30:50 INFO] File HLS.S30.T11SLA.2023091T183929.v2.0.VZA.tif already downloaded\n",
      "[2025-06-18 09:30:50 INFO] File HLS.S30.T11SLA.2023091T183929.v2.0.B08.tif already downloaded\n",
      "[2025-06-18 09:30:50 INFO] File HLS.S30.T11SLA.2023091T183929.v2.0.Fmask.tif already downloaded\n",
      "[2025-06-18 09:30:50 INFO] File HLS.S30.T11SLA.2023091T183929.v2.0.B12.tif already downloaded\n",
      "[2025-06-18 09:30:50 INFO] File HLS.S30.T11SLA.2023091T183929.v2.0.B06.tif already downloaded\n",
      "[2025-06-18 09:30:50 INFO] File HLS.S30.T11SLA.2023091T183929.v2.0.SZA.tif already downloaded\n",
      "[2025-06-18 09:30:50 INFO] File HLS.S30.T11SLA.2023091T183929.v2.0.B02.tif already downloaded\n"
     ]
    },
    {
     "data": {
      "application/vnd.jupyter.widget-view+json": {
       "model_id": "38e4e736166e4822bbf4782396c70da6",
       "version_major": 2,
       "version_minor": 0
      },
      "text/plain": [
       "COLLECTING RESULTS | :   0%|          | 0/18 [00:00<?, ?it/s]"
      ]
     },
     "metadata": {},
     "output_type": "display_data"
    },
    {
     "name": "stdout",
     "output_type": "stream",
     "text": [
      "[2025-06-18 09:30:50 INFO] searching for Landsat tile \u001b[33m11SLA\u001b[0m on \u001b[32m2023-04-01\u001b[0m\n",
      "[2025-06-18 09:30:50 INFO] writing image to ~/data/kings_canyon_HLS/HLS_NIR_11SLA_20230401.tif\n",
      "[2025-06-18 09:30:52 INFO] extracting band ['red', 'green', 'blue', 'NIR', 'SWIR1', 'SWIR2'] for date 2023-04-01\n",
      "[2025-06-18 09:30:52 INFO] searching for Sentinel tile \u001b[33m11SLA\u001b[0m on \u001b[32m2023-04-01\u001b[0m\n",
      "[2025-06-18 09:30:52 INFO] retrieving Sentinel tile \u001b[33m11SLA\u001b[0m on \u001b[32m2023-04-01\u001b[0m: ~/data/HLS2/2023.04.01/HLS.S30.T11SLA.2023091T183929.v2.0\n",
      "[2025-06-18 09:30:52 INFO]  Getting 1 granules, approx download size: 0.23 GB\n"
     ]
    },
    {
     "data": {
      "application/vnd.jupyter.widget-view+json": {
       "model_id": "53c460ac9b51441385365d17e301c945",
       "version_major": 2,
       "version_minor": 0
      },
      "text/plain": [
       "QUEUEING TASKS | :   0%|          | 0/18 [00:00<?, ?it/s]"
      ]
     },
     "metadata": {},
     "output_type": "display_data"
    },
    {
     "name": "stdout",
     "output_type": "stream",
     "text": [
      "[2025-06-18 09:30:52 INFO] File HLS.S30.T11SLA.2023091T183929.v2.0.B09.tif already downloaded\n",
      "[2025-06-18 09:30:52 INFO] File HLS.S30.T11SLA.2023091T183929.v2.0.B04.tif already downloaded\n",
      "[2025-06-18 09:30:52 INFO] File HLS.S30.T11SLA.2023091T183929.v2.0.B10.tif already downloaded\n"
     ]
    },
    {
     "data": {
      "application/vnd.jupyter.widget-view+json": {
       "model_id": "400f0506e63045fbab250fc94e01fda2",
       "version_major": 2,
       "version_minor": 0
      },
      "text/plain": [
       "PROCESSING TASKS | :   0%|          | 0/18 [00:00<?, ?it/s]"
      ]
     },
     "metadata": {},
     "output_type": "display_data"
    },
    {
     "name": "stdout",
     "output_type": "stream",
     "text": [
      "[2025-06-18 09:30:52 INFO] File HLS.S30.T11SLA.2023091T183929.v2.0.B03.tif already downloaded\n",
      "[2025-06-18 09:30:52 INFO] File HLS.S30.T11SLA.2023091T183929.v2.0.B11.tif already downloaded\n",
      "[2025-06-18 09:30:52 INFO] File HLS.S30.T11SLA.2023091T183929.v2.0.B05.tif already downloaded\n",
      "[2025-06-18 09:30:52 INFO] File HLS.S30.T11SLA.2023091T183929.v2.0.B01.tif already downloaded\n",
      "[2025-06-18 09:30:52 INFO] File HLS.S30.T11SLA.2023091T183929.v2.0.VAA.tif already downloaded\n",
      "[2025-06-18 09:30:52 INFO] File HLS.S30.T11SLA.2023091T183929.v2.0.B8A.tif already downloaded\n",
      "[2025-06-18 09:30:52 INFO] File HLS.S30.T11SLA.2023091T183929.v2.0.SAA.tif already downloaded\n",
      "[2025-06-18 09:30:52 INFO] File HLS.S30.T11SLA.2023091T183929.v2.0.B07.tif already downloaded\n",
      "[2025-06-18 09:30:52 INFO] File HLS.S30.T11SLA.2023091T183929.v2.0.VZA.tif already downloaded\n",
      "[2025-06-18 09:30:52 INFO] File HLS.S30.T11SLA.2023091T183929.v2.0.B08.tif already downloaded\n",
      "[2025-06-18 09:30:52 INFO] File HLS.S30.T11SLA.2023091T183929.v2.0.Fmask.tif already downloaded\n",
      "[2025-06-18 09:30:52 INFO] File HLS.S30.T11SLA.2023091T183929.v2.0.B12.tif already downloaded\n",
      "[2025-06-18 09:30:52 INFO] File HLS.S30.T11SLA.2023091T183929.v2.0.B06.tif already downloaded\n",
      "[2025-06-18 09:30:52 INFO] File HLS.S30.T11SLA.2023091T183929.v2.0.SZA.tif already downloaded\n",
      "[2025-06-18 09:30:52 INFO] File HLS.S30.T11SLA.2023091T183929.v2.0.B02.tif already downloaded\n"
     ]
    },
    {
     "data": {
      "application/vnd.jupyter.widget-view+json": {
       "model_id": "bd5dbdd8002f46e49f9ed30368c61af5",
       "version_major": 2,
       "version_minor": 0
      },
      "text/plain": [
       "COLLECTING RESULTS | :   0%|          | 0/18 [00:00<?, ?it/s]"
      ]
     },
     "metadata": {},
     "output_type": "display_data"
    },
    {
     "name": "stdout",
     "output_type": "stream",
     "text": [
      "[2025-06-18 09:30:52 INFO] searching for Landsat tile \u001b[33m11SLA\u001b[0m on \u001b[32m2023-04-01\u001b[0m\n",
      "[2025-06-18 09:30:53 INFO] writing image to ~/data/kings_canyon_HLS/HLS_SWIR1_11SLA_20230401.tif\n",
      "[2025-06-18 09:30:55 INFO] extracting band ['red', 'green', 'blue', 'NIR', 'SWIR1', 'SWIR2'] for date 2023-04-01\n",
      "[2025-06-18 09:30:55 INFO] searching for Sentinel tile \u001b[33m11SLA\u001b[0m on \u001b[32m2023-04-01\u001b[0m\n",
      "[2025-06-18 09:30:55 INFO] retrieving Sentinel tile \u001b[33m11SLA\u001b[0m on \u001b[32m2023-04-01\u001b[0m: ~/data/HLS2/2023.04.01/HLS.S30.T11SLA.2023091T183929.v2.0\n",
      "[2025-06-18 09:30:55 INFO]  Getting 1 granules, approx download size: 0.23 GB\n"
     ]
    },
    {
     "data": {
      "application/vnd.jupyter.widget-view+json": {
       "model_id": "b4b0713bd4484842906912d71c54b760",
       "version_major": 2,
       "version_minor": 0
      },
      "text/plain": [
       "QUEUEING TASKS | :   0%|          | 0/18 [00:00<?, ?it/s]"
      ]
     },
     "metadata": {},
     "output_type": "display_data"
    },
    {
     "name": "stdout",
     "output_type": "stream",
     "text": [
      "[2025-06-18 09:30:55 INFO] File HLS.S30.T11SLA.2023091T183929.v2.0.B09.tif already downloaded\n",
      "[2025-06-18 09:30:55 INFO] File HLS.S30.T11SLA.2023091T183929.v2.0.B04.tif already downloaded\n",
      "[2025-06-18 09:30:55 INFO] File HLS.S30.T11SLA.2023091T183929.v2.0.B10.tif already downloaded\n",
      "[2025-06-18 09:30:55 INFO] File HLS.S30.T11SLA.2023091T183929.v2.0.B03.tif already downloaded\n"
     ]
    },
    {
     "data": {
      "application/vnd.jupyter.widget-view+json": {
       "model_id": "44fb339b249049f9a3117590d665b5de",
       "version_major": 2,
       "version_minor": 0
      },
      "text/plain": [
       "PROCESSING TASKS | :   0%|          | 0/18 [00:00<?, ?it/s]"
      ]
     },
     "metadata": {},
     "output_type": "display_data"
    },
    {
     "name": "stdout",
     "output_type": "stream",
     "text": [
      "[2025-06-18 09:30:55 INFO] File HLS.S30.T11SLA.2023091T183929.v2.0.B01.tif already downloaded\n",
      "[2025-06-18 09:30:55 INFO] File HLS.S30.T11SLA.2023091T183929.v2.0.B05.tif already downloaded\n",
      "[2025-06-18 09:30:55 INFO] File HLS.S30.T11SLA.2023091T183929.v2.0.B11.tif already downloaded\n",
      "[2025-06-18 09:30:55 INFO] File HLS.S30.T11SLA.2023091T183929.v2.0.VAA.tif already downloaded\n",
      "[2025-06-18 09:30:55 INFO] File HLS.S30.T11SLA.2023091T183929.v2.0.B8A.tif already downloaded\n",
      "[2025-06-18 09:30:55 INFO] File HLS.S30.T11SLA.2023091T183929.v2.0.SAA.tif already downloaded\n",
      "[2025-06-18 09:30:55 INFO] File HLS.S30.T11SLA.2023091T183929.v2.0.B07.tif already downloaded\n",
      "[2025-06-18 09:30:55 INFO] File HLS.S30.T11SLA.2023091T183929.v2.0.VZA.tif already downloaded\n",
      "[2025-06-18 09:30:55 INFO] File HLS.S30.T11SLA.2023091T183929.v2.0.B08.tif already downloaded\n",
      "[2025-06-18 09:30:55 INFO] File HLS.S30.T11SLA.2023091T183929.v2.0.Fmask.tif already downloaded\n",
      "[2025-06-18 09:30:55 INFO] File HLS.S30.T11SLA.2023091T183929.v2.0.B12.tif already downloaded\n",
      "[2025-06-18 09:30:55 INFO] File HLS.S30.T11SLA.2023091T183929.v2.0.B06.tif already downloaded\n",
      "[2025-06-18 09:30:55 INFO] File HLS.S30.T11SLA.2023091T183929.v2.0.SZA.tif already downloaded\n",
      "[2025-06-18 09:30:55 INFO] File HLS.S30.T11SLA.2023091T183929.v2.0.B02.tif already downloaded\n"
     ]
    },
    {
     "data": {
      "application/vnd.jupyter.widget-view+json": {
       "model_id": "695e6d814f9e4bbc8da6471ecc40d337",
       "version_major": 2,
       "version_minor": 0
      },
      "text/plain": [
       "COLLECTING RESULTS | :   0%|          | 0/18 [00:00<?, ?it/s]"
      ]
     },
     "metadata": {},
     "output_type": "display_data"
    },
    {
     "name": "stdout",
     "output_type": "stream",
     "text": [
      "[2025-06-18 09:30:55 INFO] searching for Landsat tile \u001b[33m11SLA\u001b[0m on \u001b[32m2023-04-01\u001b[0m\n",
      "[2025-06-18 09:30:55 INFO] writing image to ~/data/kings_canyon_HLS/HLS_SWIR2_11SLA_20230401.tif\n",
      "[2025-06-18 09:30:57 INFO] extracting band ['red', 'green', 'blue', 'NIR', 'SWIR1', 'SWIR2'] for date 2023-04-03\n",
      "[2025-06-18 09:30:57 INFO] searching for Sentinel tile \u001b[33m11SLA\u001b[0m on \u001b[32m2023-04-03\u001b[0m\n",
      "[2025-06-18 09:30:57 INFO] retrieving Sentinel tile \u001b[33m11SLA\u001b[0m on \u001b[32m2023-04-03\u001b[0m: ~/data/HLS2/2023.04.03/HLS.S30.T11SLA.2023093T182921.v2.0\n",
      "[2025-06-18 09:30:57 INFO]  Getting 1 granules, approx download size: 0.17 GB\n"
     ]
    },
    {
     "data": {
      "application/vnd.jupyter.widget-view+json": {
       "model_id": "c3468b22858749639ad68c40037f88d5",
       "version_major": 2,
       "version_minor": 0
      },
      "text/plain": [
       "QUEUEING TASKS | :   0%|          | 0/18 [00:00<?, ?it/s]"
      ]
     },
     "metadata": {},
     "output_type": "display_data"
    },
    {
     "name": "stdout",
     "output_type": "stream",
     "text": [
      "[2025-06-18 09:30:57 INFO] File HLS.S30.T11SLA.2023093T182921.v2.0.Fmask.tif already downloaded\n",
      "[2025-06-18 09:30:57 INFO] File HLS.S30.T11SLA.2023093T182921.v2.0.B03.tif already downloaded\n",
      "[2025-06-18 09:30:57 INFO] File HLS.S30.T11SLA.2023093T182921.v2.0.B11.tif already downloaded\n",
      "[2025-06-18 09:30:57 INFO] File HLS.S30.T11SLA.2023093T182921.v2.0.SZA.tif already downloaded\n"
     ]
    },
    {
     "data": {
      "application/vnd.jupyter.widget-view+json": {
       "model_id": "f6824a1318e14a54a053fb81d6828db3",
       "version_major": 2,
       "version_minor": 0
      },
      "text/plain": [
       "PROCESSING TASKS | :   0%|          | 0/18 [00:00<?, ?it/s]"
      ]
     },
     "metadata": {},
     "output_type": "display_data"
    },
    {
     "name": "stdout",
     "output_type": "stream",
     "text": [
      "[2025-06-18 09:30:57 INFO] File HLS.S30.T11SLA.2023093T182921.v2.0.B05.tif already downloaded\n",
      "[2025-06-18 09:30:57 INFO] File HLS.S30.T11SLA.2023093T182921.v2.0.B10.tif already downloaded\n",
      "[2025-06-18 09:30:57 INFO] File HLS.S30.T11SLA.2023093T182921.v2.0.VZA.tif already downloaded\n",
      "[2025-06-18 09:30:57 INFO] File HLS.S30.T11SLA.2023093T182921.v2.0.B09.tif already downloaded\n",
      "[2025-06-18 09:30:57 INFO] File HLS.S30.T11SLA.2023093T182921.v2.0.B12.tif already downloaded\n",
      "[2025-06-18 09:30:57 INFO] File HLS.S30.T11SLA.2023093T182921.v2.0.B06.tif already downloaded\n",
      "[2025-06-18 09:30:57 INFO] File HLS.S30.T11SLA.2023093T182921.v2.0.B08.tif already downloaded\n",
      "[2025-06-18 09:30:57 INFO] File HLS.S30.T11SLA.2023093T182921.v2.0.B8A.tif already downloaded\n",
      "[2025-06-18 09:30:57 INFO] File HLS.S30.T11SLA.2023093T182921.v2.0.VAA.tif already downloaded\n",
      "[2025-06-18 09:30:57 INFO] File HLS.S30.T11SLA.2023093T182921.v2.0.B02.tif already downloaded\n",
      "[2025-06-18 09:30:57 INFO] File HLS.S30.T11SLA.2023093T182921.v2.0.B04.tif already downloaded\n",
      "[2025-06-18 09:30:57 INFO] File HLS.S30.T11SLA.2023093T182921.v2.0.B01.tif already downloaded\n",
      "[2025-06-18 09:30:57 INFO] File HLS.S30.T11SLA.2023093T182921.v2.0.SAA.tif already downloaded\n",
      "[2025-06-18 09:30:57 INFO] File HLS.S30.T11SLA.2023093T182921.v2.0.B07.tif already downloaded\n"
     ]
    },
    {
     "data": {
      "application/vnd.jupyter.widget-view+json": {
       "model_id": "6869898e421d44d78a5fa96ff7f7956f",
       "version_major": 2,
       "version_minor": 0
      },
      "text/plain": [
       "COLLECTING RESULTS | :   0%|          | 0/18 [00:00<?, ?it/s]"
      ]
     },
     "metadata": {},
     "output_type": "display_data"
    },
    {
     "name": "stdout",
     "output_type": "stream",
     "text": [
      "[2025-06-18 09:30:57 INFO] searching for Landsat tile \u001b[33m11SLA\u001b[0m on \u001b[32m2023-04-03\u001b[0m\n",
      "[2025-06-18 09:30:57 INFO] writing image to ~/data/kings_canyon_HLS/HLS_red_11SLA_20230403.tif\n",
      "[2025-06-18 09:30:59 INFO] extracting band ['red', 'green', 'blue', 'NIR', 'SWIR1', 'SWIR2'] for date 2023-04-03\n",
      "[2025-06-18 09:30:59 INFO] searching for Sentinel tile \u001b[33m11SLA\u001b[0m on \u001b[32m2023-04-03\u001b[0m\n",
      "[2025-06-18 09:30:59 INFO] retrieving Sentinel tile \u001b[33m11SLA\u001b[0m on \u001b[32m2023-04-03\u001b[0m: ~/data/HLS2/2023.04.03/HLS.S30.T11SLA.2023093T182921.v2.0\n",
      "[2025-06-18 09:30:59 INFO]  Getting 1 granules, approx download size: 0.17 GB\n"
     ]
    },
    {
     "data": {
      "application/vnd.jupyter.widget-view+json": {
       "model_id": "753b2b49209c4d88a439e6a454cae13c",
       "version_major": 2,
       "version_minor": 0
      },
      "text/plain": [
       "QUEUEING TASKS | :   0%|          | 0/18 [00:00<?, ?it/s]"
      ]
     },
     "metadata": {},
     "output_type": "display_data"
    },
    {
     "name": "stdout",
     "output_type": "stream",
     "text": [
      "[2025-06-18 09:30:59 INFO] File HLS.S30.T11SLA.2023093T182921.v2.0.B03.tif already downloaded\n",
      "[2025-06-18 09:30:59 INFO] File HLS.S30.T11SLA.2023093T182921.v2.0.Fmask.tif already downloaded\n",
      "[2025-06-18 09:30:59 INFO] File HLS.S30.T11SLA.2023093T182921.v2.0.B11.tif already downloaded\n",
      "[2025-06-18 09:30:59 INFO] File HLS.S30.T11SLA.2023093T182921.v2.0.SZA.tif already downloaded\n",
      "[2025-06-18 09:30:59 INFO] File HLS.S30.T11SLA.2023093T182921.v2.0.B10.tif already downloaded\n"
     ]
    },
    {
     "data": {
      "application/vnd.jupyter.widget-view+json": {
       "model_id": "05c3cb6696154712904350f2471e2d11",
       "version_major": 2,
       "version_minor": 0
      },
      "text/plain": [
       "PROCESSING TASKS | :   0%|          | 0/18 [00:00<?, ?it/s]"
      ]
     },
     "metadata": {},
     "output_type": "display_data"
    },
    {
     "name": "stdout",
     "output_type": "stream",
     "text": [
      "[2025-06-18 09:30:59 INFO] File HLS.S30.T11SLA.2023093T182921.v2.0.B05.tif already downloaded\n",
      "[2025-06-18 09:30:59 INFO] File HLS.S30.T11SLA.2023093T182921.v2.0.B09.tif already downloaded\n",
      "[2025-06-18 09:30:59 INFO] File HLS.S30.T11SLA.2023093T182921.v2.0.VZA.tif already downloaded\n",
      "[2025-06-18 09:30:59 INFO] File HLS.S30.T11SLA.2023093T182921.v2.0.B06.tif already downloaded\n",
      "[2025-06-18 09:30:59 INFO] File HLS.S30.T11SLA.2023093T182921.v2.0.B12.tif already downloaded\n",
      "[2025-06-18 09:30:59 INFO] File HLS.S30.T11SLA.2023093T182921.v2.0.B08.tif already downloaded\n",
      "[2025-06-18 09:30:59 INFO] File HLS.S30.T11SLA.2023093T182921.v2.0.B8A.tif already downloaded\n",
      "[2025-06-18 09:30:59 INFO] File HLS.S30.T11SLA.2023093T182921.v2.0.VAA.tif already downloaded\n",
      "[2025-06-18 09:30:59 INFO] File HLS.S30.T11SLA.2023093T182921.v2.0.B02.tif already downloaded\n",
      "[2025-06-18 09:30:59 INFO] File HLS.S30.T11SLA.2023093T182921.v2.0.B04.tif already downloaded\n",
      "[2025-06-18 09:30:59 INFO] File HLS.S30.T11SLA.2023093T182921.v2.0.B01.tif already downloaded\n",
      "[2025-06-18 09:30:59 INFO] File HLS.S30.T11SLA.2023093T182921.v2.0.SAA.tif already downloaded\n",
      "[2025-06-18 09:30:59 INFO] File HLS.S30.T11SLA.2023093T182921.v2.0.B07.tif already downloaded\n"
     ]
    },
    {
     "data": {
      "application/vnd.jupyter.widget-view+json": {
       "model_id": "981b75d17e734fa8ad8613d9303131b8",
       "version_major": 2,
       "version_minor": 0
      },
      "text/plain": [
       "COLLECTING RESULTS | :   0%|          | 0/18 [00:00<?, ?it/s]"
      ]
     },
     "metadata": {},
     "output_type": "display_data"
    },
    {
     "name": "stdout",
     "output_type": "stream",
     "text": [
      "[2025-06-18 09:30:59 INFO] searching for Landsat tile \u001b[33m11SLA\u001b[0m on \u001b[32m2023-04-03\u001b[0m\n",
      "[2025-06-18 09:30:59 INFO] writing image to ~/data/kings_canyon_HLS/HLS_green_11SLA_20230403.tif\n",
      "[2025-06-18 09:31:00 INFO] extracting band ['red', 'green', 'blue', 'NIR', 'SWIR1', 'SWIR2'] for date 2023-04-03\n",
      "[2025-06-18 09:31:00 INFO] searching for Sentinel tile \u001b[33m11SLA\u001b[0m on \u001b[32m2023-04-03\u001b[0m\n",
      "[2025-06-18 09:31:00 INFO] retrieving Sentinel tile \u001b[33m11SLA\u001b[0m on \u001b[32m2023-04-03\u001b[0m: ~/data/HLS2/2023.04.03/HLS.S30.T11SLA.2023093T182921.v2.0\n",
      "[2025-06-18 09:31:00 INFO]  Getting 1 granules, approx download size: 0.17 GB\n"
     ]
    },
    {
     "data": {
      "application/vnd.jupyter.widget-view+json": {
       "model_id": "5f0e62270dc749c8b515ce4e338f5ec0",
       "version_major": 2,
       "version_minor": 0
      },
      "text/plain": [
       "QUEUEING TASKS | :   0%|          | 0/18 [00:00<?, ?it/s]"
      ]
     },
     "metadata": {},
     "output_type": "display_data"
    },
    {
     "name": "stdout",
     "output_type": "stream",
     "text": [
      "[2025-06-18 09:31:00 INFO] File HLS.S30.T11SLA.2023093T182921.v2.0.B03.tif already downloaded\n",
      "[2025-06-18 09:31:00 INFO] File HLS.S30.T11SLA.2023093T182921.v2.0.Fmask.tif already downloaded\n",
      "[2025-06-18 09:31:00 INFO] File HLS.S30.T11SLA.2023093T182921.v2.0.SZA.tif already downloaded\n"
     ]
    },
    {
     "data": {
      "application/vnd.jupyter.widget-view+json": {
       "model_id": "651ad6d8b0fb4c67b64360492b3e60fd",
       "version_major": 2,
       "version_minor": 0
      },
      "text/plain": [
       "PROCESSING TASKS | :   0%|          | 0/18 [00:00<?, ?it/s]"
      ]
     },
     "metadata": {},
     "output_type": "display_data"
    },
    {
     "name": "stdout",
     "output_type": "stream",
     "text": [
      "[2025-06-18 09:31:00 INFO] File HLS.S30.T11SLA.2023093T182921.v2.0.B11.tif already downloaded\n",
      "[2025-06-18 09:31:00 INFO] File HLS.S30.T11SLA.2023093T182921.v2.0.B10.tif already downloaded\n",
      "[2025-06-18 09:31:00 INFO] File HLS.S30.T11SLA.2023093T182921.v2.0.B05.tif already downloaded\n",
      "[2025-06-18 09:31:00 INFO] File HLS.S30.T11SLA.2023093T182921.v2.0.B09.tif already downloaded\n",
      "[2025-06-18 09:31:00 INFO] File HLS.S30.T11SLA.2023093T182921.v2.0.VZA.tif already downloaded\n",
      "[2025-06-18 09:31:00 INFO] File HLS.S30.T11SLA.2023093T182921.v2.0.B12.tif already downloaded\n",
      "[2025-06-18 09:31:00 INFO] File HLS.S30.T11SLA.2023093T182921.v2.0.B06.tif already downloaded\n",
      "[2025-06-18 09:31:00 INFO] File HLS.S30.T11SLA.2023093T182921.v2.0.B08.tif already downloaded\n",
      "[2025-06-18 09:31:00 INFO] File HLS.S30.T11SLA.2023093T182921.v2.0.B8A.tif already downloaded\n",
      "[2025-06-18 09:31:00 INFO] File HLS.S30.T11SLA.2023093T182921.v2.0.VAA.tif already downloaded\n",
      "[2025-06-18 09:31:00 INFO] File HLS.S30.T11SLA.2023093T182921.v2.0.B02.tif already downloaded\n",
      "[2025-06-18 09:31:00 INFO] File HLS.S30.T11SLA.2023093T182921.v2.0.B04.tif already downloaded\n",
      "[2025-06-18 09:31:00 INFO] File HLS.S30.T11SLA.2023093T182921.v2.0.B01.tif already downloaded\n",
      "[2025-06-18 09:31:00 INFO] File HLS.S30.T11SLA.2023093T182921.v2.0.SAA.tif already downloaded\n",
      "[2025-06-18 09:31:00 INFO] File HLS.S30.T11SLA.2023093T182921.v2.0.B07.tif already downloaded\n"
     ]
    },
    {
     "data": {
      "application/vnd.jupyter.widget-view+json": {
       "model_id": "520343c3128849238951ec15a7076215",
       "version_major": 2,
       "version_minor": 0
      },
      "text/plain": [
       "COLLECTING RESULTS | :   0%|          | 0/18 [00:00<?, ?it/s]"
      ]
     },
     "metadata": {},
     "output_type": "display_data"
    },
    {
     "name": "stdout",
     "output_type": "stream",
     "text": [
      "[2025-06-18 09:31:00 INFO] searching for Landsat tile \u001b[33m11SLA\u001b[0m on \u001b[32m2023-04-03\u001b[0m\n",
      "[2025-06-18 09:31:01 INFO] writing image to ~/data/kings_canyon_HLS/HLS_blue_11SLA_20230403.tif\n",
      "[2025-06-18 09:31:02 INFO] extracting band ['red', 'green', 'blue', 'NIR', 'SWIR1', 'SWIR2'] for date 2023-04-03\n",
      "[2025-06-18 09:31:02 INFO] searching for Sentinel tile \u001b[33m11SLA\u001b[0m on \u001b[32m2023-04-03\u001b[0m\n",
      "[2025-06-18 09:31:02 INFO] retrieving Sentinel tile \u001b[33m11SLA\u001b[0m on \u001b[32m2023-04-03\u001b[0m: ~/data/HLS2/2023.04.03/HLS.S30.T11SLA.2023093T182921.v2.0\n",
      "[2025-06-18 09:31:02 INFO]  Getting 1 granules, approx download size: 0.17 GB\n"
     ]
    },
    {
     "data": {
      "application/vnd.jupyter.widget-view+json": {
       "model_id": "ffde68ad31e44f2ab30d61b3ef2b08f5",
       "version_major": 2,
       "version_minor": 0
      },
      "text/plain": [
       "QUEUEING TASKS | :   0%|          | 0/18 [00:00<?, ?it/s]"
      ]
     },
     "metadata": {},
     "output_type": "display_data"
    },
    {
     "name": "stdout",
     "output_type": "stream",
     "text": [
      "[2025-06-18 09:31:02 INFO] File HLS.S30.T11SLA.2023093T182921.v2.0.B03.tif already downloaded\n",
      "[2025-06-18 09:31:02 INFO] File HLS.S30.T11SLA.2023093T182921.v2.0.Fmask.tif already downloaded\n",
      "[2025-06-18 09:31:02 INFO] File HLS.S30.T11SLA.2023093T182921.v2.0.B11.tif already downloaded\n",
      "[2025-06-18 09:31:02 INFO] File HLS.S30.T11SLA.2023093T182921.v2.0.SZA.tif already downloaded\n",
      "[2025-06-18 09:31:02 INFO] File HLS.S30.T11SLA.2023093T182921.v2.0.B10.tif already downloaded\n"
     ]
    },
    {
     "data": {
      "application/vnd.jupyter.widget-view+json": {
       "model_id": "1717d393d07449d6804489e6c00e5cb3",
       "version_major": 2,
       "version_minor": 0
      },
      "text/plain": [
       "PROCESSING TASKS | :   0%|          | 0/18 [00:00<?, ?it/s]"
      ]
     },
     "metadata": {},
     "output_type": "display_data"
    },
    {
     "name": "stdout",
     "output_type": "stream",
     "text": [
      "[2025-06-18 09:31:02 INFO] File HLS.S30.T11SLA.2023093T182921.v2.0.B05.tif already downloaded\n",
      "[2025-06-18 09:31:02 INFO] File HLS.S30.T11SLA.2023093T182921.v2.0.B09.tif already downloaded\n",
      "[2025-06-18 09:31:02 INFO] File HLS.S30.T11SLA.2023093T182921.v2.0.VZA.tif already downloaded\n",
      "[2025-06-18 09:31:02 INFO] File HLS.S30.T11SLA.2023093T182921.v2.0.B12.tif already downloaded\n",
      "[2025-06-18 09:31:02 INFO] File HLS.S30.T11SLA.2023093T182921.v2.0.B08.tif already downloaded\n",
      "[2025-06-18 09:31:02 INFO] File HLS.S30.T11SLA.2023093T182921.v2.0.B06.tif already downloaded\n",
      "[2025-06-18 09:31:02 INFO] File HLS.S30.T11SLA.2023093T182921.v2.0.B8A.tif already downloaded\n",
      "[2025-06-18 09:31:02 INFO] File HLS.S30.T11SLA.2023093T182921.v2.0.VAA.tif already downloaded\n",
      "[2025-06-18 09:31:02 INFO] File HLS.S30.T11SLA.2023093T182921.v2.0.B02.tif already downloaded\n",
      "[2025-06-18 09:31:02 INFO] File HLS.S30.T11SLA.2023093T182921.v2.0.B04.tif already downloaded\n",
      "[2025-06-18 09:31:02 INFO] File HLS.S30.T11SLA.2023093T182921.v2.0.B01.tif already downloaded\n",
      "[2025-06-18 09:31:02 INFO] File HLS.S30.T11SLA.2023093T182921.v2.0.SAA.tif already downloaded\n",
      "[2025-06-18 09:31:02 INFO] File HLS.S30.T11SLA.2023093T182921.v2.0.B07.tif already downloaded\n"
     ]
    },
    {
     "data": {
      "application/vnd.jupyter.widget-view+json": {
       "model_id": "23c40ebc9b6f49c0b396c3cda7e3c2e7",
       "version_major": 2,
       "version_minor": 0
      },
      "text/plain": [
       "COLLECTING RESULTS | :   0%|          | 0/18 [00:00<?, ?it/s]"
      ]
     },
     "metadata": {},
     "output_type": "display_data"
    },
    {
     "name": "stdout",
     "output_type": "stream",
     "text": [
      "[2025-06-18 09:31:02 INFO] searching for Landsat tile \u001b[33m11SLA\u001b[0m on \u001b[32m2023-04-03\u001b[0m\n",
      "[2025-06-18 09:31:02 INFO] writing image to ~/data/kings_canyon_HLS/HLS_NIR_11SLA_20230403.tif\n",
      "[2025-06-18 09:31:03 INFO] extracting band ['red', 'green', 'blue', 'NIR', 'SWIR1', 'SWIR2'] for date 2023-04-03\n",
      "[2025-06-18 09:31:03 INFO] searching for Sentinel tile \u001b[33m11SLA\u001b[0m on \u001b[32m2023-04-03\u001b[0m\n",
      "[2025-06-18 09:31:03 INFO] retrieving Sentinel tile \u001b[33m11SLA\u001b[0m on \u001b[32m2023-04-03\u001b[0m: ~/data/HLS2/2023.04.03/HLS.S30.T11SLA.2023093T182921.v2.0\n",
      "[2025-06-18 09:31:03 INFO]  Getting 1 granules, approx download size: 0.17 GB\n"
     ]
    },
    {
     "data": {
      "application/vnd.jupyter.widget-view+json": {
       "model_id": "875bc6966a0e4da4a36bebe749e4ff3f",
       "version_major": 2,
       "version_minor": 0
      },
      "text/plain": [
       "QUEUEING TASKS | :   0%|          | 0/18 [00:00<?, ?it/s]"
      ]
     },
     "metadata": {},
     "output_type": "display_data"
    },
    {
     "name": "stdout",
     "output_type": "stream",
     "text": [
      "[2025-06-18 09:31:03 INFO] File HLS.S30.T11SLA.2023093T182921.v2.0.B11.tif already downloaded\n",
      "[2025-06-18 09:31:03 INFO] File HLS.S30.T11SLA.2023093T182921.v2.0.B03.tif already downloaded\n",
      "[2025-06-18 09:31:03 INFO] File HLS.S30.T11SLA.2023093T182921.v2.0.Fmask.tif already downloaded\n"
     ]
    },
    {
     "data": {
      "application/vnd.jupyter.widget-view+json": {
       "model_id": "d62d1d65649445c29a27b6fb30cd9fdb",
       "version_major": 2,
       "version_minor": 0
      },
      "text/plain": [
       "PROCESSING TASKS | :   0%|          | 0/18 [00:00<?, ?it/s]"
      ]
     },
     "metadata": {},
     "output_type": "display_data"
    },
    {
     "name": "stdout",
     "output_type": "stream",
     "text": [
      "[2025-06-18 09:31:03 INFO] File HLS.S30.T11SLA.2023093T182921.v2.0.SZA.tif already downloaded\n",
      "[2025-06-18 09:31:03 INFO] File HLS.S30.T11SLA.2023093T182921.v2.0.B05.tif already downloaded\n",
      "[2025-06-18 09:31:03 INFO] File HLS.S30.T11SLA.2023093T182921.v2.0.B10.tif already downloaded\n",
      "[2025-06-18 09:31:03 INFO] File HLS.S30.T11SLA.2023093T182921.v2.0.B09.tif already downloaded\n",
      "[2025-06-18 09:31:03 INFO] File HLS.S30.T11SLA.2023093T182921.v2.0.VZA.tif already downloaded\n",
      "[2025-06-18 09:31:03 INFO] File HLS.S30.T11SLA.2023093T182921.v2.0.B12.tif already downloaded\n",
      "[2025-06-18 09:31:03 INFO] File HLS.S30.T11SLA.2023093T182921.v2.0.B06.tif already downloaded\n",
      "[2025-06-18 09:31:03 INFO] File HLS.S30.T11SLA.2023093T182921.v2.0.B08.tif already downloaded\n",
      "[2025-06-18 09:31:03 INFO] File HLS.S30.T11SLA.2023093T182921.v2.0.B8A.tif already downloaded\n",
      "[2025-06-18 09:31:03 INFO] File HLS.S30.T11SLA.2023093T182921.v2.0.VAA.tif already downloaded\n",
      "[2025-06-18 09:31:03 INFO] File HLS.S30.T11SLA.2023093T182921.v2.0.B02.tif already downloaded\n",
      "[2025-06-18 09:31:03 INFO] File HLS.S30.T11SLA.2023093T182921.v2.0.B04.tif already downloaded\n",
      "[2025-06-18 09:31:03 INFO] File HLS.S30.T11SLA.2023093T182921.v2.0.B01.tif already downloaded\n",
      "[2025-06-18 09:31:03 INFO] File HLS.S30.T11SLA.2023093T182921.v2.0.SAA.tif already downloaded\n",
      "[2025-06-18 09:31:03 INFO] File HLS.S30.T11SLA.2023093T182921.v2.0.B07.tif already downloaded\n"
     ]
    },
    {
     "data": {
      "application/vnd.jupyter.widget-view+json": {
       "model_id": "c50e6e2ce01045a2a8b8e068f1f5743b",
       "version_major": 2,
       "version_minor": 0
      },
      "text/plain": [
       "COLLECTING RESULTS | :   0%|          | 0/18 [00:00<?, ?it/s]"
      ]
     },
     "metadata": {},
     "output_type": "display_data"
    },
    {
     "name": "stdout",
     "output_type": "stream",
     "text": [
      "[2025-06-18 09:31:03 INFO] searching for Landsat tile \u001b[33m11SLA\u001b[0m on \u001b[32m2023-04-03\u001b[0m\n",
      "[2025-06-18 09:31:04 INFO] writing image to ~/data/kings_canyon_HLS/HLS_SWIR1_11SLA_20230403.tif\n",
      "[2025-06-18 09:31:05 INFO] extracting band ['red', 'green', 'blue', 'NIR', 'SWIR1', 'SWIR2'] for date 2023-04-03\n",
      "[2025-06-18 09:31:05 INFO] searching for Sentinel tile \u001b[33m11SLA\u001b[0m on \u001b[32m2023-04-03\u001b[0m\n",
      "[2025-06-18 09:31:05 INFO] retrieving Sentinel tile \u001b[33m11SLA\u001b[0m on \u001b[32m2023-04-03\u001b[0m: ~/data/HLS2/2023.04.03/HLS.S30.T11SLA.2023093T182921.v2.0\n",
      "[2025-06-18 09:31:05 INFO]  Getting 1 granules, approx download size: 0.17 GB\n"
     ]
    },
    {
     "data": {
      "application/vnd.jupyter.widget-view+json": {
       "model_id": "fde1cf33ba144354bdb5051bc5a81f4d",
       "version_major": 2,
       "version_minor": 0
      },
      "text/plain": [
       "QUEUEING TASKS | :   0%|          | 0/18 [00:00<?, ?it/s]"
      ]
     },
     "metadata": {},
     "output_type": "display_data"
    },
    {
     "name": "stdout",
     "output_type": "stream",
     "text": [
      "[2025-06-18 09:31:05 INFO] File HLS.S30.T11SLA.2023093T182921.v2.0.B03.tif already downloaded\n",
      "[2025-06-18 09:31:05 INFO] File HLS.S30.T11SLA.2023093T182921.v2.0.Fmask.tif already downloaded\n",
      "[2025-06-18 09:31:05 INFO] File HLS.S30.T11SLA.2023093T182921.v2.0.B11.tif already downloaded\n"
     ]
    },
    {
     "data": {
      "application/vnd.jupyter.widget-view+json": {
       "model_id": "4c3612676d30422cb76e7b230b4b648a",
       "version_major": 2,
       "version_minor": 0
      },
      "text/plain": [
       "PROCESSING TASKS | :   0%|          | 0/18 [00:00<?, ?it/s]"
      ]
     },
     "metadata": {},
     "output_type": "display_data"
    },
    {
     "name": "stdout",
     "output_type": "stream",
     "text": [
      "[2025-06-18 09:31:05 INFO] File HLS.S30.T11SLA.2023093T182921.v2.0.SZA.tif already downloaded\n",
      "[2025-06-18 09:31:05 INFO] File HLS.S30.T11SLA.2023093T182921.v2.0.B10.tif already downloaded\n",
      "[2025-06-18 09:31:05 INFO] File HLS.S30.T11SLA.2023093T182921.v2.0.VZA.tif already downloaded\n",
      "[2025-06-18 09:31:05 INFO] File HLS.S30.T11SLA.2023093T182921.v2.0.B05.tif already downloaded\n",
      "[2025-06-18 09:31:05 INFO] File HLS.S30.T11SLA.2023093T182921.v2.0.B09.tif already downloaded\n",
      "[2025-06-18 09:31:05 INFO] File HLS.S30.T11SLA.2023093T182921.v2.0.B12.tif already downloaded\n",
      "[2025-06-18 09:31:05 INFO] File HLS.S30.T11SLA.2023093T182921.v2.0.B06.tif already downloaded\n",
      "[2025-06-18 09:31:05 INFO] File HLS.S30.T11SLA.2023093T182921.v2.0.B08.tif already downloaded\n",
      "[2025-06-18 09:31:05 INFO] File HLS.S30.T11SLA.2023093T182921.v2.0.B8A.tif already downloaded\n",
      "[2025-06-18 09:31:05 INFO] File HLS.S30.T11SLA.2023093T182921.v2.0.VAA.tif already downloaded\n",
      "[2025-06-18 09:31:05 INFO] File HLS.S30.T11SLA.2023093T182921.v2.0.B02.tif already downloaded\n",
      "[2025-06-18 09:31:05 INFO] File HLS.S30.T11SLA.2023093T182921.v2.0.B04.tif already downloaded\n",
      "[2025-06-18 09:31:05 INFO] File HLS.S30.T11SLA.2023093T182921.v2.0.B01.tif already downloaded\n",
      "[2025-06-18 09:31:05 INFO] File HLS.S30.T11SLA.2023093T182921.v2.0.SAA.tif already downloaded\n",
      "[2025-06-18 09:31:05 INFO] File HLS.S30.T11SLA.2023093T182921.v2.0.B07.tif already downloaded\n"
     ]
    },
    {
     "data": {
      "application/vnd.jupyter.widget-view+json": {
       "model_id": "e40eae454cf444ed8e2268fd996de924",
       "version_major": 2,
       "version_minor": 0
      },
      "text/plain": [
       "COLLECTING RESULTS | :   0%|          | 0/18 [00:00<?, ?it/s]"
      ]
     },
     "metadata": {},
     "output_type": "display_data"
    },
    {
     "name": "stdout",
     "output_type": "stream",
     "text": [
      "[2025-06-18 09:31:05 INFO] searching for Landsat tile \u001b[33m11SLA\u001b[0m on \u001b[32m2023-04-03\u001b[0m\n",
      "[2025-06-18 09:31:05 INFO] writing image to ~/data/kings_canyon_HLS/HLS_SWIR2_11SLA_20230403.tif\n",
      "[2025-06-18 09:31:06 INFO] extracting band ['red', 'green', 'blue', 'NIR', 'SWIR1', 'SWIR2'] for date 2023-04-06\n",
      "[2025-06-18 09:31:06 INFO] searching for Sentinel tile \u001b[33m11SLA\u001b[0m on \u001b[32m2023-04-06\u001b[0m\n",
      "[2025-06-18 09:31:06 INFO] retrieving Sentinel tile \u001b[33m11SLA\u001b[0m on \u001b[32m2023-04-06\u001b[0m: ~/data/HLS2/2023.04.06/HLS.S30.T11SLA.2023096T183921.v2.0\n",
      "[2025-06-18 09:31:06 INFO]  Getting 1 granules, approx download size: 0.23 GB\n"
     ]
    },
    {
     "data": {
      "application/vnd.jupyter.widget-view+json": {
       "model_id": "7510fd696011472d8122685bf264be64",
       "version_major": 2,
       "version_minor": 0
      },
      "text/plain": [
       "QUEUEING TASKS | :   0%|          | 0/18 [00:00<?, ?it/s]"
      ]
     },
     "metadata": {},
     "output_type": "display_data"
    },
    {
     "name": "stdout",
     "output_type": "stream",
     "text": [
      "[2025-06-18 09:31:06 INFO] File HLS.S30.T11SLA.2023096T183921.v2.0.SZA.tif already downloaded\n",
      "[2025-06-18 09:31:06 INFO] File HLS.S30.T11SLA.2023096T183921.v2.0.B02.tif already downloaded\n",
      "[2025-06-18 09:31:06 INFO] File HLS.S30.T11SLA.2023096T183921.v2.0.VAA.tif already downloaded\n",
      "[2025-06-18 09:31:06 INFO] File HLS.S30.T11SLA.2023096T183921.v2.0.SAA.tif already downloaded\n",
      "[2025-06-18 09:31:06 INFO] File HLS.S30.T11SLA.2023096T183921.v2.0.B01.tif already downloaded\n",
      "[2025-06-18 09:31:06 INFO] File HLS.S30.T11SLA.2023096T183921.v2.0.B08.tif already downloaded\n"
     ]
    },
    {
     "data": {
      "application/vnd.jupyter.widget-view+json": {
       "model_id": "6935598544b74734bdddc45f6a60196b",
       "version_major": 2,
       "version_minor": 0
      },
      "text/plain": [
       "PROCESSING TASKS | :   0%|          | 0/18 [00:00<?, ?it/s]"
      ]
     },
     "metadata": {},
     "output_type": "display_data"
    },
    {
     "name": "stdout",
     "output_type": "stream",
     "text": [
      "[2025-06-18 09:31:06 INFO] File HLS.S30.T11SLA.2023096T183921.v2.0.B07.tif already downloaded\n",
      "[2025-06-18 09:31:06 INFO] File HLS.S30.T11SLA.2023096T183921.v2.0.VZA.tif already downloaded\n",
      "[2025-06-18 09:31:06 INFO] File HLS.S30.T11SLA.2023096T183921.v2.0.Fmask.tif already downloaded\n",
      "[2025-06-18 09:31:06 INFO] File HLS.S30.T11SLA.2023096T183921.v2.0.B09.tif already downloaded\n",
      "[2025-06-18 09:31:06 INFO] File HLS.S30.T11SLA.2023096T183921.v2.0.B11.tif already downloaded\n",
      "[2025-06-18 09:31:06 INFO] File HLS.S30.T11SLA.2023096T183921.v2.0.B04.tif already downloaded\n",
      "[2025-06-18 09:31:06 INFO] File HLS.S30.T11SLA.2023096T183921.v2.0.B03.tif already downloaded\n",
      "[2025-06-18 09:31:06 INFO] File HLS.S30.T11SLA.2023096T183921.v2.0.B06.tif already downloaded\n",
      "[2025-06-18 09:31:06 INFO] File HLS.S30.T11SLA.2023096T183921.v2.0.B10.tif already downloaded\n",
      "[2025-06-18 09:31:06 INFO] File HLS.S30.T11SLA.2023096T183921.v2.0.B05.tif already downloaded\n",
      "[2025-06-18 09:31:06 INFO] File HLS.S30.T11SLA.2023096T183921.v2.0.B8A.tif already downloaded\n",
      "[2025-06-18 09:31:06 INFO] File HLS.S30.T11SLA.2023096T183921.v2.0.B12.tif already downloaded\n"
     ]
    },
    {
     "data": {
      "application/vnd.jupyter.widget-view+json": {
       "model_id": "7e2837b535824e9cb2318dbaf70eeaa5",
       "version_major": 2,
       "version_minor": 0
      },
      "text/plain": [
       "COLLECTING RESULTS | :   0%|          | 0/18 [00:00<?, ?it/s]"
      ]
     },
     "metadata": {},
     "output_type": "display_data"
    },
    {
     "name": "stdout",
     "output_type": "stream",
     "text": [
      "[2025-06-18 09:31:06 INFO] searching for Landsat tile \u001b[33m11SLA\u001b[0m on \u001b[32m2023-04-06\u001b[0m\n",
      "[2025-06-18 09:31:06 INFO] retrieving Landsat tile \u001b[33m11SLA\u001b[0m on \u001b[32m2023-04-06\u001b[0m: ~/data/HLS2/2023.04.06/HLS.L30.T11SLA.2023096T183339.v2.0\n",
      "[2025-06-18 09:31:06 INFO]  Getting 1 granules, approx download size: 0.16 GB\n"
     ]
    },
    {
     "data": {
      "application/vnd.jupyter.widget-view+json": {
       "model_id": "6988d2beaa5e4efc87b4c1f44f44a1fb",
       "version_major": 2,
       "version_minor": 0
      },
      "text/plain": [
       "QUEUEING TASKS | :   0%|          | 0/15 [00:00<?, ?it/s]"
      ]
     },
     "metadata": {},
     "output_type": "display_data"
    },
    {
     "name": "stdout",
     "output_type": "stream",
     "text": [
      "[2025-06-18 09:31:06 INFO] File HLS.L30.T11SLA.2023096T183339.v2.0.B10.tif already downloaded\n",
      "[2025-06-18 09:31:06 INFO] File HLS.L30.T11SLA.2023096T183339.v2.0.B05.tif already downloaded\n",
      "[2025-06-18 09:31:06 INFO] File HLS.L30.T11SLA.2023096T183339.v2.0.VAA.tif already downloaded\n",
      "[2025-06-18 09:31:06 INFO] File HLS.L30.T11SLA.2023096T183339.v2.0.B07.tif already downloaded\n",
      "[2025-06-18 09:31:06 INFO] File HLS.L30.T11SLA.2023096T183339.v2.0.SZA.tif already downloaded\n"
     ]
    },
    {
     "data": {
      "application/vnd.jupyter.widget-view+json": {
       "model_id": "aff625dcdf6d4144811fb2282db1a64c",
       "version_major": 2,
       "version_minor": 0
      },
      "text/plain": [
       "PROCESSING TASKS | :   0%|          | 0/15 [00:00<?, ?it/s]"
      ]
     },
     "metadata": {},
     "output_type": "display_data"
    },
    {
     "name": "stdout",
     "output_type": "stream",
     "text": [
      "[2025-06-18 09:31:06 INFO] File HLS.L30.T11SLA.2023096T183339.v2.0.B11.tif already downloaded\n",
      "[2025-06-18 09:31:06 INFO] File HLS.L30.T11SLA.2023096T183339.v2.0.B03.tif already downloaded\n",
      "[2025-06-18 09:31:06 INFO] File HLS.L30.T11SLA.2023096T183339.v2.0.B06.tif already downloaded\n",
      "[2025-06-18 09:31:06 INFO] File HLS.L30.T11SLA.2023096T183339.v2.0.B02.tif already downloaded\n",
      "[2025-06-18 09:31:06 INFO] File HLS.L30.T11SLA.2023096T183339.v2.0.B09.tif already downloaded\n",
      "[2025-06-18 09:31:06 INFO] File HLS.L30.T11SLA.2023096T183339.v2.0.Fmask.tif already downloaded\n",
      "[2025-06-18 09:31:06 INFO] File HLS.L30.T11SLA.2023096T183339.v2.0.B01.tif already downloaded\n",
      "[2025-06-18 09:31:06 INFO] File HLS.L30.T11SLA.2023096T183339.v2.0.B04.tif already downloaded\n",
      "[2025-06-18 09:31:06 INFO] File HLS.L30.T11SLA.2023096T183339.v2.0.VZA.tif already downloaded\n",
      "[2025-06-18 09:31:06 INFO] File HLS.L30.T11SLA.2023096T183339.v2.0.SAA.tif already downloaded\n"
     ]
    },
    {
     "data": {
      "application/vnd.jupyter.widget-view+json": {
       "model_id": "08a7690843704570a0124240cd662902",
       "version_major": 2,
       "version_minor": 0
      },
      "text/plain": [
       "COLLECTING RESULTS | :   0%|          | 0/15 [00:00<?, ?it/s]"
      ]
     },
     "metadata": {},
     "output_type": "display_data"
    },
    {
     "name": "stderr",
     "output_type": "stream",
     "text": [
      "/Users/halverso/Projects/harmonized-landsat-sentinel/harmonized_landsat_sentinel/HLS_connection.py:513: RuntimeWarning: Mean of empty slice\n",
      "  image = rt.Raster(np.nanmean(np.dstack([sentinel.NDVI, landsat.NDVI]), axis=2), geometry=sentinel.geometry)\n"
     ]
    },
    {
     "name": "stdout",
     "output_type": "stream",
     "text": [
      "[2025-06-18 09:31:09 INFO] writing image to ~/data/kings_canyon_HLS/HLS_red_11SLA_20230406.tif\n",
      "[2025-06-18 09:31:12 INFO] extracting band ['red', 'green', 'blue', 'NIR', 'SWIR1', 'SWIR2'] for date 2023-04-06\n",
      "[2025-06-18 09:31:12 INFO] searching for Sentinel tile \u001b[33m11SLA\u001b[0m on \u001b[32m2023-04-06\u001b[0m\n",
      "[2025-06-18 09:31:12 INFO] retrieving Sentinel tile \u001b[33m11SLA\u001b[0m on \u001b[32m2023-04-06\u001b[0m: ~/data/HLS2/2023.04.06/HLS.S30.T11SLA.2023096T183921.v2.0\n",
      "[2025-06-18 09:31:12 INFO]  Getting 1 granules, approx download size: 0.23 GB\n"
     ]
    },
    {
     "data": {
      "application/vnd.jupyter.widget-view+json": {
       "model_id": "35fdac4e7f4842be863cb6c5889b1519",
       "version_major": 2,
       "version_minor": 0
      },
      "text/plain": [
       "QUEUEING TASKS | :   0%|          | 0/18 [00:00<?, ?it/s]"
      ]
     },
     "metadata": {},
     "output_type": "display_data"
    },
    {
     "name": "stdout",
     "output_type": "stream",
     "text": [
      "[2025-06-18 09:31:12 INFO] File HLS.S30.T11SLA.2023096T183921.v2.0.B02.tif already downloaded\n",
      "[2025-06-18 09:31:12 INFO] File HLS.S30.T11SLA.2023096T183921.v2.0.SZA.tif already downloaded\n",
      "[2025-06-18 09:31:12 INFO] File HLS.S30.T11SLA.2023096T183921.v2.0.VAA.tif already downloaded\n",
      "[2025-06-18 09:31:12 INFO] File HLS.S30.T11SLA.2023096T183921.v2.0.B08.tif already downloaded\n"
     ]
    },
    {
     "data": {
      "application/vnd.jupyter.widget-view+json": {
       "model_id": "582c765038284ca59519d02834a3b515",
       "version_major": 2,
       "version_minor": 0
      },
      "text/plain": [
       "PROCESSING TASKS | :   0%|          | 0/18 [00:00<?, ?it/s]"
      ]
     },
     "metadata": {},
     "output_type": "display_data"
    },
    {
     "name": "stdout",
     "output_type": "stream",
     "text": [
      "[2025-06-18 09:31:12 INFO] File HLS.S30.T11SLA.2023096T183921.v2.0.SAA.tif already downloaded\n",
      "[2025-06-18 09:31:12 INFO] File HLS.S30.T11SLA.2023096T183921.v2.0.B01.tif already downloaded\n",
      "[2025-06-18 09:31:12 INFO] File HLS.S30.T11SLA.2023096T183921.v2.0.B07.tif already downloaded\n",
      "[2025-06-18 09:31:12 INFO] File HLS.S30.T11SLA.2023096T183921.v2.0.VZA.tif already downloaded\n",
      "[2025-06-18 09:31:12 INFO] File HLS.S30.T11SLA.2023096T183921.v2.0.B09.tif already downloaded\n",
      "[2025-06-18 09:31:12 INFO] File HLS.S30.T11SLA.2023096T183921.v2.0.Fmask.tif already downloaded\n",
      "[2025-06-18 09:31:12 INFO] File HLS.S30.T11SLA.2023096T183921.v2.0.B11.tif already downloaded\n",
      "[2025-06-18 09:31:12 INFO] File HLS.S30.T11SLA.2023096T183921.v2.0.B04.tif already downloaded\n",
      "[2025-06-18 09:31:12 INFO] File HLS.S30.T11SLA.2023096T183921.v2.0.B03.tif already downloaded\n",
      "[2025-06-18 09:31:12 INFO] File HLS.S30.T11SLA.2023096T183921.v2.0.B06.tif already downloaded\n",
      "[2025-06-18 09:31:12 INFO] File HLS.S30.T11SLA.2023096T183921.v2.0.B10.tif already downloaded\n",
      "[2025-06-18 09:31:12 INFO] File HLS.S30.T11SLA.2023096T183921.v2.0.B05.tif already downloaded\n",
      "[2025-06-18 09:31:12 INFO] File HLS.S30.T11SLA.2023096T183921.v2.0.B8A.tif already downloaded\n",
      "[2025-06-18 09:31:12 INFO] File HLS.S30.T11SLA.2023096T183921.v2.0.B12.tif already downloaded\n"
     ]
    },
    {
     "data": {
      "application/vnd.jupyter.widget-view+json": {
       "model_id": "17c0af6f50fd41bcac95c094ff32e828",
       "version_major": 2,
       "version_minor": 0
      },
      "text/plain": [
       "COLLECTING RESULTS | :   0%|          | 0/18 [00:00<?, ?it/s]"
      ]
     },
     "metadata": {},
     "output_type": "display_data"
    },
    {
     "name": "stdout",
     "output_type": "stream",
     "text": [
      "[2025-06-18 09:31:12 INFO] searching for Landsat tile \u001b[33m11SLA\u001b[0m on \u001b[32m2023-04-06\u001b[0m\n",
      "[2025-06-18 09:31:12 INFO] retrieving Landsat tile \u001b[33m11SLA\u001b[0m on \u001b[32m2023-04-06\u001b[0m: ~/data/HLS2/2023.04.06/HLS.L30.T11SLA.2023096T183339.v2.0\n",
      "[2025-06-18 09:31:12 INFO]  Getting 1 granules, approx download size: 0.16 GB\n"
     ]
    },
    {
     "data": {
      "application/vnd.jupyter.widget-view+json": {
       "model_id": "46065f9da21a44a1bf369671fbceb5e7",
       "version_major": 2,
       "version_minor": 0
      },
      "text/plain": [
       "QUEUEING TASKS | :   0%|          | 0/15 [00:00<?, ?it/s]"
      ]
     },
     "metadata": {},
     "output_type": "display_data"
    },
    {
     "name": "stdout",
     "output_type": "stream",
     "text": [
      "[2025-06-18 09:31:12 INFO] File HLS.L30.T11SLA.2023096T183339.v2.0.B10.tif already downloaded\n",
      "[2025-06-18 09:31:12 INFO] File HLS.L30.T11SLA.2023096T183339.v2.0.B05.tif already downloaded\n",
      "[2025-06-18 09:31:12 INFO] File HLS.L30.T11SLA.2023096T183339.v2.0.B07.tif already downloaded\n",
      "[2025-06-18 09:31:12 INFO] File HLS.L30.T11SLA.2023096T183339.v2.0.B11.tif already downloaded\n"
     ]
    },
    {
     "data": {
      "application/vnd.jupyter.widget-view+json": {
       "model_id": "5b54d100c0da4951bef33d111e92d457",
       "version_major": 2,
       "version_minor": 0
      },
      "text/plain": [
       "PROCESSING TASKS | :   0%|          | 0/15 [00:00<?, ?it/s]"
      ]
     },
     "metadata": {},
     "output_type": "display_data"
    },
    {
     "name": "stdout",
     "output_type": "stream",
     "text": [
      "[2025-06-18 09:31:12 INFO] File HLS.L30.T11SLA.2023096T183339.v2.0.VAA.tif already downloaded\n",
      "[2025-06-18 09:31:12 INFO] File HLS.L30.T11SLA.2023096T183339.v2.0.B03.tif already downloaded\n",
      "[2025-06-18 09:31:12 INFO] File HLS.L30.T11SLA.2023096T183339.v2.0.B06.tif already downloaded\n",
      "[2025-06-18 09:31:12 INFO] File HLS.L30.T11SLA.2023096T183339.v2.0.SZA.tif already downloaded\n",
      "[2025-06-18 09:31:12 INFO] File HLS.L30.T11SLA.2023096T183339.v2.0.B09.tif already downloaded\n",
      "[2025-06-18 09:31:12 INFO] File HLS.L30.T11SLA.2023096T183339.v2.0.B02.tif already downloaded\n",
      "[2025-06-18 09:31:12 INFO] File HLS.L30.T11SLA.2023096T183339.v2.0.Fmask.tif already downloaded\n",
      "[2025-06-18 09:31:12 INFO] File HLS.L30.T11SLA.2023096T183339.v2.0.B01.tif already downloaded\n",
      "[2025-06-18 09:31:12 INFO] File HLS.L30.T11SLA.2023096T183339.v2.0.B04.tif already downloaded\n",
      "[2025-06-18 09:31:12 INFO] File HLS.L30.T11SLA.2023096T183339.v2.0.VZA.tif already downloaded\n",
      "[2025-06-18 09:31:12 INFO] File HLS.L30.T11SLA.2023096T183339.v2.0.SAA.tif already downloaded\n"
     ]
    },
    {
     "data": {
      "application/vnd.jupyter.widget-view+json": {
       "model_id": "c3ae622d3c9d40b1aeeb1318be16e214",
       "version_major": 2,
       "version_minor": 0
      },
      "text/plain": [
       "COLLECTING RESULTS | :   0%|          | 0/15 [00:00<?, ?it/s]"
      ]
     },
     "metadata": {},
     "output_type": "display_data"
    },
    {
     "name": "stderr",
     "output_type": "stream",
     "text": [
      "/Users/halverso/Projects/harmonized-landsat-sentinel/harmonized_landsat_sentinel/HLS_connection.py:513: RuntimeWarning: Mean of empty slice\n",
      "  image = rt.Raster(np.nanmean(np.dstack([sentinel.NDVI, landsat.NDVI]), axis=2), geometry=sentinel.geometry)\n"
     ]
    },
    {
     "name": "stdout",
     "output_type": "stream",
     "text": [
      "[2025-06-18 09:31:15 INFO] writing image to ~/data/kings_canyon_HLS/HLS_green_11SLA_20230406.tif\n",
      "[2025-06-18 09:31:18 INFO] extracting band ['red', 'green', 'blue', 'NIR', 'SWIR1', 'SWIR2'] for date 2023-04-06\n",
      "[2025-06-18 09:31:18 INFO] searching for Sentinel tile \u001b[33m11SLA\u001b[0m on \u001b[32m2023-04-06\u001b[0m\n",
      "[2025-06-18 09:31:18 INFO] retrieving Sentinel tile \u001b[33m11SLA\u001b[0m on \u001b[32m2023-04-06\u001b[0m: ~/data/HLS2/2023.04.06/HLS.S30.T11SLA.2023096T183921.v2.0\n",
      "[2025-06-18 09:31:18 INFO]  Getting 1 granules, approx download size: 0.23 GB\n"
     ]
    },
    {
     "data": {
      "application/vnd.jupyter.widget-view+json": {
       "model_id": "14df84541b344445a0e89fcca41c4986",
       "version_major": 2,
       "version_minor": 0
      },
      "text/plain": [
       "QUEUEING TASKS | :   0%|          | 0/18 [00:00<?, ?it/s]"
      ]
     },
     "metadata": {},
     "output_type": "display_data"
    },
    {
     "name": "stdout",
     "output_type": "stream",
     "text": [
      "[2025-06-18 09:31:18 INFO] File HLS.S30.T11SLA.2023096T183921.v2.0.SZA.tif already downloaded\n",
      "[2025-06-18 09:31:18 INFO] File HLS.S30.T11SLA.2023096T183921.v2.0.B02.tif already downloaded\n",
      "[2025-06-18 09:31:18 INFO] File HLS.S30.T11SLA.2023096T183921.v2.0.VAA.tif already downloaded\n"
     ]
    },
    {
     "data": {
      "application/vnd.jupyter.widget-view+json": {
       "model_id": "806cff9fd28b450aba82104eb5107458",
       "version_major": 2,
       "version_minor": 0
      },
      "text/plain": [
       "PROCESSING TASKS | :   0%|          | 0/18 [00:00<?, ?it/s]"
      ]
     },
     "metadata": {},
     "output_type": "display_data"
    },
    {
     "name": "stdout",
     "output_type": "stream",
     "text": [
      "[2025-06-18 09:31:18 INFO] File HLS.S30.T11SLA.2023096T183921.v2.0.B08.tif already downloaded\n",
      "[2025-06-18 09:31:18 INFO] File HLS.S30.T11SLA.2023096T183921.v2.0.SAA.tif already downloaded\n",
      "[2025-06-18 09:31:18 INFO] File HLS.S30.T11SLA.2023096T183921.v2.0.B07.tif already downloaded\n",
      "[2025-06-18 09:31:18 INFO] File HLS.S30.T11SLA.2023096T183921.v2.0.VZA.tif already downloaded\n",
      "[2025-06-18 09:31:18 INFO] File HLS.S30.T11SLA.2023096T183921.v2.0.B01.tif already downloaded\n",
      "[2025-06-18 09:31:18 INFO] File HLS.S30.T11SLA.2023096T183921.v2.0.B09.tif already downloaded\n",
      "[2025-06-18 09:31:18 INFO] File HLS.S30.T11SLA.2023096T183921.v2.0.Fmask.tif already downloaded\n",
      "[2025-06-18 09:31:18 INFO] File HLS.S30.T11SLA.2023096T183921.v2.0.B11.tif already downloaded\n",
      "[2025-06-18 09:31:18 INFO] File HLS.S30.T11SLA.2023096T183921.v2.0.B04.tif already downloaded\n",
      "[2025-06-18 09:31:18 INFO] File HLS.S30.T11SLA.2023096T183921.v2.0.B03.tif already downloaded\n",
      "[2025-06-18 09:31:18 INFO] File HLS.S30.T11SLA.2023096T183921.v2.0.B06.tif already downloaded\n",
      "[2025-06-18 09:31:18 INFO] File HLS.S30.T11SLA.2023096T183921.v2.0.B10.tif already downloaded\n",
      "[2025-06-18 09:31:18 INFO] File HLS.S30.T11SLA.2023096T183921.v2.0.B05.tif already downloaded\n",
      "[2025-06-18 09:31:18 INFO] File HLS.S30.T11SLA.2023096T183921.v2.0.B8A.tif already downloaded\n",
      "[2025-06-18 09:31:18 INFO] File HLS.S30.T11SLA.2023096T183921.v2.0.B12.tif already downloaded\n"
     ]
    },
    {
     "data": {
      "application/vnd.jupyter.widget-view+json": {
       "model_id": "ed2e9b0c64d54c6abe183d78d80c51bc",
       "version_major": 2,
       "version_minor": 0
      },
      "text/plain": [
       "COLLECTING RESULTS | :   0%|          | 0/18 [00:00<?, ?it/s]"
      ]
     },
     "metadata": {},
     "output_type": "display_data"
    },
    {
     "name": "stdout",
     "output_type": "stream",
     "text": [
      "[2025-06-18 09:31:18 INFO] searching for Landsat tile \u001b[33m11SLA\u001b[0m on \u001b[32m2023-04-06\u001b[0m\n",
      "[2025-06-18 09:31:18 INFO] retrieving Landsat tile \u001b[33m11SLA\u001b[0m on \u001b[32m2023-04-06\u001b[0m: ~/data/HLS2/2023.04.06/HLS.L30.T11SLA.2023096T183339.v2.0\n",
      "[2025-06-18 09:31:18 INFO]  Getting 1 granules, approx download size: 0.16 GB\n"
     ]
    },
    {
     "data": {
      "application/vnd.jupyter.widget-view+json": {
       "model_id": "698c98703e854e86bc8661db7cda5bea",
       "version_major": 2,
       "version_minor": 0
      },
      "text/plain": [
       "QUEUEING TASKS | :   0%|          | 0/15 [00:00<?, ?it/s]"
      ]
     },
     "metadata": {},
     "output_type": "display_data"
    },
    {
     "name": "stdout",
     "output_type": "stream",
     "text": [
      "[2025-06-18 09:31:18 INFO] File HLS.L30.T11SLA.2023096T183339.v2.0.B10.tif already downloaded\n",
      "[2025-06-18 09:31:18 INFO] File HLS.L30.T11SLA.2023096T183339.v2.0.B05.tif already downloaded\n",
      "[2025-06-18 09:31:18 INFO] File HLS.L30.T11SLA.2023096T183339.v2.0.B07.tif already downloaded\n",
      "[2025-06-18 09:31:18 INFO] File HLS.L30.T11SLA.2023096T183339.v2.0.VAA.tif already downloaded\n"
     ]
    },
    {
     "data": {
      "application/vnd.jupyter.widget-view+json": {
       "model_id": "5cee2b5e720c4ec78c88f7e30f03a9b9",
       "version_major": 2,
       "version_minor": 0
      },
      "text/plain": [
       "PROCESSING TASKS | :   0%|          | 0/15 [00:00<?, ?it/s]"
      ]
     },
     "metadata": {},
     "output_type": "display_data"
    },
    {
     "name": "stdout",
     "output_type": "stream",
     "text": [
      "[2025-06-18 09:31:18 INFO] File HLS.L30.T11SLA.2023096T183339.v2.0.SZA.tif already downloaded\n",
      "[2025-06-18 09:31:18 INFO] File HLS.L30.T11SLA.2023096T183339.v2.0.B11.tif already downloaded\n",
      "[2025-06-18 09:31:18 INFO] File HLS.L30.T11SLA.2023096T183339.v2.0.B03.tif already downloaded\n",
      "[2025-06-18 09:31:18 INFO] File HLS.L30.T11SLA.2023096T183339.v2.0.B09.tif already downloaded\n",
      "[2025-06-18 09:31:18 INFO] File HLS.L30.T11SLA.2023096T183339.v2.0.B06.tif already downloaded\n",
      "[2025-06-18 09:31:18 INFO] File HLS.L30.T11SLA.2023096T183339.v2.0.B02.tif already downloaded\n",
      "[2025-06-18 09:31:18 INFO] File HLS.L30.T11SLA.2023096T183339.v2.0.Fmask.tif already downloaded\n",
      "[2025-06-18 09:31:18 INFO] File HLS.L30.T11SLA.2023096T183339.v2.0.B01.tif already downloaded\n",
      "[2025-06-18 09:31:18 INFO] File HLS.L30.T11SLA.2023096T183339.v2.0.B04.tif already downloaded\n",
      "[2025-06-18 09:31:18 INFO] File HLS.L30.T11SLA.2023096T183339.v2.0.VZA.tif already downloaded\n",
      "[2025-06-18 09:31:18 INFO] File HLS.L30.T11SLA.2023096T183339.v2.0.SAA.tif already downloaded\n"
     ]
    },
    {
     "data": {
      "application/vnd.jupyter.widget-view+json": {
       "model_id": "d7655df4f98f43d4a66ae7d15fc56408",
       "version_major": 2,
       "version_minor": 0
      },
      "text/plain": [
       "COLLECTING RESULTS | :   0%|          | 0/15 [00:00<?, ?it/s]"
      ]
     },
     "metadata": {},
     "output_type": "display_data"
    },
    {
     "name": "stdout",
     "output_type": "stream",
     "text": [
      "[2025-06-18 09:31:20 INFO] writing image to ~/data/kings_canyon_HLS/HLS_blue_11SLA_20230406.tif\n"
     ]
    },
    {
     "name": "stderr",
     "output_type": "stream",
     "text": [
      "/Users/halverso/Projects/harmonized-landsat-sentinel/harmonized_landsat_sentinel/HLS_connection.py:513: RuntimeWarning: Mean of empty slice\n",
      "  image = rt.Raster(np.nanmean(np.dstack([sentinel.NDVI, landsat.NDVI]), axis=2), geometry=sentinel.geometry)\n"
     ]
    },
    {
     "name": "stdout",
     "output_type": "stream",
     "text": [
      "[2025-06-18 09:31:23 INFO] extracting band ['red', 'green', 'blue', 'NIR', 'SWIR1', 'SWIR2'] for date 2023-04-06\n",
      "[2025-06-18 09:31:23 INFO] searching for Sentinel tile \u001b[33m11SLA\u001b[0m on \u001b[32m2023-04-06\u001b[0m\n",
      "[2025-06-18 09:31:23 INFO] retrieving Sentinel tile \u001b[33m11SLA\u001b[0m on \u001b[32m2023-04-06\u001b[0m: ~/data/HLS2/2023.04.06/HLS.S30.T11SLA.2023096T183921.v2.0\n",
      "[2025-06-18 09:31:23 INFO]  Getting 1 granules, approx download size: 0.23 GB\n"
     ]
    },
    {
     "data": {
      "application/vnd.jupyter.widget-view+json": {
       "model_id": "a7c2f3ee05c44a6193645647742b0793",
       "version_major": 2,
       "version_minor": 0
      },
      "text/plain": [
       "QUEUEING TASKS | :   0%|          | 0/18 [00:00<?, ?it/s]"
      ]
     },
     "metadata": {},
     "output_type": "display_data"
    },
    {
     "name": "stdout",
     "output_type": "stream",
     "text": [
      "[2025-06-18 09:31:23 INFO] File HLS.S30.T11SLA.2023096T183921.v2.0.SZA.tif already downloaded\n",
      "[2025-06-18 09:31:23 INFO] File HLS.S30.T11SLA.2023096T183921.v2.0.B02.tif already downloaded\n",
      "[2025-06-18 09:31:23 INFO] File HLS.S30.T11SLA.2023096T183921.v2.0.VAA.tif already downloaded\n",
      "[2025-06-18 09:31:23 INFO] File HLS.S30.T11SLA.2023096T183921.v2.0.B08.tif already downloaded\n"
     ]
    },
    {
     "data": {
      "application/vnd.jupyter.widget-view+json": {
       "model_id": "d7c424803b2246c1ba9af7974e939bbe",
       "version_major": 2,
       "version_minor": 0
      },
      "text/plain": [
       "PROCESSING TASKS | :   0%|          | 0/18 [00:00<?, ?it/s]"
      ]
     },
     "metadata": {},
     "output_type": "display_data"
    },
    {
     "name": "stdout",
     "output_type": "stream",
     "text": [
      "[2025-06-18 09:31:23 INFO] File HLS.S30.T11SLA.2023096T183921.v2.0.SAA.tif already downloaded\n",
      "[2025-06-18 09:31:23 INFO] File HLS.S30.T11SLA.2023096T183921.v2.0.B01.tif already downloaded\n",
      "[2025-06-18 09:31:23 INFO] File HLS.S30.T11SLA.2023096T183921.v2.0.B07.tif already downloaded\n",
      "[2025-06-18 09:31:23 INFO] File HLS.S30.T11SLA.2023096T183921.v2.0.VZA.tif already downloaded\n",
      "[2025-06-18 09:31:23 INFO] File HLS.S30.T11SLA.2023096T183921.v2.0.Fmask.tif already downloaded\n",
      "[2025-06-18 09:31:23 INFO] File HLS.S30.T11SLA.2023096T183921.v2.0.B09.tif already downloaded\n",
      "[2025-06-18 09:31:23 INFO] File HLS.S30.T11SLA.2023096T183921.v2.0.B11.tif already downloaded\n",
      "[2025-06-18 09:31:23 INFO] File HLS.S30.T11SLA.2023096T183921.v2.0.B04.tif already downloaded\n",
      "[2025-06-18 09:31:23 INFO] File HLS.S30.T11SLA.2023096T183921.v2.0.B03.tif already downloaded\n",
      "[2025-06-18 09:31:23 INFO] File HLS.S30.T11SLA.2023096T183921.v2.0.B06.tif already downloaded\n",
      "[2025-06-18 09:31:23 INFO] File HLS.S30.T11SLA.2023096T183921.v2.0.B10.tif already downloaded\n",
      "[2025-06-18 09:31:23 INFO] File HLS.S30.T11SLA.2023096T183921.v2.0.B05.tif already downloaded\n",
      "[2025-06-18 09:31:23 INFO] File HLS.S30.T11SLA.2023096T183921.v2.0.B8A.tif already downloaded\n",
      "[2025-06-18 09:31:23 INFO] File HLS.S30.T11SLA.2023096T183921.v2.0.B12.tif already downloaded\n"
     ]
    },
    {
     "data": {
      "application/vnd.jupyter.widget-view+json": {
       "model_id": "cdaf5e7513184217aa1c96b2352f7a2d",
       "version_major": 2,
       "version_minor": 0
      },
      "text/plain": [
       "COLLECTING RESULTS | :   0%|          | 0/18 [00:00<?, ?it/s]"
      ]
     },
     "metadata": {},
     "output_type": "display_data"
    },
    {
     "name": "stdout",
     "output_type": "stream",
     "text": [
      "[2025-06-18 09:31:23 INFO] searching for Landsat tile \u001b[33m11SLA\u001b[0m on \u001b[32m2023-04-06\u001b[0m\n",
      "[2025-06-18 09:31:23 INFO] retrieving Landsat tile \u001b[33m11SLA\u001b[0m on \u001b[32m2023-04-06\u001b[0m: ~/data/HLS2/2023.04.06/HLS.L30.T11SLA.2023096T183339.v2.0\n",
      "[2025-06-18 09:31:23 INFO]  Getting 1 granules, approx download size: 0.16 GB\n"
     ]
    },
    {
     "data": {
      "application/vnd.jupyter.widget-view+json": {
       "model_id": "0be3ac9d4a104fb39a57d90832a841ef",
       "version_major": 2,
       "version_minor": 0
      },
      "text/plain": [
       "QUEUEING TASKS | :   0%|          | 0/15 [00:00<?, ?it/s]"
      ]
     },
     "metadata": {},
     "output_type": "display_data"
    },
    {
     "name": "stdout",
     "output_type": "stream",
     "text": [
      "[2025-06-18 09:31:23 INFO] File HLS.L30.T11SLA.2023096T183339.v2.0.B10.tif already downloaded\n",
      "[2025-06-18 09:31:23 INFO] File HLS.L30.T11SLA.2023096T183339.v2.0.B05.tif already downloaded\n",
      "[2025-06-18 09:31:23 INFO] File HLS.L30.T11SLA.2023096T183339.v2.0.B07.tif already downloaded\n",
      "[2025-06-18 09:31:23 INFO] File HLS.L30.T11SLA.2023096T183339.v2.0.SZA.tif already downloaded\n",
      "[2025-06-18 09:31:23 INFO] File HLS.L30.T11SLA.2023096T183339.v2.0.VAA.tif already downloaded\n"
     ]
    },
    {
     "data": {
      "application/vnd.jupyter.widget-view+json": {
       "model_id": "23b2a4408d114b5cb10ef831ce1d7640",
       "version_major": 2,
       "version_minor": 0
      },
      "text/plain": [
       "PROCESSING TASKS | :   0%|          | 0/15 [00:00<?, ?it/s]"
      ]
     },
     "metadata": {},
     "output_type": "display_data"
    },
    {
     "name": "stdout",
     "output_type": "stream",
     "text": [
      "[2025-06-18 09:31:23 INFO] File HLS.L30.T11SLA.2023096T183339.v2.0.B03.tif already downloaded\n",
      "[2025-06-18 09:31:23 INFO] File HLS.L30.T11SLA.2023096T183339.v2.0.B06.tif already downloaded\n",
      "[2025-06-18 09:31:23 INFO] File HLS.L30.T11SLA.2023096T183339.v2.0.B11.tif already downloaded\n",
      "[2025-06-18 09:31:23 INFO] File HLS.L30.T11SLA.2023096T183339.v2.0.B09.tif already downloaded\n",
      "[2025-06-18 09:31:23 INFO] File HLS.L30.T11SLA.2023096T183339.v2.0.B02.tif already downloaded\n",
      "[2025-06-18 09:31:23 INFO] File HLS.L30.T11SLA.2023096T183339.v2.0.Fmask.tif already downloaded\n",
      "[2025-06-18 09:31:23 INFO] File HLS.L30.T11SLA.2023096T183339.v2.0.B01.tif already downloaded\n",
      "[2025-06-18 09:31:23 INFO] File HLS.L30.T11SLA.2023096T183339.v2.0.B04.tif already downloaded\n",
      "[2025-06-18 09:31:23 INFO] File HLS.L30.T11SLA.2023096T183339.v2.0.VZA.tif already downloaded\n",
      "[2025-06-18 09:31:23 INFO] File HLS.L30.T11SLA.2023096T183339.v2.0.SAA.tif already downloaded\n"
     ]
    },
    {
     "data": {
      "application/vnd.jupyter.widget-view+json": {
       "model_id": "a3cd3e5fd53e4d8da48c2c7f94a836e8",
       "version_major": 2,
       "version_minor": 0
      },
      "text/plain": [
       "COLLECTING RESULTS | :   0%|          | 0/15 [00:00<?, ?it/s]"
      ]
     },
     "metadata": {},
     "output_type": "display_data"
    },
    {
     "name": "stderr",
     "output_type": "stream",
     "text": [
      "/Users/halverso/Projects/harmonized-landsat-sentinel/harmonized_landsat_sentinel/HLS_connection.py:513: RuntimeWarning: Mean of empty slice\n",
      "  image = rt.Raster(np.nanmean(np.dstack([sentinel.NDVI, landsat.NDVI]), axis=2), geometry=sentinel.geometry)\n"
     ]
    },
    {
     "name": "stdout",
     "output_type": "stream",
     "text": [
      "[2025-06-18 09:31:26 INFO] writing image to ~/data/kings_canyon_HLS/HLS_NIR_11SLA_20230406.tif\n",
      "[2025-06-18 09:31:29 INFO] extracting band ['red', 'green', 'blue', 'NIR', 'SWIR1', 'SWIR2'] for date 2023-04-06\n",
      "[2025-06-18 09:31:29 INFO] searching for Sentinel tile \u001b[33m11SLA\u001b[0m on \u001b[32m2023-04-06\u001b[0m\n",
      "[2025-06-18 09:31:29 INFO] retrieving Sentinel tile \u001b[33m11SLA\u001b[0m on \u001b[32m2023-04-06\u001b[0m: ~/data/HLS2/2023.04.06/HLS.S30.T11SLA.2023096T183921.v2.0\n",
      "[2025-06-18 09:31:29 INFO]  Getting 1 granules, approx download size: 0.23 GB\n"
     ]
    },
    {
     "data": {
      "application/vnd.jupyter.widget-view+json": {
       "model_id": "da9af86b22404577837f4813f057e477",
       "version_major": 2,
       "version_minor": 0
      },
      "text/plain": [
       "QUEUEING TASKS | :   0%|          | 0/18 [00:00<?, ?it/s]"
      ]
     },
     "metadata": {},
     "output_type": "display_data"
    },
    {
     "name": "stdout",
     "output_type": "stream",
     "text": [
      "[2025-06-18 09:31:29 INFO] File HLS.S30.T11SLA.2023096T183921.v2.0.SZA.tif already downloaded\n",
      "[2025-06-18 09:31:29 INFO] File HLS.S30.T11SLA.2023096T183921.v2.0.B02.tif already downloaded\n",
      "[2025-06-18 09:31:29 INFO] File HLS.S30.T11SLA.2023096T183921.v2.0.VAA.tif already downloaded\n",
      "[2025-06-18 09:31:29 INFO] File HLS.S30.T11SLA.2023096T183921.v2.0.B08.tif already downloaded\n",
      "[2025-06-18 09:31:29 INFO] File HLS.S30.T11SLA.2023096T183921.v2.0.SAA.tif already downloaded\n"
     ]
    },
    {
     "data": {
      "application/vnd.jupyter.widget-view+json": {
       "model_id": "8e2aa2be3dda4df2b5618aae23db6c91",
       "version_major": 2,
       "version_minor": 0
      },
      "text/plain": [
       "PROCESSING TASKS | :   0%|          | 0/18 [00:00<?, ?it/s]"
      ]
     },
     "metadata": {},
     "output_type": "display_data"
    },
    {
     "name": "stdout",
     "output_type": "stream",
     "text": [
      "[2025-06-18 09:31:29 INFO] File HLS.S30.T11SLA.2023096T183921.v2.0.B01.tif already downloaded\n",
      "[2025-06-18 09:31:29 INFO] File HLS.S30.T11SLA.2023096T183921.v2.0.B07.tif already downloaded\n",
      "[2025-06-18 09:31:29 INFO] File HLS.S30.T11SLA.2023096T183921.v2.0.VZA.tif already downloaded\n",
      "[2025-06-18 09:31:29 INFO] File HLS.S30.T11SLA.2023096T183921.v2.0.B09.tif already downloaded\n",
      "[2025-06-18 09:31:29 INFO] File HLS.S30.T11SLA.2023096T183921.v2.0.B11.tif already downloaded\n",
      "[2025-06-18 09:31:29 INFO] File HLS.S30.T11SLA.2023096T183921.v2.0.Fmask.tif already downloaded\n",
      "[2025-06-18 09:31:29 INFO] File HLS.S30.T11SLA.2023096T183921.v2.0.B04.tif already downloaded\n",
      "[2025-06-18 09:31:29 INFO] File HLS.S30.T11SLA.2023096T183921.v2.0.B03.tif already downloaded\n",
      "[2025-06-18 09:31:29 INFO] File HLS.S30.T11SLA.2023096T183921.v2.0.B06.tif already downloaded\n",
      "[2025-06-18 09:31:29 INFO] File HLS.S30.T11SLA.2023096T183921.v2.0.B10.tif already downloaded\n",
      "[2025-06-18 09:31:29 INFO] File HLS.S30.T11SLA.2023096T183921.v2.0.B05.tif already downloaded\n",
      "[2025-06-18 09:31:29 INFO] File HLS.S30.T11SLA.2023096T183921.v2.0.B8A.tif already downloaded\n",
      "[2025-06-18 09:31:29 INFO] File HLS.S30.T11SLA.2023096T183921.v2.0.B12.tif already downloaded\n"
     ]
    },
    {
     "data": {
      "application/vnd.jupyter.widget-view+json": {
       "model_id": "a1b00b2e771b447fb809f966956ebc70",
       "version_major": 2,
       "version_minor": 0
      },
      "text/plain": [
       "COLLECTING RESULTS | :   0%|          | 0/18 [00:00<?, ?it/s]"
      ]
     },
     "metadata": {},
     "output_type": "display_data"
    },
    {
     "name": "stdout",
     "output_type": "stream",
     "text": [
      "[2025-06-18 09:31:29 INFO] searching for Landsat tile \u001b[33m11SLA\u001b[0m on \u001b[32m2023-04-06\u001b[0m\n",
      "[2025-06-18 09:31:29 INFO] retrieving Landsat tile \u001b[33m11SLA\u001b[0m on \u001b[32m2023-04-06\u001b[0m: ~/data/HLS2/2023.04.06/HLS.L30.T11SLA.2023096T183339.v2.0\n",
      "[2025-06-18 09:31:29 INFO]  Getting 1 granules, approx download size: 0.16 GB\n"
     ]
    },
    {
     "data": {
      "application/vnd.jupyter.widget-view+json": {
       "model_id": "ca74bf98209d4587b3065f27a1ff27b0",
       "version_major": 2,
       "version_minor": 0
      },
      "text/plain": [
       "QUEUEING TASKS | :   0%|          | 0/15 [00:00<?, ?it/s]"
      ]
     },
     "metadata": {},
     "output_type": "display_data"
    },
    {
     "name": "stdout",
     "output_type": "stream",
     "text": [
      "[2025-06-18 09:31:29 INFO] File HLS.L30.T11SLA.2023096T183339.v2.0.B10.tif already downloaded\n",
      "[2025-06-18 09:31:29 INFO] File HLS.L30.T11SLA.2023096T183339.v2.0.B07.tif already downloaded\n",
      "[2025-06-18 09:31:29 INFO] File HLS.L30.T11SLA.2023096T183339.v2.0.B05.tif already downloaded\n",
      "[2025-06-18 09:31:29 INFO] File HLS.L30.T11SLA.2023096T183339.v2.0.VAA.tif already downloaded\n"
     ]
    },
    {
     "data": {
      "application/vnd.jupyter.widget-view+json": {
       "model_id": "5838cccf8e184a06ace011faedf0e2cf",
       "version_major": 2,
       "version_minor": 0
      },
      "text/plain": [
       "PROCESSING TASKS | :   0%|          | 0/15 [00:00<?, ?it/s]"
      ]
     },
     "metadata": {},
     "output_type": "display_data"
    },
    {
     "name": "stdout",
     "output_type": "stream",
     "text": [
      "[2025-06-18 09:31:29 INFO] File HLS.L30.T11SLA.2023096T183339.v2.0.B11.tif already downloaded\n",
      "[2025-06-18 09:31:29 INFO] File HLS.L30.T11SLA.2023096T183339.v2.0.SZA.tif already downloaded\n",
      "[2025-06-18 09:31:29 INFO] File HLS.L30.T11SLA.2023096T183339.v2.0.B03.tif already downloaded\n",
      "[2025-06-18 09:31:29 INFO] File HLS.L30.T11SLA.2023096T183339.v2.0.B06.tif already downloaded\n",
      "[2025-06-18 09:31:29 INFO] File HLS.L30.T11SLA.2023096T183339.v2.0.B09.tif already downloaded\n",
      "[2025-06-18 09:31:29 INFO] File HLS.L30.T11SLA.2023096T183339.v2.0.B02.tif already downloaded\n",
      "[2025-06-18 09:31:29 INFO] File HLS.L30.T11SLA.2023096T183339.v2.0.Fmask.tif already downloaded\n",
      "[2025-06-18 09:31:29 INFO] File HLS.L30.T11SLA.2023096T183339.v2.0.B01.tif already downloaded\n",
      "[2025-06-18 09:31:29 INFO] File HLS.L30.T11SLA.2023096T183339.v2.0.B04.tif already downloaded\n",
      "[2025-06-18 09:31:29 INFO] File HLS.L30.T11SLA.2023096T183339.v2.0.VZA.tif already downloaded\n",
      "[2025-06-18 09:31:29 INFO] File HLS.L30.T11SLA.2023096T183339.v2.0.SAA.tif already downloaded\n"
     ]
    },
    {
     "data": {
      "application/vnd.jupyter.widget-view+json": {
       "model_id": "3ebd534eb5ff4a96bd7552275e2d109f",
       "version_major": 2,
       "version_minor": 0
      },
      "text/plain": [
       "COLLECTING RESULTS | :   0%|          | 0/15 [00:00<?, ?it/s]"
      ]
     },
     "metadata": {},
     "output_type": "display_data"
    },
    {
     "name": "stderr",
     "output_type": "stream",
     "text": [
      "/Users/halverso/Projects/harmonized-landsat-sentinel/harmonized_landsat_sentinel/HLS_connection.py:513: RuntimeWarning: Mean of empty slice\n",
      "  image = rt.Raster(np.nanmean(np.dstack([sentinel.NDVI, landsat.NDVI]), axis=2), geometry=sentinel.geometry)\n"
     ]
    },
    {
     "name": "stdout",
     "output_type": "stream",
     "text": [
      "[2025-06-18 09:31:32 INFO] writing image to ~/data/kings_canyon_HLS/HLS_SWIR1_11SLA_20230406.tif\n",
      "[2025-06-18 09:31:35 INFO] extracting band ['red', 'green', 'blue', 'NIR', 'SWIR1', 'SWIR2'] for date 2023-04-06\n",
      "[2025-06-18 09:31:35 INFO] searching for Sentinel tile \u001b[33m11SLA\u001b[0m on \u001b[32m2023-04-06\u001b[0m\n",
      "[2025-06-18 09:31:35 INFO] retrieving Sentinel tile \u001b[33m11SLA\u001b[0m on \u001b[32m2023-04-06\u001b[0m: ~/data/HLS2/2023.04.06/HLS.S30.T11SLA.2023096T183921.v2.0\n",
      "[2025-06-18 09:31:35 INFO]  Getting 1 granules, approx download size: 0.23 GB\n"
     ]
    },
    {
     "data": {
      "application/vnd.jupyter.widget-view+json": {
       "model_id": "0078a88ba1d947ccb3d3ec59481b4f9c",
       "version_major": 2,
       "version_minor": 0
      },
      "text/plain": [
       "QUEUEING TASKS | :   0%|          | 0/18 [00:00<?, ?it/s]"
      ]
     },
     "metadata": {},
     "output_type": "display_data"
    },
    {
     "name": "stdout",
     "output_type": "stream",
     "text": [
      "[2025-06-18 09:31:35 INFO] File HLS.S30.T11SLA.2023096T183921.v2.0.SZA.tif already downloaded\n",
      "[2025-06-18 09:31:35 INFO] File HLS.S30.T11SLA.2023096T183921.v2.0.B02.tif already downloaded\n",
      "[2025-06-18 09:31:35 INFO] File HLS.S30.T11SLA.2023096T183921.v2.0.VAA.tif already downloaded\n",
      "[2025-06-18 09:31:35 INFO] File HLS.S30.T11SLA.2023096T183921.v2.0.B08.tif already downloaded\n"
     ]
    },
    {
     "data": {
      "application/vnd.jupyter.widget-view+json": {
       "model_id": "d8112119c30546c98dd0c5e9543aec13",
       "version_major": 2,
       "version_minor": 0
      },
      "text/plain": [
       "PROCESSING TASKS | :   0%|          | 0/18 [00:00<?, ?it/s]"
      ]
     },
     "metadata": {},
     "output_type": "display_data"
    },
    {
     "name": "stdout",
     "output_type": "stream",
     "text": [
      "[2025-06-18 09:31:35 INFO] File HLS.S30.T11SLA.2023096T183921.v2.0.SAA.tif already downloaded\n",
      "[2025-06-18 09:31:35 INFO] File HLS.S30.T11SLA.2023096T183921.v2.0.B01.tif already downloaded\n",
      "[2025-06-18 09:31:35 INFO] File HLS.S30.T11SLA.2023096T183921.v2.0.B07.tif already downloaded\n",
      "[2025-06-18 09:31:35 INFO] File HLS.S30.T11SLA.2023096T183921.v2.0.B09.tif already downloaded\n",
      "[2025-06-18 09:31:35 INFO] File HLS.S30.T11SLA.2023096T183921.v2.0.VZA.tif already downloaded\n",
      "[2025-06-18 09:31:35 INFO] File HLS.S30.T11SLA.2023096T183921.v2.0.Fmask.tif already downloaded\n",
      "[2025-06-18 09:31:35 INFO] File HLS.S30.T11SLA.2023096T183921.v2.0.B11.tif already downloaded\n",
      "[2025-06-18 09:31:35 INFO] File HLS.S30.T11SLA.2023096T183921.v2.0.B04.tif already downloaded\n",
      "[2025-06-18 09:31:35 INFO] File HLS.S30.T11SLA.2023096T183921.v2.0.B03.tif already downloaded\n",
      "[2025-06-18 09:31:35 INFO] File HLS.S30.T11SLA.2023096T183921.v2.0.B06.tif already downloaded\n",
      "[2025-06-18 09:31:35 INFO] File HLS.S30.T11SLA.2023096T183921.v2.0.B10.tif already downloaded\n",
      "[2025-06-18 09:31:35 INFO] File HLS.S30.T11SLA.2023096T183921.v2.0.B05.tif already downloaded\n",
      "[2025-06-18 09:31:35 INFO] File HLS.S30.T11SLA.2023096T183921.v2.0.B8A.tif already downloaded\n",
      "[2025-06-18 09:31:35 INFO] File HLS.S30.T11SLA.2023096T183921.v2.0.B12.tif already downloaded\n"
     ]
    },
    {
     "data": {
      "application/vnd.jupyter.widget-view+json": {
       "model_id": "66fdfbcd731045feb004776fe2a01e09",
       "version_major": 2,
       "version_minor": 0
      },
      "text/plain": [
       "COLLECTING RESULTS | :   0%|          | 0/18 [00:00<?, ?it/s]"
      ]
     },
     "metadata": {},
     "output_type": "display_data"
    },
    {
     "name": "stdout",
     "output_type": "stream",
     "text": [
      "[2025-06-18 09:31:35 INFO] searching for Landsat tile \u001b[33m11SLA\u001b[0m on \u001b[32m2023-04-06\u001b[0m\n",
      "[2025-06-18 09:31:35 INFO] retrieving Landsat tile \u001b[33m11SLA\u001b[0m on \u001b[32m2023-04-06\u001b[0m: ~/data/HLS2/2023.04.06/HLS.L30.T11SLA.2023096T183339.v2.0\n",
      "[2025-06-18 09:31:35 INFO]  Getting 1 granules, approx download size: 0.16 GB\n"
     ]
    },
    {
     "data": {
      "application/vnd.jupyter.widget-view+json": {
       "model_id": "1ed8a00352014ccfba9546d99cd29e39",
       "version_major": 2,
       "version_minor": 0
      },
      "text/plain": [
       "QUEUEING TASKS | :   0%|          | 0/15 [00:00<?, ?it/s]"
      ]
     },
     "metadata": {},
     "output_type": "display_data"
    },
    {
     "name": "stdout",
     "output_type": "stream",
     "text": [
      "[2025-06-18 09:31:35 INFO] File HLS.L30.T11SLA.2023096T183339.v2.0.B10.tif already downloaded\n",
      "[2025-06-18 09:31:35 INFO] File HLS.L30.T11SLA.2023096T183339.v2.0.B05.tif already downloaded\n"
     ]
    },
    {
     "data": {
      "application/vnd.jupyter.widget-view+json": {
       "model_id": "1760c19846be4c0587a819732ca34696",
       "version_major": 2,
       "version_minor": 0
      },
      "text/plain": [
       "PROCESSING TASKS | :   0%|          | 0/15 [00:00<?, ?it/s]"
      ]
     },
     "metadata": {},
     "output_type": "display_data"
    },
    {
     "name": "stdout",
     "output_type": "stream",
     "text": [
      "[2025-06-18 09:31:35 INFO] File HLS.L30.T11SLA.2023096T183339.v2.0.B07.tif already downloaded\n",
      "[2025-06-18 09:31:35 INFO] File HLS.L30.T11SLA.2023096T183339.v2.0.VAA.tif already downloaded\n",
      "[2025-06-18 09:31:35 INFO] File HLS.L30.T11SLA.2023096T183339.v2.0.SZA.tif already downloaded\n",
      "[2025-06-18 09:31:35 INFO] File HLS.L30.T11SLA.2023096T183339.v2.0.B06.tif already downloaded\n",
      "[2025-06-18 09:31:35 INFO] File HLS.L30.T11SLA.2023096T183339.v2.0.B09.tif already downloaded\n",
      "[2025-06-18 09:31:35 INFO] File HLS.L30.T11SLA.2023096T183339.v2.0.B11.tif already downloaded\n",
      "[2025-06-18 09:31:35 INFO] File HLS.L30.T11SLA.2023096T183339.v2.0.B03.tif already downloaded\n",
      "[2025-06-18 09:31:35 INFO] File HLS.L30.T11SLA.2023096T183339.v2.0.B02.tif already downloaded\n",
      "[2025-06-18 09:31:35 INFO] File HLS.L30.T11SLA.2023096T183339.v2.0.Fmask.tif already downloaded\n",
      "[2025-06-18 09:31:35 INFO] File HLS.L30.T11SLA.2023096T183339.v2.0.B01.tif already downloaded\n",
      "[2025-06-18 09:31:35 INFO] File HLS.L30.T11SLA.2023096T183339.v2.0.B04.tif already downloaded\n",
      "[2025-06-18 09:31:35 INFO] File HLS.L30.T11SLA.2023096T183339.v2.0.VZA.tif already downloaded\n",
      "[2025-06-18 09:31:35 INFO] File HLS.L30.T11SLA.2023096T183339.v2.0.SAA.tif already downloaded\n"
     ]
    },
    {
     "data": {
      "application/vnd.jupyter.widget-view+json": {
       "model_id": "ef1cc16447474a36b3f59f760b633b21",
       "version_major": 2,
       "version_minor": 0
      },
      "text/plain": [
       "COLLECTING RESULTS | :   0%|          | 0/15 [00:00<?, ?it/s]"
      ]
     },
     "metadata": {},
     "output_type": "display_data"
    },
    {
     "name": "stderr",
     "output_type": "stream",
     "text": [
      "/Users/halverso/Projects/harmonized-landsat-sentinel/harmonized_landsat_sentinel/HLS_connection.py:513: RuntimeWarning: Mean of empty slice\n",
      "  image = rt.Raster(np.nanmean(np.dstack([sentinel.NDVI, landsat.NDVI]), axis=2), geometry=sentinel.geometry)\n"
     ]
    },
    {
     "name": "stdout",
     "output_type": "stream",
     "text": [
      "[2025-06-18 09:31:37 INFO] writing image to ~/data/kings_canyon_HLS/HLS_SWIR2_11SLA_20230406.tif\n",
      "[2025-06-18 09:31:40 INFO] extracting band ['red', 'green', 'blue', 'NIR', 'SWIR1', 'SWIR2'] for date 2023-04-07\n",
      "[2025-06-18 09:31:40 INFO] searching for Sentinel tile \u001b[33m11SLA\u001b[0m on \u001b[32m2023-04-07\u001b[0m\n",
      "[2025-06-18 09:31:40 INFO] searching for Landsat tile \u001b[33m11SLA\u001b[0m on \u001b[32m2023-04-07\u001b[0m\n",
      "[2025-06-18 09:31:40 INFO] retrieving Landsat tile \u001b[33m11SLA\u001b[0m on \u001b[32m2023-04-07\u001b[0m: ~/data/HLS2/2023.04.07/HLS.L30.T11SLA.2023097T182710.v2.0\n",
      "[2025-06-18 09:31:40 INFO]  Getting 1 granules, approx download size: 0.14 GB\n"
     ]
    },
    {
     "data": {
      "application/vnd.jupyter.widget-view+json": {
       "model_id": "2d7c1509c6d345f58dd977b8e01da067",
       "version_major": 2,
       "version_minor": 0
      },
      "text/plain": [
       "QUEUEING TASKS | :   0%|          | 0/15 [00:00<?, ?it/s]"
      ]
     },
     "metadata": {},
     "output_type": "display_data"
    },
    {
     "name": "stdout",
     "output_type": "stream",
     "text": [
      "[2025-06-18 09:31:40 INFO] File HLS.L30.T11SLA.2023097T182710.v2.0.B11.tif already downloaded\n",
      "[2025-06-18 09:31:40 INFO] File HLS.L30.T11SLA.2023097T182710.v2.0.SZA.tif already downloaded\n",
      "[2025-06-18 09:31:40 INFO] File HLS.L30.T11SLA.2023097T182710.v2.0.VAA.tif already downloaded\n",
      "[2025-06-18 09:31:40 INFO] File HLS.L30.T11SLA.2023097T182710.v2.0.B07.tif already downloaded\n"
     ]
    },
    {
     "data": {
      "application/vnd.jupyter.widget-view+json": {
       "model_id": "61a5d2556a0f46fe8de07eb4ad767804",
       "version_major": 2,
       "version_minor": 0
      },
      "text/plain": [
       "PROCESSING TASKS | :   0%|          | 0/15 [00:00<?, ?it/s]"
      ]
     },
     "metadata": {},
     "output_type": "display_data"
    },
    {
     "name": "stdout",
     "output_type": "stream",
     "text": [
      "[2025-06-18 09:31:40 INFO] File HLS.L30.T11SLA.2023097T182710.v2.0.B06.tif already downloaded\n",
      "[2025-06-18 09:31:40 INFO] File HLS.L30.T11SLA.2023097T182710.v2.0.B02.tif already downloaded\n",
      "[2025-06-18 09:31:40 INFO] File HLS.L30.T11SLA.2023097T182710.v2.0.B10.tif already downloaded\n",
      "[2025-06-18 09:31:40 INFO] File HLS.L30.T11SLA.2023097T182710.v2.0.VZA.tif already downloaded\n",
      "[2025-06-18 09:31:40 INFO] File HLS.L30.T11SLA.2023097T182710.v2.0.SAA.tif already downloaded\n",
      "[2025-06-18 09:31:40 INFO] File HLS.L30.T11SLA.2023097T182710.v2.0.B04.tif already downloaded\n",
      "[2025-06-18 09:31:40 INFO] File HLS.L30.T11SLA.2023097T182710.v2.0.B01.tif already downloaded\n",
      "[2025-06-18 09:31:40 INFO] File HLS.L30.T11SLA.2023097T182710.v2.0.Fmask.tif already downloaded\n",
      "[2025-06-18 09:31:40 INFO] File HLS.L30.T11SLA.2023097T182710.v2.0.B09.tif already downloaded\n",
      "[2025-06-18 09:31:40 INFO] File HLS.L30.T11SLA.2023097T182710.v2.0.B05.tif already downloaded\n",
      "[2025-06-18 09:31:40 INFO] File HLS.L30.T11SLA.2023097T182710.v2.0.B03.tif already downloaded\n"
     ]
    },
    {
     "data": {
      "application/vnd.jupyter.widget-view+json": {
       "model_id": "b079bf0da4844ca4b16446a63af5c0cb",
       "version_major": 2,
       "version_minor": 0
      },
      "text/plain": [
       "COLLECTING RESULTS | :   0%|          | 0/15 [00:00<?, ?it/s]"
      ]
     },
     "metadata": {},
     "output_type": "display_data"
    },
    {
     "name": "stdout",
     "output_type": "stream",
     "text": [
      "[2025-06-18 09:31:41 INFO] writing image to ~/data/kings_canyon_HLS/HLS_red_11SLA_20230407.tif\n",
      "[2025-06-18 09:31:42 INFO] extracting band ['red', 'green', 'blue', 'NIR', 'SWIR1', 'SWIR2'] for date 2023-04-07\n",
      "[2025-06-18 09:31:42 INFO] searching for Sentinel tile \u001b[33m11SLA\u001b[0m on \u001b[32m2023-04-07\u001b[0m\n",
      "[2025-06-18 09:31:42 INFO] searching for Landsat tile \u001b[33m11SLA\u001b[0m on \u001b[32m2023-04-07\u001b[0m\n",
      "[2025-06-18 09:31:42 INFO] retrieving Landsat tile \u001b[33m11SLA\u001b[0m on \u001b[32m2023-04-07\u001b[0m: ~/data/HLS2/2023.04.07/HLS.L30.T11SLA.2023097T182710.v2.0\n",
      "[2025-06-18 09:31:42 INFO]  Getting 1 granules, approx download size: 0.14 GB\n"
     ]
    },
    {
     "data": {
      "application/vnd.jupyter.widget-view+json": {
       "model_id": "4654d7fc58514520a944ee18587b95e6",
       "version_major": 2,
       "version_minor": 0
      },
      "text/plain": [
       "QUEUEING TASKS | :   0%|          | 0/15 [00:00<?, ?it/s]"
      ]
     },
     "metadata": {},
     "output_type": "display_data"
    },
    {
     "name": "stdout",
     "output_type": "stream",
     "text": [
      "[2025-06-18 09:31:42 INFO] File HLS.L30.T11SLA.2023097T182710.v2.0.B11.tif already downloaded\n",
      "[2025-06-18 09:31:42 INFO] File HLS.L30.T11SLA.2023097T182710.v2.0.SZA.tif already downloaded\n",
      "[2025-06-18 09:31:42 INFO] File HLS.L30.T11SLA.2023097T182710.v2.0.VAA.tif already downloaded\n"
     ]
    },
    {
     "data": {
      "application/vnd.jupyter.widget-view+json": {
       "model_id": "e3dae59d06f64853bd983575f3313013",
       "version_major": 2,
       "version_minor": 0
      },
      "text/plain": [
       "PROCESSING TASKS | :   0%|          | 0/15 [00:00<?, ?it/s]"
      ]
     },
     "metadata": {},
     "output_type": "display_data"
    },
    {
     "name": "stdout",
     "output_type": "stream",
     "text": [
      "[2025-06-18 09:31:42 INFO] File HLS.L30.T11SLA.2023097T182710.v2.0.B07.tif already downloaded\n",
      "[2025-06-18 09:31:42 INFO] File HLS.L30.T11SLA.2023097T182710.v2.0.B02.tif already downloaded\n",
      "[2025-06-18 09:31:42 INFO] File HLS.L30.T11SLA.2023097T182710.v2.0.B06.tif already downloaded\n",
      "[2025-06-18 09:31:42 INFO] File HLS.L30.T11SLA.2023097T182710.v2.0.B10.tif already downloaded\n",
      "[2025-06-18 09:31:42 INFO] File HLS.L30.T11SLA.2023097T182710.v2.0.VZA.tif already downloaded\n",
      "[2025-06-18 09:31:42 INFO] File HLS.L30.T11SLA.2023097T182710.v2.0.B04.tif already downloaded\n",
      "[2025-06-18 09:31:42 INFO] File HLS.L30.T11SLA.2023097T182710.v2.0.SAA.tif already downloaded\n",
      "[2025-06-18 09:31:42 INFO] File HLS.L30.T11SLA.2023097T182710.v2.0.B01.tif already downloaded\n",
      "[2025-06-18 09:31:42 INFO] File HLS.L30.T11SLA.2023097T182710.v2.0.Fmask.tif already downloaded\n",
      "[2025-06-18 09:31:42 INFO] File HLS.L30.T11SLA.2023097T182710.v2.0.B09.tif already downloaded\n",
      "[2025-06-18 09:31:42 INFO] File HLS.L30.T11SLA.2023097T182710.v2.0.B05.tif already downloaded\n",
      "[2025-06-18 09:31:42 INFO] File HLS.L30.T11SLA.2023097T182710.v2.0.B03.tif already downloaded\n"
     ]
    },
    {
     "data": {
      "application/vnd.jupyter.widget-view+json": {
       "model_id": "b2595203138a4362b4c976f22f0f6c31",
       "version_major": 2,
       "version_minor": 0
      },
      "text/plain": [
       "COLLECTING RESULTS | :   0%|          | 0/15 [00:00<?, ?it/s]"
      ]
     },
     "metadata": {},
     "output_type": "display_data"
    },
    {
     "name": "stdout",
     "output_type": "stream",
     "text": [
      "[2025-06-18 09:31:42 INFO] writing image to ~/data/kings_canyon_HLS/HLS_green_11SLA_20230407.tif\n",
      "[2025-06-18 09:31:44 INFO] extracting band ['red', 'green', 'blue', 'NIR', 'SWIR1', 'SWIR2'] for date 2023-04-07\n",
      "[2025-06-18 09:31:44 INFO] searching for Sentinel tile \u001b[33m11SLA\u001b[0m on \u001b[32m2023-04-07\u001b[0m\n",
      "[2025-06-18 09:31:44 INFO] searching for Landsat tile \u001b[33m11SLA\u001b[0m on \u001b[32m2023-04-07\u001b[0m\n",
      "[2025-06-18 09:31:44 INFO] retrieving Landsat tile \u001b[33m11SLA\u001b[0m on \u001b[32m2023-04-07\u001b[0m: ~/data/HLS2/2023.04.07/HLS.L30.T11SLA.2023097T182710.v2.0\n",
      "[2025-06-18 09:31:44 INFO]  Getting 1 granules, approx download size: 0.14 GB\n"
     ]
    },
    {
     "data": {
      "application/vnd.jupyter.widget-view+json": {
       "model_id": "c030b667b0724d509e9df1e06f0ddee1",
       "version_major": 2,
       "version_minor": 0
      },
      "text/plain": [
       "QUEUEING TASKS | :   0%|          | 0/15 [00:00<?, ?it/s]"
      ]
     },
     "metadata": {},
     "output_type": "display_data"
    },
    {
     "name": "stdout",
     "output_type": "stream",
     "text": [
      "[2025-06-18 09:31:44 INFO] File HLS.L30.T11SLA.2023097T182710.v2.0.B11.tif already downloaded\n",
      "[2025-06-18 09:31:44 INFO] File HLS.L30.T11SLA.2023097T182710.v2.0.VAA.tif already downloaded\n",
      "[2025-06-18 09:31:44 INFO] File HLS.L30.T11SLA.2023097T182710.v2.0.SZA.tif already downloaded\n"
     ]
    },
    {
     "data": {
      "application/vnd.jupyter.widget-view+json": {
       "model_id": "1db70af4daca49d99fe5b700db566b24",
       "version_major": 2,
       "version_minor": 0
      },
      "text/plain": [
       "PROCESSING TASKS | :   0%|          | 0/15 [00:00<?, ?it/s]"
      ]
     },
     "metadata": {},
     "output_type": "display_data"
    },
    {
     "name": "stdout",
     "output_type": "stream",
     "text": [
      "[2025-06-18 09:31:44 INFO] File HLS.L30.T11SLA.2023097T182710.v2.0.B07.tif already downloaded\n",
      "[2025-06-18 09:31:44 INFO] File HLS.L30.T11SLA.2023097T182710.v2.0.B02.tif already downloaded\n",
      "[2025-06-18 09:31:44 INFO] File HLS.L30.T11SLA.2023097T182710.v2.0.B06.tif already downloaded\n",
      "[2025-06-18 09:31:44 INFO] File HLS.L30.T11SLA.2023097T182710.v2.0.B10.tif already downloaded\n",
      "[2025-06-18 09:31:44 INFO] File HLS.L30.T11SLA.2023097T182710.v2.0.B03.tif already downloaded\n",
      "[2025-06-18 09:31:44 INFO] File HLS.L30.T11SLA.2023097T182710.v2.0.B04.tif already downloaded\n",
      "[2025-06-18 09:31:44 INFO] File HLS.L30.T11SLA.2023097T182710.v2.0.SAA.tif already downloaded\n",
      "[2025-06-18 09:31:44 INFO] File HLS.L30.T11SLA.2023097T182710.v2.0.B01.tif already downloaded\n",
      "[2025-06-18 09:31:44 INFO] File HLS.L30.T11SLA.2023097T182710.v2.0.Fmask.tif already downloaded\n",
      "[2025-06-18 09:31:44 INFO] File HLS.L30.T11SLA.2023097T182710.v2.0.B09.tif already downloaded\n",
      "[2025-06-18 09:31:44 INFO] File HLS.L30.T11SLA.2023097T182710.v2.0.B05.tif already downloaded\n",
      "[2025-06-18 09:31:44 INFO] File HLS.L30.T11SLA.2023097T182710.v2.0.VZA.tif already downloaded\n"
     ]
    },
    {
     "data": {
      "application/vnd.jupyter.widget-view+json": {
       "model_id": "b4b5fccea39346759946aa126552aea5",
       "version_major": 2,
       "version_minor": 0
      },
      "text/plain": [
       "COLLECTING RESULTS | :   0%|          | 0/15 [00:00<?, ?it/s]"
      ]
     },
     "metadata": {},
     "output_type": "display_data"
    },
    {
     "name": "stdout",
     "output_type": "stream",
     "text": [
      "[2025-06-18 09:31:44 INFO] writing image to ~/data/kings_canyon_HLS/HLS_blue_11SLA_20230407.tif\n",
      "[2025-06-18 09:31:45 INFO] extracting band ['red', 'green', 'blue', 'NIR', 'SWIR1', 'SWIR2'] for date 2023-04-07\n",
      "[2025-06-18 09:31:45 INFO] searching for Sentinel tile \u001b[33m11SLA\u001b[0m on \u001b[32m2023-04-07\u001b[0m\n",
      "[2025-06-18 09:31:45 INFO] searching for Landsat tile \u001b[33m11SLA\u001b[0m on \u001b[32m2023-04-07\u001b[0m\n",
      "[2025-06-18 09:31:45 INFO] retrieving Landsat tile \u001b[33m11SLA\u001b[0m on \u001b[32m2023-04-07\u001b[0m: ~/data/HLS2/2023.04.07/HLS.L30.T11SLA.2023097T182710.v2.0\n",
      "[2025-06-18 09:31:45 INFO]  Getting 1 granules, approx download size: 0.14 GB\n"
     ]
    },
    {
     "data": {
      "application/vnd.jupyter.widget-view+json": {
       "model_id": "aed28551772a4514a05531b77ed07a28",
       "version_major": 2,
       "version_minor": 0
      },
      "text/plain": [
       "QUEUEING TASKS | :   0%|          | 0/15 [00:00<?, ?it/s]"
      ]
     },
     "metadata": {},
     "output_type": "display_data"
    },
    {
     "name": "stdout",
     "output_type": "stream",
     "text": [
      "[2025-06-18 09:31:45 INFO] File HLS.L30.T11SLA.2023097T182710.v2.0.B11.tif already downloaded\n",
      "[2025-06-18 09:31:45 INFO] File HLS.L30.T11SLA.2023097T182710.v2.0.B04.tif already downloaded\n",
      "[2025-06-18 09:31:45 INFO] File HLS.L30.T11SLA.2023097T182710.v2.0.SAA.tif already downloaded\n"
     ]
    },
    {
     "data": {
      "application/vnd.jupyter.widget-view+json": {
       "model_id": "7e0cccfab37241f7b04fa0a1053e4e5b",
       "version_major": 2,
       "version_minor": 0
      },
      "text/plain": [
       "PROCESSING TASKS | :   0%|          | 0/15 [00:00<?, ?it/s]"
      ]
     },
     "metadata": {},
     "output_type": "display_data"
    },
    {
     "name": "stdout",
     "output_type": "stream",
     "text": [
      "[2025-06-18 09:31:45 INFO] File HLS.L30.T11SLA.2023097T182710.v2.0.B07.tif already downloaded\n",
      "[2025-06-18 09:31:45 INFO] File HLS.L30.T11SLA.2023097T182710.v2.0.B02.tif already downloaded\n",
      "[2025-06-18 09:31:45 INFO] File HLS.L30.T11SLA.2023097T182710.v2.0.B06.tif already downloaded\n",
      "[2025-06-18 09:31:45 INFO] File HLS.L30.T11SLA.2023097T182710.v2.0.B10.tif already downloaded\n",
      "[2025-06-18 09:31:45 INFO] File HLS.L30.T11SLA.2023097T182710.v2.0.VZA.tif already downloaded\n",
      "[2025-06-18 09:31:45 INFO] File HLS.L30.T11SLA.2023097T182710.v2.0.SZA.tif already downloaded\n",
      "[2025-06-18 09:31:45 INFO] File HLS.L30.T11SLA.2023097T182710.v2.0.VAA.tif already downloaded\n",
      "[2025-06-18 09:31:45 INFO] File HLS.L30.T11SLA.2023097T182710.v2.0.B01.tif already downloaded\n",
      "[2025-06-18 09:31:45 INFO] File HLS.L30.T11SLA.2023097T182710.v2.0.Fmask.tif already downloaded\n",
      "[2025-06-18 09:31:45 INFO] File HLS.L30.T11SLA.2023097T182710.v2.0.B09.tif already downloaded\n",
      "[2025-06-18 09:31:45 INFO] File HLS.L30.T11SLA.2023097T182710.v2.0.B05.tif already downloaded\n",
      "[2025-06-18 09:31:45 INFO] File HLS.L30.T11SLA.2023097T182710.v2.0.B03.tif already downloaded\n"
     ]
    },
    {
     "data": {
      "application/vnd.jupyter.widget-view+json": {
       "model_id": "98090f85b30a4bf5a2ac5c408515eb8d",
       "version_major": 2,
       "version_minor": 0
      },
      "text/plain": [
       "COLLECTING RESULTS | :   0%|          | 0/15 [00:00<?, ?it/s]"
      ]
     },
     "metadata": {},
     "output_type": "display_data"
    },
    {
     "name": "stdout",
     "output_type": "stream",
     "text": [
      "[2025-06-18 09:31:46 INFO] writing image to ~/data/kings_canyon_HLS/HLS_NIR_11SLA_20230407.tif\n",
      "[2025-06-18 09:31:47 INFO] extracting band ['red', 'green', 'blue', 'NIR', 'SWIR1', 'SWIR2'] for date 2023-04-07\n",
      "[2025-06-18 09:31:47 INFO] searching for Sentinel tile \u001b[33m11SLA\u001b[0m on \u001b[32m2023-04-07\u001b[0m\n",
      "[2025-06-18 09:31:47 INFO] searching for Landsat tile \u001b[33m11SLA\u001b[0m on \u001b[32m2023-04-07\u001b[0m\n",
      "[2025-06-18 09:31:47 INFO] retrieving Landsat tile \u001b[33m11SLA\u001b[0m on \u001b[32m2023-04-07\u001b[0m: ~/data/HLS2/2023.04.07/HLS.L30.T11SLA.2023097T182710.v2.0\n",
      "[2025-06-18 09:31:47 INFO]  Getting 1 granules, approx download size: 0.14 GB\n"
     ]
    },
    {
     "data": {
      "application/vnd.jupyter.widget-view+json": {
       "model_id": "4e810f9775394b648337303cc0c522f5",
       "version_major": 2,
       "version_minor": 0
      },
      "text/plain": [
       "QUEUEING TASKS | :   0%|          | 0/15 [00:00<?, ?it/s]"
      ]
     },
     "metadata": {},
     "output_type": "display_data"
    },
    {
     "name": "stdout",
     "output_type": "stream",
     "text": [
      "[2025-06-18 09:31:47 INFO] File HLS.L30.T11SLA.2023097T182710.v2.0.B11.tif already downloaded\n",
      "[2025-06-18 09:31:47 INFO] File HLS.L30.T11SLA.2023097T182710.v2.0.SZA.tif already downloaded\n",
      "[2025-06-18 09:31:47 INFO] File HLS.L30.T11SLA.2023097T182710.v2.0.VAA.tif already downloaded\n",
      "[2025-06-18 09:31:47 INFO] File HLS.L30.T11SLA.2023097T182710.v2.0.B02.tif already downloaded\n",
      "[2025-06-18 09:31:47 INFO] File HLS.L30.T11SLA.2023097T182710.v2.0.B07.tif already downloaded\n"
     ]
    },
    {
     "data": {
      "application/vnd.jupyter.widget-view+json": {
       "model_id": "b7ede0cb3f944ef5be766250b006e0c1",
       "version_major": 2,
       "version_minor": 0
      },
      "text/plain": [
       "PROCESSING TASKS | :   0%|          | 0/15 [00:00<?, ?it/s]"
      ]
     },
     "metadata": {},
     "output_type": "display_data"
    },
    {
     "name": "stdout",
     "output_type": "stream",
     "text": [
      "[2025-06-18 09:31:47 INFO] File HLS.L30.T11SLA.2023097T182710.v2.0.B06.tif already downloaded\n",
      "[2025-06-18 09:31:47 INFO] File HLS.L30.T11SLA.2023097T182710.v2.0.VZA.tif already downloaded\n",
      "[2025-06-18 09:31:47 INFO] File HLS.L30.T11SLA.2023097T182710.v2.0.B10.tif already downloaded\n",
      "[2025-06-18 09:31:47 INFO] File HLS.L30.T11SLA.2023097T182710.v2.0.B04.tif already downloaded\n",
      "[2025-06-18 09:31:47 INFO] File HLS.L30.T11SLA.2023097T182710.v2.0.B01.tif already downloaded\n",
      "[2025-06-18 09:31:47 INFO] File HLS.L30.T11SLA.2023097T182710.v2.0.SAA.tif already downloaded\n",
      "[2025-06-18 09:31:47 INFO] File HLS.L30.T11SLA.2023097T182710.v2.0.Fmask.tif already downloaded\n",
      "[2025-06-18 09:31:47 INFO] File HLS.L30.T11SLA.2023097T182710.v2.0.B09.tif already downloaded\n",
      "[2025-06-18 09:31:47 INFO] File HLS.L30.T11SLA.2023097T182710.v2.0.B05.tif already downloaded\n",
      "[2025-06-18 09:31:47 INFO] File HLS.L30.T11SLA.2023097T182710.v2.0.B03.tif already downloaded\n"
     ]
    },
    {
     "data": {
      "application/vnd.jupyter.widget-view+json": {
       "model_id": "78cecf68796c48b7963100dd5e0d3004",
       "version_major": 2,
       "version_minor": 0
      },
      "text/plain": [
       "COLLECTING RESULTS | :   0%|          | 0/15 [00:00<?, ?it/s]"
      ]
     },
     "metadata": {},
     "output_type": "display_data"
    },
    {
     "name": "stdout",
     "output_type": "stream",
     "text": [
      "[2025-06-18 09:31:47 INFO] writing image to ~/data/kings_canyon_HLS/HLS_SWIR1_11SLA_20230407.tif\n",
      "[2025-06-18 09:31:49 INFO] extracting band ['red', 'green', 'blue', 'NIR', 'SWIR1', 'SWIR2'] for date 2023-04-07\n",
      "[2025-06-18 09:31:49 INFO] searching for Sentinel tile \u001b[33m11SLA\u001b[0m on \u001b[32m2023-04-07\u001b[0m\n",
      "[2025-06-18 09:31:49 INFO] searching for Landsat tile \u001b[33m11SLA\u001b[0m on \u001b[32m2023-04-07\u001b[0m\n",
      "[2025-06-18 09:31:49 INFO] retrieving Landsat tile \u001b[33m11SLA\u001b[0m on \u001b[32m2023-04-07\u001b[0m: ~/data/HLS2/2023.04.07/HLS.L30.T11SLA.2023097T182710.v2.0\n",
      "[2025-06-18 09:31:49 INFO]  Getting 1 granules, approx download size: 0.14 GB\n"
     ]
    },
    {
     "data": {
      "application/vnd.jupyter.widget-view+json": {
       "model_id": "27bc23516627413687a643ed4d01ba49",
       "version_major": 2,
       "version_minor": 0
      },
      "text/plain": [
       "QUEUEING TASKS | :   0%|          | 0/15 [00:00<?, ?it/s]"
      ]
     },
     "metadata": {},
     "output_type": "display_data"
    },
    {
     "name": "stdout",
     "output_type": "stream",
     "text": [
      "[2025-06-18 09:31:49 INFO] File HLS.L30.T11SLA.2023097T182710.v2.0.B11.tif already downloaded\n",
      "[2025-06-18 09:31:49 INFO] File HLS.L30.T11SLA.2023097T182710.v2.0.SZA.tif already downloaded\n",
      "[2025-06-18 09:31:49 INFO] File HLS.L30.T11SLA.2023097T182710.v2.0.VAA.tif already downloaded\n"
     ]
    },
    {
     "data": {
      "application/vnd.jupyter.widget-view+json": {
       "model_id": "abfa52ed40cc467e8836041da8ea26d6",
       "version_major": 2,
       "version_minor": 0
      },
      "text/plain": [
       "PROCESSING TASKS | :   0%|          | 0/15 [00:00<?, ?it/s]"
      ]
     },
     "metadata": {},
     "output_type": "display_data"
    },
    {
     "name": "stdout",
     "output_type": "stream",
     "text": [
      "[2025-06-18 09:31:49 INFO] File HLS.L30.T11SLA.2023097T182710.v2.0.B07.tif already downloaded\n",
      "[2025-06-18 09:31:49 INFO] File HLS.L30.T11SLA.2023097T182710.v2.0.B02.tif already downloaded\n",
      "[2025-06-18 09:31:49 INFO] File HLS.L30.T11SLA.2023097T182710.v2.0.B10.tif already downloaded\n",
      "[2025-06-18 09:31:49 INFO] File HLS.L30.T11SLA.2023097T182710.v2.0.B06.tif already downloaded\n",
      "[2025-06-18 09:31:49 INFO] File HLS.L30.T11SLA.2023097T182710.v2.0.VZA.tif already downloaded\n",
      "[2025-06-18 09:31:49 INFO] File HLS.L30.T11SLA.2023097T182710.v2.0.B04.tif already downloaded\n",
      "[2025-06-18 09:31:49 INFO] File HLS.L30.T11SLA.2023097T182710.v2.0.SAA.tif already downloaded\n",
      "[2025-06-18 09:31:49 INFO] File HLS.L30.T11SLA.2023097T182710.v2.0.B01.tif already downloaded\n",
      "[2025-06-18 09:31:49 INFO] File HLS.L30.T11SLA.2023097T182710.v2.0.Fmask.tif already downloaded\n",
      "[2025-06-18 09:31:49 INFO] File HLS.L30.T11SLA.2023097T182710.v2.0.B09.tif already downloaded\n",
      "[2025-06-18 09:31:49 INFO] File HLS.L30.T11SLA.2023097T182710.v2.0.B05.tif already downloaded\n",
      "[2025-06-18 09:31:49 INFO] File HLS.L30.T11SLA.2023097T182710.v2.0.B03.tif already downloaded\n"
     ]
    },
    {
     "data": {
      "application/vnd.jupyter.widget-view+json": {
       "model_id": "c841363c4ebe4c32802bb6b6e41d9d4a",
       "version_major": 2,
       "version_minor": 0
      },
      "text/plain": [
       "COLLECTING RESULTS | :   0%|          | 0/15 [00:00<?, ?it/s]"
      ]
     },
     "metadata": {},
     "output_type": "display_data"
    },
    {
     "name": "stdout",
     "output_type": "stream",
     "text": [
      "[2025-06-18 09:31:49 INFO] writing image to ~/data/kings_canyon_HLS/HLS_SWIR2_11SLA_20230407.tif\n",
      "[2025-06-18 09:31:51 INFO] extracting band ['red', 'green', 'blue', 'NIR', 'SWIR1', 'SWIR2'] for date 2023-04-08\n",
      "[2025-06-18 09:31:51 INFO] searching for Sentinel tile \u001b[33m11SLA\u001b[0m on \u001b[32m2023-04-08\u001b[0m\n",
      "[2025-06-18 09:31:51 INFO] retrieving Sentinel tile \u001b[33m11SLA\u001b[0m on \u001b[32m2023-04-08\u001b[0m: ~/data/HLS2/2023.04.08/HLS.S30.T11SLA.2023098T182919.v2.0\n",
      "[2025-06-18 09:31:51 INFO]  Getting 1 granules, approx download size: 0.17 GB\n"
     ]
    },
    {
     "data": {
      "application/vnd.jupyter.widget-view+json": {
       "model_id": "4495729ce81c4dbd9c41ac7bff3e99fb",
       "version_major": 2,
       "version_minor": 0
      },
      "text/plain": [
       "QUEUEING TASKS | :   0%|          | 0/18 [00:00<?, ?it/s]"
      ]
     },
     "metadata": {},
     "output_type": "display_data"
    },
    {
     "name": "stdout",
     "output_type": "stream",
     "text": [
      "[2025-06-18 09:31:51 INFO] File HLS.S30.T11SLA.2023098T182919.v2.0.B11.tif already downloaded\n",
      "[2025-06-18 09:31:51 INFO] File HLS.S30.T11SLA.2023098T182919.v2.0.SZA.tif already downloaded\n"
     ]
    },
    {
     "data": {
      "application/vnd.jupyter.widget-view+json": {
       "model_id": "92ef3282dae9406eb15744a75fdd49c8",
       "version_major": 2,
       "version_minor": 0
      },
      "text/plain": [
       "PROCESSING TASKS | :   0%|          | 0/18 [00:00<?, ?it/s]"
      ]
     },
     "metadata": {},
     "output_type": "display_data"
    },
    {
     "name": "stdout",
     "output_type": "stream",
     "text": [
      "[2025-06-18 09:31:51 INFO] File HLS.S30.T11SLA.2023098T182919.v2.0.B8A.tif already downloaded\n",
      "[2025-06-18 09:31:51 INFO] File HLS.S30.T11SLA.2023098T182919.v2.0.B01.tif already downloaded\n",
      "[2025-06-18 09:31:51 INFO] File HLS.S30.T11SLA.2023098T182919.v2.0.Fmask.tif already downloaded\n",
      "[2025-06-18 09:31:51 INFO] File HLS.S30.T11SLA.2023098T182919.v2.0.B12.tif already downloaded\n",
      "[2025-06-18 09:31:51 INFO] File HLS.S30.T11SLA.2023098T182919.v2.0.VZA.tif already downloaded\n",
      "[2025-06-18 09:31:51 INFO] File HLS.S30.T11SLA.2023098T182919.v2.0.B06.tif already downloaded\n",
      "[2025-06-18 09:31:51 INFO] File HLS.S30.T11SLA.2023098T182919.v2.0.B08.tif already downloaded\n",
      "[2025-06-18 09:31:51 INFO] File HLS.S30.T11SLA.2023098T182919.v2.0.B03.tif already downloaded\n",
      "[2025-06-18 09:31:51 INFO] File HLS.S30.T11SLA.2023098T182919.v2.0.B09.tif already downloaded\n",
      "[2025-06-18 09:31:51 INFO] File HLS.S30.T11SLA.2023098T182919.v2.0.B02.tif already downloaded\n",
      "[2025-06-18 09:31:51 INFO] File HLS.S30.T11SLA.2023098T182919.v2.0.B07.tif already downloaded\n",
      "[2025-06-18 09:31:51 INFO] File HLS.S30.T11SLA.2023098T182919.v2.0.B04.tif already downloaded\n",
      "[2025-06-18 09:31:51 INFO] File HLS.S30.T11SLA.2023098T182919.v2.0.SAA.tif already downloaded\n",
      "[2025-06-18 09:31:51 INFO] File HLS.S30.T11SLA.2023098T182919.v2.0.VAA.tif already downloaded\n",
      "[2025-06-18 09:31:51 INFO] File HLS.S30.T11SLA.2023098T182919.v2.0.B05.tif already downloaded\n",
      "[2025-06-18 09:31:51 INFO] File HLS.S30.T11SLA.2023098T182919.v2.0.B10.tif already downloaded\n"
     ]
    },
    {
     "data": {
      "application/vnd.jupyter.widget-view+json": {
       "model_id": "b7fd829c73f24334850163b659ccc2b2",
       "version_major": 2,
       "version_minor": 0
      },
      "text/plain": [
       "COLLECTING RESULTS | :   0%|          | 0/18 [00:00<?, ?it/s]"
      ]
     },
     "metadata": {},
     "output_type": "display_data"
    },
    {
     "name": "stdout",
     "output_type": "stream",
     "text": [
      "[2025-06-18 09:31:51 INFO] searching for Landsat tile \u001b[33m11SLA\u001b[0m on \u001b[32m2023-04-08\u001b[0m\n",
      "[2025-06-18 09:31:51 INFO] writing image to ~/data/kings_canyon_HLS/HLS_red_11SLA_20230408.tif\n",
      "[2025-06-18 09:31:53 INFO] extracting band ['red', 'green', 'blue', 'NIR', 'SWIR1', 'SWIR2'] for date 2023-04-08\n",
      "[2025-06-18 09:31:53 INFO] searching for Sentinel tile \u001b[33m11SLA\u001b[0m on \u001b[32m2023-04-08\u001b[0m\n",
      "[2025-06-18 09:31:53 INFO] retrieving Sentinel tile \u001b[33m11SLA\u001b[0m on \u001b[32m2023-04-08\u001b[0m: ~/data/HLS2/2023.04.08/HLS.S30.T11SLA.2023098T182919.v2.0\n",
      "[2025-06-18 09:31:53 INFO]  Getting 1 granules, approx download size: 0.17 GB\n"
     ]
    },
    {
     "data": {
      "application/vnd.jupyter.widget-view+json": {
       "model_id": "3f71749be5cb4e48a6da9e8faa159a82",
       "version_major": 2,
       "version_minor": 0
      },
      "text/plain": [
       "QUEUEING TASKS | :   0%|          | 0/18 [00:00<?, ?it/s]"
      ]
     },
     "metadata": {},
     "output_type": "display_data"
    },
    {
     "name": "stdout",
     "output_type": "stream",
     "text": [
      "[2025-06-18 09:31:53 INFO] File HLS.S30.T11SLA.2023098T182919.v2.0.B11.tif already downloaded\n",
      "[2025-06-18 09:31:53 INFO] File HLS.S30.T11SLA.2023098T182919.v2.0.B8A.tif already downloaded\n",
      "[2025-06-18 09:31:53 INFO] File HLS.S30.T11SLA.2023098T182919.v2.0.SZA.tif already downloaded\n",
      "[2025-06-18 09:31:53 INFO] File HLS.S30.T11SLA.2023098T182919.v2.0.B01.tif already downloaded\n"
     ]
    },
    {
     "data": {
      "application/vnd.jupyter.widget-view+json": {
       "model_id": "ff58104bd00b4b50b0612588312f7087",
       "version_major": 2,
       "version_minor": 0
      },
      "text/plain": [
       "PROCESSING TASKS | :   0%|          | 0/18 [00:00<?, ?it/s]"
      ]
     },
     "metadata": {},
     "output_type": "display_data"
    },
    {
     "name": "stdout",
     "output_type": "stream",
     "text": [
      "[2025-06-18 09:31:53 INFO] File HLS.S30.T11SLA.2023098T182919.v2.0.B12.tif already downloaded\n",
      "[2025-06-18 09:31:53 INFO] File HLS.S30.T11SLA.2023098T182919.v2.0.Fmask.tif already downloaded\n",
      "[2025-06-18 09:31:53 INFO] File HLS.S30.T11SLA.2023098T182919.v2.0.B06.tif already downloaded\n",
      "[2025-06-18 09:31:53 INFO] File HLS.S30.T11SLA.2023098T182919.v2.0.VZA.tif already downloaded\n",
      "[2025-06-18 09:31:53 INFO] File HLS.S30.T11SLA.2023098T182919.v2.0.B08.tif already downloaded\n",
      "[2025-06-18 09:31:53 INFO] File HLS.S30.T11SLA.2023098T182919.v2.0.B03.tif already downloaded\n",
      "[2025-06-18 09:31:53 INFO] File HLS.S30.T11SLA.2023098T182919.v2.0.B09.tif already downloaded\n",
      "[2025-06-18 09:31:53 INFO] File HLS.S30.T11SLA.2023098T182919.v2.0.B02.tif already downloaded\n",
      "[2025-06-18 09:31:53 INFO] File HLS.S30.T11SLA.2023098T182919.v2.0.B07.tif already downloaded\n",
      "[2025-06-18 09:31:53 INFO] File HLS.S30.T11SLA.2023098T182919.v2.0.B04.tif already downloaded\n",
      "[2025-06-18 09:31:53 INFO] File HLS.S30.T11SLA.2023098T182919.v2.0.SAA.tif already downloaded\n",
      "[2025-06-18 09:31:53 INFO] File HLS.S30.T11SLA.2023098T182919.v2.0.VAA.tif already downloaded\n",
      "[2025-06-18 09:31:53 INFO] File HLS.S30.T11SLA.2023098T182919.v2.0.B05.tif already downloaded\n",
      "[2025-06-18 09:31:53 INFO] File HLS.S30.T11SLA.2023098T182919.v2.0.B10.tif already downloaded\n"
     ]
    },
    {
     "data": {
      "application/vnd.jupyter.widget-view+json": {
       "model_id": "b89eea3badc64be9962939d4c8e89da1",
       "version_major": 2,
       "version_minor": 0
      },
      "text/plain": [
       "COLLECTING RESULTS | :   0%|          | 0/18 [00:00<?, ?it/s]"
      ]
     },
     "metadata": {},
     "output_type": "display_data"
    },
    {
     "name": "stdout",
     "output_type": "stream",
     "text": [
      "[2025-06-18 09:31:53 INFO] searching for Landsat tile \u001b[33m11SLA\u001b[0m on \u001b[32m2023-04-08\u001b[0m\n",
      "[2025-06-18 09:31:53 INFO] writing image to ~/data/kings_canyon_HLS/HLS_green_11SLA_20230408.tif\n",
      "[2025-06-18 09:31:55 INFO] extracting band ['red', 'green', 'blue', 'NIR', 'SWIR1', 'SWIR2'] for date 2023-04-08\n",
      "[2025-06-18 09:31:55 INFO] searching for Sentinel tile \u001b[33m11SLA\u001b[0m on \u001b[32m2023-04-08\u001b[0m\n",
      "[2025-06-18 09:31:55 INFO] retrieving Sentinel tile \u001b[33m11SLA\u001b[0m on \u001b[32m2023-04-08\u001b[0m: ~/data/HLS2/2023.04.08/HLS.S30.T11SLA.2023098T182919.v2.0\n",
      "[2025-06-18 09:31:55 INFO]  Getting 1 granules, approx download size: 0.17 GB\n"
     ]
    },
    {
     "data": {
      "application/vnd.jupyter.widget-view+json": {
       "model_id": "53fbc8af4c96413faf88569185c0147f",
       "version_major": 2,
       "version_minor": 0
      },
      "text/plain": [
       "QUEUEING TASKS | :   0%|          | 0/18 [00:00<?, ?it/s]"
      ]
     },
     "metadata": {},
     "output_type": "display_data"
    },
    {
     "name": "stdout",
     "output_type": "stream",
     "text": [
      "[2025-06-18 09:31:55 INFO] File HLS.S30.T11SLA.2023098T182919.v2.0.B11.tif already downloaded\n",
      "[2025-06-18 09:31:55 INFO] File HLS.S30.T11SLA.2023098T182919.v2.0.B8A.tif already downloaded\n",
      "[2025-06-18 09:31:55 INFO] File HLS.S30.T11SLA.2023098T182919.v2.0.B01.tif already downloaded\n",
      "[2025-06-18 09:31:55 INFO] File HLS.S30.T11SLA.2023098T182919.v2.0.SZA.tif already downloaded\n",
      "[2025-06-18 09:31:55 INFO] File HLS.S30.T11SLA.2023098T182919.v2.0.B12.tif already downloaded\n"
     ]
    },
    {
     "data": {
      "application/vnd.jupyter.widget-view+json": {
       "model_id": "7f9616eea40f4e019b7febee7bf63d09",
       "version_major": 2,
       "version_minor": 0
      },
      "text/plain": [
       "PROCESSING TASKS | :   0%|          | 0/18 [00:00<?, ?it/s]"
      ]
     },
     "metadata": {},
     "output_type": "display_data"
    },
    {
     "name": "stdout",
     "output_type": "stream",
     "text": [
      "[2025-06-18 09:31:55 INFO] File HLS.S30.T11SLA.2023098T182919.v2.0.Fmask.tif already downloaded\n",
      "[2025-06-18 09:31:55 INFO] File HLS.S30.T11SLA.2023098T182919.v2.0.VZA.tif already downloaded\n",
      "[2025-06-18 09:31:55 INFO] File HLS.S30.T11SLA.2023098T182919.v2.0.B06.tif already downloaded\n",
      "[2025-06-18 09:31:55 INFO] File HLS.S30.T11SLA.2023098T182919.v2.0.B08.tif already downloaded\n",
      "[2025-06-18 09:31:55 INFO] File HLS.S30.T11SLA.2023098T182919.v2.0.B03.tif already downloaded\n",
      "[2025-06-18 09:31:55 INFO] File HLS.S30.T11SLA.2023098T182919.v2.0.B09.tif already downloaded\n",
      "[2025-06-18 09:31:55 INFO] File HLS.S30.T11SLA.2023098T182919.v2.0.B02.tif already downloaded\n",
      "[2025-06-18 09:31:55 INFO] File HLS.S30.T11SLA.2023098T182919.v2.0.B07.tif already downloaded\n",
      "[2025-06-18 09:31:55 INFO] File HLS.S30.T11SLA.2023098T182919.v2.0.B04.tif already downloaded\n",
      "[2025-06-18 09:31:55 INFO] File HLS.S30.T11SLA.2023098T182919.v2.0.SAA.tif already downloaded\n",
      "[2025-06-18 09:31:55 INFO] File HLS.S30.T11SLA.2023098T182919.v2.0.VAA.tif already downloaded\n",
      "[2025-06-18 09:31:55 INFO] File HLS.S30.T11SLA.2023098T182919.v2.0.B05.tif already downloaded\n",
      "[2025-06-18 09:31:55 INFO] File HLS.S30.T11SLA.2023098T182919.v2.0.B10.tif already downloaded\n"
     ]
    },
    {
     "data": {
      "application/vnd.jupyter.widget-view+json": {
       "model_id": "e8d90cb8a1e14faf8f702bdeea792824",
       "version_major": 2,
       "version_minor": 0
      },
      "text/plain": [
       "COLLECTING RESULTS | :   0%|          | 0/18 [00:00<?, ?it/s]"
      ]
     },
     "metadata": {},
     "output_type": "display_data"
    },
    {
     "name": "stdout",
     "output_type": "stream",
     "text": [
      "[2025-06-18 09:31:55 INFO] searching for Landsat tile \u001b[33m11SLA\u001b[0m on \u001b[32m2023-04-08\u001b[0m\n",
      "[2025-06-18 09:31:55 INFO] writing image to ~/data/kings_canyon_HLS/HLS_blue_11SLA_20230408.tif\n",
      "[2025-06-18 09:31:57 INFO] extracting band ['red', 'green', 'blue', 'NIR', 'SWIR1', 'SWIR2'] for date 2023-04-08\n",
      "[2025-06-18 09:31:57 INFO] searching for Sentinel tile \u001b[33m11SLA\u001b[0m on \u001b[32m2023-04-08\u001b[0m\n",
      "[2025-06-18 09:31:57 INFO] retrieving Sentinel tile \u001b[33m11SLA\u001b[0m on \u001b[32m2023-04-08\u001b[0m: ~/data/HLS2/2023.04.08/HLS.S30.T11SLA.2023098T182919.v2.0\n",
      "[2025-06-18 09:31:57 INFO]  Getting 1 granules, approx download size: 0.17 GB\n"
     ]
    },
    {
     "data": {
      "application/vnd.jupyter.widget-view+json": {
       "model_id": "e8930a3148804debae2c08a2bbc57b44",
       "version_major": 2,
       "version_minor": 0
      },
      "text/plain": [
       "QUEUEING TASKS | :   0%|          | 0/18 [00:00<?, ?it/s]"
      ]
     },
     "metadata": {},
     "output_type": "display_data"
    },
    {
     "name": "stdout",
     "output_type": "stream",
     "text": [
      "[2025-06-18 09:31:57 INFO] File HLS.S30.T11SLA.2023098T182919.v2.0.B11.tif already downloaded\n",
      "[2025-06-18 09:31:57 INFO] File HLS.S30.T11SLA.2023098T182919.v2.0.B8A.tif already downloaded\n",
      "[2025-06-18 09:31:57 INFO] File HLS.S30.T11SLA.2023098T182919.v2.0.SZA.tif already downloaded\n",
      "[2025-06-18 09:31:57 INFO] File HLS.S30.T11SLA.2023098T182919.v2.0.B01.tif already downloaded\n",
      "[2025-06-18 09:31:57 INFO] File HLS.S30.T11SLA.2023098T182919.v2.0.B12.tif already downloaded\n"
     ]
    },
    {
     "data": {
      "application/vnd.jupyter.widget-view+json": {
       "model_id": "e9acdad413fe46b9b037d792ffe19293",
       "version_major": 2,
       "version_minor": 0
      },
      "text/plain": [
       "PROCESSING TASKS | :   0%|          | 0/18 [00:00<?, ?it/s]"
      ]
     },
     "metadata": {},
     "output_type": "display_data"
    },
    {
     "name": "stdout",
     "output_type": "stream",
     "text": [
      "[2025-06-18 09:31:57 INFO] File HLS.S30.T11SLA.2023098T182919.v2.0.Fmask.tif already downloaded\n",
      "[2025-06-18 09:31:57 INFO] File HLS.S30.T11SLA.2023098T182919.v2.0.B06.tif already downloaded\n",
      "[2025-06-18 09:31:57 INFO] File HLS.S30.T11SLA.2023098T182919.v2.0.VZA.tif already downloaded\n",
      "[2025-06-18 09:31:57 INFO] File HLS.S30.T11SLA.2023098T182919.v2.0.B03.tif already downloaded\n",
      "[2025-06-18 09:31:57 INFO] File HLS.S30.T11SLA.2023098T182919.v2.0.B08.tif already downloaded\n",
      "[2025-06-18 09:31:57 INFO] File HLS.S30.T11SLA.2023098T182919.v2.0.B09.tif already downloaded\n",
      "[2025-06-18 09:31:57 INFO] File HLS.S30.T11SLA.2023098T182919.v2.0.B02.tif already downloaded\n",
      "[2025-06-18 09:31:57 INFO] File HLS.S30.T11SLA.2023098T182919.v2.0.B07.tif already downloaded\n",
      "[2025-06-18 09:31:57 INFO] File HLS.S30.T11SLA.2023098T182919.v2.0.B04.tif already downloaded\n",
      "[2025-06-18 09:31:57 INFO] File HLS.S30.T11SLA.2023098T182919.v2.0.SAA.tif already downloaded\n",
      "[2025-06-18 09:31:57 INFO] File HLS.S30.T11SLA.2023098T182919.v2.0.VAA.tif already downloaded\n",
      "[2025-06-18 09:31:57 INFO] File HLS.S30.T11SLA.2023098T182919.v2.0.B05.tif already downloaded\n",
      "[2025-06-18 09:31:57 INFO] File HLS.S30.T11SLA.2023098T182919.v2.0.B10.tif already downloaded\n"
     ]
    },
    {
     "data": {
      "application/vnd.jupyter.widget-view+json": {
       "model_id": "4d85b956f0bf49adb5f5d83a932829e8",
       "version_major": 2,
       "version_minor": 0
      },
      "text/plain": [
       "COLLECTING RESULTS | :   0%|          | 0/18 [00:00<?, ?it/s]"
      ]
     },
     "metadata": {},
     "output_type": "display_data"
    },
    {
     "name": "stdout",
     "output_type": "stream",
     "text": [
      "[2025-06-18 09:31:57 INFO] searching for Landsat tile \u001b[33m11SLA\u001b[0m on \u001b[32m2023-04-08\u001b[0m\n",
      "[2025-06-18 09:31:57 INFO] writing image to ~/data/kings_canyon_HLS/HLS_NIR_11SLA_20230408.tif\n",
      "[2025-06-18 09:31:59 INFO] extracting band ['red', 'green', 'blue', 'NIR', 'SWIR1', 'SWIR2'] for date 2023-04-08\n",
      "[2025-06-18 09:31:59 INFO] searching for Sentinel tile \u001b[33m11SLA\u001b[0m on \u001b[32m2023-04-08\u001b[0m\n",
      "[2025-06-18 09:31:59 INFO] retrieving Sentinel tile \u001b[33m11SLA\u001b[0m on \u001b[32m2023-04-08\u001b[0m: ~/data/HLS2/2023.04.08/HLS.S30.T11SLA.2023098T182919.v2.0\n",
      "[2025-06-18 09:31:59 INFO]  Getting 1 granules, approx download size: 0.17 GB\n"
     ]
    },
    {
     "data": {
      "application/vnd.jupyter.widget-view+json": {
       "model_id": "5252e17c309842a68e3c87526e7885b6",
       "version_major": 2,
       "version_minor": 0
      },
      "text/plain": [
       "QUEUEING TASKS | :   0%|          | 0/18 [00:00<?, ?it/s]"
      ]
     },
     "metadata": {},
     "output_type": "display_data"
    },
    {
     "name": "stdout",
     "output_type": "stream",
     "text": [
      "[2025-06-18 09:31:59 INFO] File HLS.S30.T11SLA.2023098T182919.v2.0.B11.tif already downloaded\n",
      "[2025-06-18 09:31:59 INFO] File HLS.S30.T11SLA.2023098T182919.v2.0.SZA.tif already downloaded\n",
      "[2025-06-18 09:31:59 INFO] File HLS.S30.T11SLA.2023098T182919.v2.0.B01.tif already downloaded\n"
     ]
    },
    {
     "data": {
      "application/vnd.jupyter.widget-view+json": {
       "model_id": "ac3d712b1f1e44fdacf851af15f41d91",
       "version_major": 2,
       "version_minor": 0
      },
      "text/plain": [
       "PROCESSING TASKS | :   0%|          | 0/18 [00:00<?, ?it/s]"
      ]
     },
     "metadata": {},
     "output_type": "display_data"
    },
    {
     "name": "stdout",
     "output_type": "stream",
     "text": [
      "[2025-06-18 09:31:59 INFO] File HLS.S30.T11SLA.2023098T182919.v2.0.B8A.tif already downloaded\n",
      "[2025-06-18 09:31:59 INFO] File HLS.S30.T11SLA.2023098T182919.v2.0.Fmask.tif already downloaded\n",
      "[2025-06-18 09:31:59 INFO] File HLS.S30.T11SLA.2023098T182919.v2.0.B12.tif already downloaded\n",
      "[2025-06-18 09:31:59 INFO] File HLS.S30.T11SLA.2023098T182919.v2.0.VZA.tif already downloaded\n",
      "[2025-06-18 09:31:59 INFO] File HLS.S30.T11SLA.2023098T182919.v2.0.B06.tif already downloaded\n",
      "[2025-06-18 09:31:59 INFO] File HLS.S30.T11SLA.2023098T182919.v2.0.B08.tif already downloaded\n",
      "[2025-06-18 09:31:59 INFO] File HLS.S30.T11SLA.2023098T182919.v2.0.B03.tif already downloaded\n",
      "[2025-06-18 09:31:59 INFO] File HLS.S30.T11SLA.2023098T182919.v2.0.B09.tif already downloaded\n",
      "[2025-06-18 09:31:59 INFO] File HLS.S30.T11SLA.2023098T182919.v2.0.B02.tif already downloaded\n",
      "[2025-06-18 09:31:59 INFO] File HLS.S30.T11SLA.2023098T182919.v2.0.B07.tif already downloaded\n",
      "[2025-06-18 09:31:59 INFO] File HLS.S30.T11SLA.2023098T182919.v2.0.B04.tif already downloaded\n",
      "[2025-06-18 09:31:59 INFO] File HLS.S30.T11SLA.2023098T182919.v2.0.SAA.tif already downloaded\n",
      "[2025-06-18 09:31:59 INFO] File HLS.S30.T11SLA.2023098T182919.v2.0.VAA.tif already downloaded\n",
      "[2025-06-18 09:31:59 INFO] File HLS.S30.T11SLA.2023098T182919.v2.0.B05.tif already downloaded\n",
      "[2025-06-18 09:31:59 INFO] File HLS.S30.T11SLA.2023098T182919.v2.0.B10.tif already downloaded\n"
     ]
    },
    {
     "data": {
      "application/vnd.jupyter.widget-view+json": {
       "model_id": "5cd025b68d3a443b98610ffa31d54f33",
       "version_major": 2,
       "version_minor": 0
      },
      "text/plain": [
       "COLLECTING RESULTS | :   0%|          | 0/18 [00:00<?, ?it/s]"
      ]
     },
     "metadata": {},
     "output_type": "display_data"
    },
    {
     "name": "stdout",
     "output_type": "stream",
     "text": [
      "[2025-06-18 09:31:59 INFO] searching for Landsat tile \u001b[33m11SLA\u001b[0m on \u001b[32m2023-04-08\u001b[0m\n",
      "[2025-06-18 09:31:59 INFO] writing image to ~/data/kings_canyon_HLS/HLS_SWIR1_11SLA_20230408.tif\n",
      "[2025-06-18 09:32:01 INFO] extracting band ['red', 'green', 'blue', 'NIR', 'SWIR1', 'SWIR2'] for date 2023-04-08\n",
      "[2025-06-18 09:32:01 INFO] searching for Sentinel tile \u001b[33m11SLA\u001b[0m on \u001b[32m2023-04-08\u001b[0m\n",
      "[2025-06-18 09:32:01 INFO] retrieving Sentinel tile \u001b[33m11SLA\u001b[0m on \u001b[32m2023-04-08\u001b[0m: ~/data/HLS2/2023.04.08/HLS.S30.T11SLA.2023098T182919.v2.0\n",
      "[2025-06-18 09:32:01 INFO]  Getting 1 granules, approx download size: 0.17 GB\n"
     ]
    },
    {
     "data": {
      "application/vnd.jupyter.widget-view+json": {
       "model_id": "d216cf92972a43d98d1f70a6e07a6e91",
       "version_major": 2,
       "version_minor": 0
      },
      "text/plain": [
       "QUEUEING TASKS | :   0%|          | 0/18 [00:00<?, ?it/s]"
      ]
     },
     "metadata": {},
     "output_type": "display_data"
    },
    {
     "name": "stdout",
     "output_type": "stream",
     "text": [
      "[2025-06-18 09:32:01 INFO] File HLS.S30.T11SLA.2023098T182919.v2.0.B11.tif already downloaded\n",
      "[2025-06-18 09:32:01 INFO] File HLS.S30.T11SLA.2023098T182919.v2.0.B8A.tif already downloaded\n",
      "[2025-06-18 09:32:01 INFO] File HLS.S30.T11SLA.2023098T182919.v2.0.SZA.tif already downloaded\n",
      "[2025-06-18 09:32:01 INFO] File HLS.S30.T11SLA.2023098T182919.v2.0.B01.tif already downloaded\n",
      "[2025-06-18 09:32:01 INFO] File HLS.S30.T11SLA.2023098T182919.v2.0.B12.tif already downloaded\n"
     ]
    },
    {
     "data": {
      "application/vnd.jupyter.widget-view+json": {
       "model_id": "fc01d2e7dd09488a837433f1d2bb5bda",
       "version_major": 2,
       "version_minor": 0
      },
      "text/plain": [
       "PROCESSING TASKS | :   0%|          | 0/18 [00:00<?, ?it/s]"
      ]
     },
     "metadata": {},
     "output_type": "display_data"
    },
    {
     "name": "stdout",
     "output_type": "stream",
     "text": [
      "[2025-06-18 09:32:01 INFO] File HLS.S30.T11SLA.2023098T182919.v2.0.VZA.tif already downloaded\n",
      "[2025-06-18 09:32:01 INFO] File HLS.S30.T11SLA.2023098T182919.v2.0.B06.tif already downloaded\n",
      "[2025-06-18 09:32:01 INFO] File HLS.S30.T11SLA.2023098T182919.v2.0.Fmask.tif already downloaded\n",
      "[2025-06-18 09:32:01 INFO] File HLS.S30.T11SLA.2023098T182919.v2.0.B08.tif already downloaded\n",
      "[2025-06-18 09:32:01 INFO] File HLS.S30.T11SLA.2023098T182919.v2.0.B03.tif already downloaded\n",
      "[2025-06-18 09:32:01 INFO] File HLS.S30.T11SLA.2023098T182919.v2.0.B09.tif already downloaded\n",
      "[2025-06-18 09:32:01 INFO] File HLS.S30.T11SLA.2023098T182919.v2.0.B02.tif already downloaded\n",
      "[2025-06-18 09:32:01 INFO] File HLS.S30.T11SLA.2023098T182919.v2.0.B07.tif already downloaded\n",
      "[2025-06-18 09:32:01 INFO] File HLS.S30.T11SLA.2023098T182919.v2.0.B04.tif already downloaded\n",
      "[2025-06-18 09:32:01 INFO] File HLS.S30.T11SLA.2023098T182919.v2.0.SAA.tif already downloaded\n",
      "[2025-06-18 09:32:01 INFO] File HLS.S30.T11SLA.2023098T182919.v2.0.VAA.tif already downloaded\n",
      "[2025-06-18 09:32:01 INFO] File HLS.S30.T11SLA.2023098T182919.v2.0.B05.tif already downloaded\n",
      "[2025-06-18 09:32:01 INFO] File HLS.S30.T11SLA.2023098T182919.v2.0.B10.tif already downloaded\n"
     ]
    },
    {
     "data": {
      "application/vnd.jupyter.widget-view+json": {
       "model_id": "44d5f1d7e37e4ce0bba4220d2b8acebc",
       "version_major": 2,
       "version_minor": 0
      },
      "text/plain": [
       "COLLECTING RESULTS | :   0%|          | 0/18 [00:00<?, ?it/s]"
      ]
     },
     "metadata": {},
     "output_type": "display_data"
    },
    {
     "name": "stdout",
     "output_type": "stream",
     "text": [
      "[2025-06-18 09:32:01 INFO] searching for Landsat tile \u001b[33m11SLA\u001b[0m on \u001b[32m2023-04-08\u001b[0m\n",
      "[2025-06-18 09:32:01 INFO] writing image to ~/data/kings_canyon_HLS/HLS_SWIR2_11SLA_20230408.tif\n",
      "[2025-06-18 09:32:03 INFO] extracting band ['red', 'green', 'blue', 'NIR', 'SWIR1', 'SWIR2'] for date 2023-04-11\n",
      "[2025-06-18 09:32:03 INFO] searching for Sentinel tile \u001b[33m11SLA\u001b[0m on \u001b[32m2023-04-11\u001b[0m\n",
      "[2025-06-18 09:32:03 INFO] retrieving Sentinel tile \u001b[33m11SLA\u001b[0m on \u001b[32m2023-04-11\u001b[0m: ~/data/HLS2/2023.04.11/HLS.S30.T11SLA.2023101T183919.v2.0\n",
      "[2025-06-18 09:32:03 INFO]  Getting 1 granules, approx download size: 0.23 GB\n"
     ]
    },
    {
     "data": {
      "application/vnd.jupyter.widget-view+json": {
       "model_id": "acaf22508d4142dfb1342847e931d9f9",
       "version_major": 2,
       "version_minor": 0
      },
      "text/plain": [
       "QUEUEING TASKS | :   0%|          | 0/18 [00:00<?, ?it/s]"
      ]
     },
     "metadata": {},
     "output_type": "display_data"
    },
    {
     "name": "stdout",
     "output_type": "stream",
     "text": [
      "[2025-06-18 09:32:03 INFO] File HLS.S30.T11SLA.2023101T183919.v2.0.B02.tif already downloaded\n",
      "[2025-06-18 09:32:03 INFO] File HLS.S30.T11SLA.2023101T183919.v2.0.B06.tif already downloaded\n",
      "[2025-06-18 09:32:03 INFO] File HLS.S30.T11SLA.2023101T183919.v2.0.B11.tif already downloaded\n",
      "[2025-06-18 09:32:03 INFO] File HLS.S30.T11SLA.2023101T183919.v2.0.SAA.tif already downloaded\n",
      "[2025-06-18 09:32:03 INFO] File HLS.S30.T11SLA.2023101T183919.v2.0.B03.tif already downloaded\n"
     ]
    },
    {
     "data": {
      "application/vnd.jupyter.widget-view+json": {
       "model_id": "13f4e7288fb5458fab9e6de57bdc610e",
       "version_major": 2,
       "version_minor": 0
      },
      "text/plain": [
       "PROCESSING TASKS | :   0%|          | 0/18 [00:00<?, ?it/s]"
      ]
     },
     "metadata": {},
     "output_type": "display_data"
    },
    {
     "name": "stdout",
     "output_type": "stream",
     "text": [
      "[2025-06-18 09:32:03 INFO] File HLS.S30.T11SLA.2023101T183919.v2.0.B04.tif already downloaded\n"
     ]
    },
    {
     "data": {
      "application/vnd.jupyter.widget-view+json": {
       "model_id": "139b27dd2bdc4857a07731d2b5e42543",
       "version_major": 2,
       "version_minor": 0
      },
      "text/plain": [
       "COLLECTING RESULTS | :   0%|          | 0/18 [00:00<?, ?it/s]"
      ]
     },
     "metadata": {},
     "output_type": "display_data"
    },
    {
     "name": "stdout",
     "output_type": "stream",
     "text": [
      "[2025-06-18 09:32:25 INFO] searching for Landsat tile \u001b[33m11SLA\u001b[0m on \u001b[32m2023-04-11\u001b[0m\n",
      "[2025-06-18 09:32:25 INFO] GDAL signalled an error: err_no=4, msg=\"`/Users/halverso/data/HLS2/2023.04.11/HLS.S30.T11SLA.2023101T183919.v2.0/HLS.S30.T11SLA.2023101T183919.v2.0.B04.tif' not recognized as being in a supported file format.\"\n",
      "\u001b[31m[2025-06-18 09:32:25 ERROR] '/Users/halverso/data/HLS2/2023.04.11/HLS.S30.T11SLA.2023101T183919.v2.0/HLS.S30.T11SLA.2023101T183919.v2.0.B04.tif' not recognized as being in a supported file format.\u001b[0m\n",
      "[2025-06-18 09:32:25 INFO] extracting band ['red', 'green', 'blue', 'NIR', 'SWIR1', 'SWIR2'] for date 2023-04-11\n",
      "[2025-06-18 09:32:26 INFO] searching for Sentinel tile \u001b[33m11SLA\u001b[0m on \u001b[32m2023-04-11\u001b[0m\n",
      "[2025-06-18 09:32:26 INFO] retrieving Sentinel tile \u001b[33m11SLA\u001b[0m on \u001b[32m2023-04-11\u001b[0m: ~/data/HLS2/2023.04.11/HLS.S30.T11SLA.2023101T183919.v2.0\n",
      "[2025-06-18 09:32:26 INFO]  Getting 1 granules, approx download size: 0.23 GB\n"
     ]
    },
    {
     "data": {
      "application/vnd.jupyter.widget-view+json": {
       "model_id": "74d471842b6841d18a57442d22a10480",
       "version_major": 2,
       "version_minor": 0
      },
      "text/plain": [
       "QUEUEING TASKS | :   0%|          | 0/18 [00:00<?, ?it/s]"
      ]
     },
     "metadata": {},
     "output_type": "display_data"
    },
    {
     "name": "stdout",
     "output_type": "stream",
     "text": [
      "[2025-06-18 09:32:26 INFO] File HLS.S30.T11SLA.2023101T183919.v2.0.B02.tif already downloaded\n",
      "[2025-06-18 09:32:26 INFO] File HLS.S30.T11SLA.2023101T183919.v2.0.B05.tif already downloaded\n",
      "[2025-06-18 09:32:26 INFO] File HLS.S30.T11SLA.2023101T183919.v2.0.B06.tif already downloaded\n"
     ]
    },
    {
     "data": {
      "application/vnd.jupyter.widget-view+json": {
       "model_id": "9e5af95882524718a9a44f6c9006a01e",
       "version_major": 2,
       "version_minor": 0
      },
      "text/plain": [
       "PROCESSING TASKS | :   0%|          | 0/18 [00:00<?, ?it/s]"
      ]
     },
     "metadata": {},
     "output_type": "display_data"
    },
    {
     "name": "stdout",
     "output_type": "stream",
     "text": [
      "[2025-06-18 09:32:26 INFO] File HLS.S30.T11SLA.2023101T183919.v2.0.B11.tif already downloaded\n",
      "[2025-06-18 09:32:26 INFO] File HLS.S30.T11SLA.2023101T183919.v2.0.B03.tif already downloaded\n",
      "[2025-06-18 09:32:26 INFO] File HLS.S30.T11SLA.2023101T183919.v2.0.B04.tif already downloaded\n",
      "[2025-06-18 09:32:26 INFO] File HLS.S30.T11SLA.2023101T183919.v2.0.SAA.tif already downloaded\n",
      "[2025-06-18 09:32:26 INFO] File HLS.S30.T11SLA.2023101T183919.v2.0.SZA.tif already downloaded\n",
      "[2025-06-18 09:32:26 INFO] File HLS.S30.T11SLA.2023101T183919.v2.0.B12.tif already downloaded\n",
      "[2025-06-18 09:32:26 INFO] File HLS.S30.T11SLA.2023101T183919.v2.0.B01.tif already downloaded\n",
      "[2025-06-18 09:32:26 INFO] File HLS.S30.T11SLA.2023101T183919.v2.0.B09.tif already downloaded\n",
      "[2025-06-18 09:32:26 INFO] File HLS.S30.T11SLA.2023101T183919.v2.0.VZA.tif already downloaded\n",
      "[2025-06-18 09:32:26 INFO] File HLS.S30.T11SLA.2023101T183919.v2.0.VAA.tif already downloaded\n",
      "[2025-06-18 09:32:26 INFO] File HLS.S30.T11SLA.2023101T183919.v2.0.B8A.tif already downloaded\n",
      "[2025-06-18 09:32:26 INFO] File HLS.S30.T11SLA.2023101T183919.v2.0.B07.tif already downloaded\n",
      "[2025-06-18 09:32:26 INFO] File HLS.S30.T11SLA.2023101T183919.v2.0.B08.tif already downloaded\n",
      "[2025-06-18 09:32:26 INFO] File HLS.S30.T11SLA.2023101T183919.v2.0.B10.tif already downloaded\n",
      "[2025-06-18 09:32:26 INFO] File HLS.S30.T11SLA.2023101T183919.v2.0.Fmask.tif already downloaded\n"
     ]
    },
    {
     "data": {
      "application/vnd.jupyter.widget-view+json": {
       "model_id": "c5e929ba56d04c5082b00a28bc1faab3",
       "version_major": 2,
       "version_minor": 0
      },
      "text/plain": [
       "COLLECTING RESULTS | :   0%|          | 0/18 [00:00<?, ?it/s]"
      ]
     },
     "metadata": {},
     "output_type": "display_data"
    },
    {
     "name": "stdout",
     "output_type": "stream",
     "text": [
      "[2025-06-18 09:32:26 INFO] searching for Landsat tile \u001b[33m11SLA\u001b[0m on \u001b[32m2023-04-11\u001b[0m\n",
      "[2025-06-18 09:32:26 INFO] GDAL signalled an error: err_no=4, msg=\"`/Users/halverso/data/HLS2/2023.04.11/HLS.S30.T11SLA.2023101T183919.v2.0/HLS.S30.T11SLA.2023101T183919.v2.0.B03.tif' not recognized as being in a supported file format.\"\n",
      "\u001b[31m[2025-06-18 09:32:26 ERROR] '/Users/halverso/data/HLS2/2023.04.11/HLS.S30.T11SLA.2023101T183919.v2.0/HLS.S30.T11SLA.2023101T183919.v2.0.B03.tif' not recognized as being in a supported file format.\u001b[0m\n",
      "[2025-06-18 09:32:26 INFO] extracting band ['red', 'green', 'blue', 'NIR', 'SWIR1', 'SWIR2'] for date 2023-04-11\n",
      "[2025-06-18 09:32:26 INFO] searching for Sentinel tile \u001b[33m11SLA\u001b[0m on \u001b[32m2023-04-11\u001b[0m\n",
      "[2025-06-18 09:32:26 INFO] retrieving Sentinel tile \u001b[33m11SLA\u001b[0m on \u001b[32m2023-04-11\u001b[0m: ~/data/HLS2/2023.04.11/HLS.S30.T11SLA.2023101T183919.v2.0\n",
      "[2025-06-18 09:32:26 INFO]  Getting 1 granules, approx download size: 0.23 GB\n"
     ]
    },
    {
     "data": {
      "application/vnd.jupyter.widget-view+json": {
       "model_id": "8dd5780335c7499f957888a1d0ea08b1",
       "version_major": 2,
       "version_minor": 0
      },
      "text/plain": [
       "QUEUEING TASKS | :   0%|          | 0/18 [00:00<?, ?it/s]"
      ]
     },
     "metadata": {},
     "output_type": "display_data"
    },
    {
     "name": "stdout",
     "output_type": "stream",
     "text": [
      "[2025-06-18 09:32:26 INFO] File HLS.S30.T11SLA.2023101T183919.v2.0.B02.tif already downloaded\n",
      "[2025-06-18 09:32:26 INFO] File HLS.S30.T11SLA.2023101T183919.v2.0.B05.tif already downloaded\n",
      "[2025-06-18 09:32:26 INFO] File HLS.S30.T11SLA.2023101T183919.v2.0.B06.tif already downloaded\n"
     ]
    },
    {
     "data": {
      "application/vnd.jupyter.widget-view+json": {
       "model_id": "8444a0f321f940f8ae016d1e38327e9e",
       "version_major": 2,
       "version_minor": 0
      },
      "text/plain": [
       "PROCESSING TASKS | :   0%|          | 0/18 [00:00<?, ?it/s]"
      ]
     },
     "metadata": {},
     "output_type": "display_data"
    },
    {
     "name": "stdout",
     "output_type": "stream",
     "text": [
      "[2025-06-18 09:32:26 INFO] File HLS.S30.T11SLA.2023101T183919.v2.0.B11.tif already downloaded\n",
      "[2025-06-18 09:32:26 INFO] File HLS.S30.T11SLA.2023101T183919.v2.0.B12.tif already downloaded\n",
      "[2025-06-18 09:32:26 INFO] File HLS.S30.T11SLA.2023101T183919.v2.0.B03.tif already downloaded\n",
      "[2025-06-18 09:32:26 INFO] File HLS.S30.T11SLA.2023101T183919.v2.0.SAA.tif already downloaded\n",
      "[2025-06-18 09:32:26 INFO] File HLS.S30.T11SLA.2023101T183919.v2.0.B04.tif already downloaded\n",
      "[2025-06-18 09:32:26 INFO] File HLS.S30.T11SLA.2023101T183919.v2.0.SZA.tif already downloaded\n",
      "[2025-06-18 09:32:26 INFO] File HLS.S30.T11SLA.2023101T183919.v2.0.B01.tif already downloaded\n",
      "[2025-06-18 09:32:26 INFO] File HLS.S30.T11SLA.2023101T183919.v2.0.B09.tif already downloaded\n",
      "[2025-06-18 09:32:26 INFO] File HLS.S30.T11SLA.2023101T183919.v2.0.VZA.tif already downloaded\n",
      "[2025-06-18 09:32:26 INFO] File HLS.S30.T11SLA.2023101T183919.v2.0.VAA.tif already downloaded\n",
      "[2025-06-18 09:32:26 INFO] File HLS.S30.T11SLA.2023101T183919.v2.0.B8A.tif already downloaded\n",
      "[2025-06-18 09:32:26 INFO] File HLS.S30.T11SLA.2023101T183919.v2.0.B07.tif already downloaded\n",
      "[2025-06-18 09:32:26 INFO] File HLS.S30.T11SLA.2023101T183919.v2.0.B08.tif already downloaded\n",
      "[2025-06-18 09:32:26 INFO] File HLS.S30.T11SLA.2023101T183919.v2.0.B10.tif already downloaded\n",
      "[2025-06-18 09:32:26 INFO] File HLS.S30.T11SLA.2023101T183919.v2.0.Fmask.tif already downloaded\n"
     ]
    },
    {
     "data": {
      "application/vnd.jupyter.widget-view+json": {
       "model_id": "caabbb3a5a9141779c7342af662d5dfc",
       "version_major": 2,
       "version_minor": 0
      },
      "text/plain": [
       "COLLECTING RESULTS | :   0%|          | 0/18 [00:00<?, ?it/s]"
      ]
     },
     "metadata": {},
     "output_type": "display_data"
    },
    {
     "name": "stdout",
     "output_type": "stream",
     "text": [
      "[2025-06-18 09:32:26 INFO] searching for Landsat tile \u001b[33m11SLA\u001b[0m on \u001b[32m2023-04-11\u001b[0m\n",
      "[2025-06-18 09:32:26 INFO] GDAL signalled an error: err_no=4, msg=\"`/Users/halverso/data/HLS2/2023.04.11/HLS.S30.T11SLA.2023101T183919.v2.0/HLS.S30.T11SLA.2023101T183919.v2.0.B02.tif' not recognized as being in a supported file format.\"\n",
      "\u001b[31m[2025-06-18 09:32:26 ERROR] '/Users/halverso/data/HLS2/2023.04.11/HLS.S30.T11SLA.2023101T183919.v2.0/HLS.S30.T11SLA.2023101T183919.v2.0.B02.tif' not recognized as being in a supported file format.\u001b[0m\n",
      "[2025-06-18 09:32:26 INFO] extracting band ['red', 'green', 'blue', 'NIR', 'SWIR1', 'SWIR2'] for date 2023-04-11\n",
      "[2025-06-18 09:32:26 INFO] searching for Sentinel tile \u001b[33m11SLA\u001b[0m on \u001b[32m2023-04-11\u001b[0m\n",
      "[2025-06-18 09:32:26 INFO] retrieving Sentinel tile \u001b[33m11SLA\u001b[0m on \u001b[32m2023-04-11\u001b[0m: ~/data/HLS2/2023.04.11/HLS.S30.T11SLA.2023101T183919.v2.0\n",
      "[2025-06-18 09:32:26 INFO]  Getting 1 granules, approx download size: 0.23 GB\n"
     ]
    },
    {
     "data": {
      "application/vnd.jupyter.widget-view+json": {
       "model_id": "97e3d58514864b51b5099ac72634bbb5",
       "version_major": 2,
       "version_minor": 0
      },
      "text/plain": [
       "QUEUEING TASKS | :   0%|          | 0/18 [00:00<?, ?it/s]"
      ]
     },
     "metadata": {},
     "output_type": "display_data"
    },
    {
     "name": "stdout",
     "output_type": "stream",
     "text": [
      "[2025-06-18 09:32:26 INFO] File HLS.S30.T11SLA.2023101T183919.v2.0.B02.tif already downloaded\n",
      "[2025-06-18 09:32:26 INFO] File HLS.S30.T11SLA.2023101T183919.v2.0.B05.tif already downloaded\n",
      "[2025-06-18 09:32:26 INFO] File HLS.S30.T11SLA.2023101T183919.v2.0.B06.tif already downloaded\n",
      "[2025-06-18 09:32:26 INFO] File HLS.S30.T11SLA.2023101T183919.v2.0.B11.tif already downloaded\n"
     ]
    },
    {
     "data": {
      "application/vnd.jupyter.widget-view+json": {
       "model_id": "bb007af68a48458ea14ba09c086af763",
       "version_major": 2,
       "version_minor": 0
      },
      "text/plain": [
       "PROCESSING TASKS | :   0%|          | 0/18 [00:00<?, ?it/s]"
      ]
     },
     "metadata": {},
     "output_type": "display_data"
    },
    {
     "name": "stdout",
     "output_type": "stream",
     "text": [
      "[2025-06-18 09:32:26 INFO] File HLS.S30.T11SLA.2023101T183919.v2.0.B12.tif already downloaded\n",
      "[2025-06-18 09:32:26 INFO] File HLS.S30.T11SLA.2023101T183919.v2.0.SAA.tif already downloaded\n",
      "[2025-06-18 09:32:26 INFO] File HLS.S30.T11SLA.2023101T183919.v2.0.B03.tif already downloaded\n",
      "[2025-06-18 09:32:26 INFO] File HLS.S30.T11SLA.2023101T183919.v2.0.B04.tif already downloaded\n",
      "[2025-06-18 09:32:26 INFO] File HLS.S30.T11SLA.2023101T183919.v2.0.SZA.tif already downloaded\n",
      "[2025-06-18 09:32:26 INFO] File HLS.S30.T11SLA.2023101T183919.v2.0.B01.tif already downloaded\n",
      "[2025-06-18 09:32:26 INFO] File HLS.S30.T11SLA.2023101T183919.v2.0.B09.tif already downloaded\n",
      "[2025-06-18 09:32:26 INFO] File HLS.S30.T11SLA.2023101T183919.v2.0.VZA.tif already downloaded\n",
      "[2025-06-18 09:32:26 INFO] File HLS.S30.T11SLA.2023101T183919.v2.0.VAA.tif already downloaded\n",
      "[2025-06-18 09:32:26 INFO] File HLS.S30.T11SLA.2023101T183919.v2.0.B8A.tif already downloaded\n",
      "[2025-06-18 09:32:26 INFO] File HLS.S30.T11SLA.2023101T183919.v2.0.B07.tif already downloaded\n",
      "[2025-06-18 09:32:26 INFO] File HLS.S30.T11SLA.2023101T183919.v2.0.B08.tif already downloaded\n",
      "[2025-06-18 09:32:26 INFO] File HLS.S30.T11SLA.2023101T183919.v2.0.B10.tif already downloaded\n",
      "[2025-06-18 09:32:26 INFO] File HLS.S30.T11SLA.2023101T183919.v2.0.Fmask.tif already downloaded\n"
     ]
    },
    {
     "data": {
      "application/vnd.jupyter.widget-view+json": {
       "model_id": "60009aa8b17a4a12a1b563b44ce35e30",
       "version_major": 2,
       "version_minor": 0
      },
      "text/plain": [
       "COLLECTING RESULTS | :   0%|          | 0/18 [00:00<?, ?it/s]"
      ]
     },
     "metadata": {},
     "output_type": "display_data"
    },
    {
     "name": "stdout",
     "output_type": "stream",
     "text": [
      "[2025-06-18 09:32:26 INFO] searching for Landsat tile \u001b[33m11SLA\u001b[0m on \u001b[32m2023-04-11\u001b[0m\n",
      "[2025-06-18 09:32:26 INFO] writing image to ~/data/kings_canyon_HLS/HLS_NIR_11SLA_20230411.tif\n",
      "[2025-06-18 09:32:28 INFO] extracting band ['red', 'green', 'blue', 'NIR', 'SWIR1', 'SWIR2'] for date 2023-04-11\n",
      "[2025-06-18 09:32:28 INFO] searching for Sentinel tile \u001b[33m11SLA\u001b[0m on \u001b[32m2023-04-11\u001b[0m\n",
      "[2025-06-18 09:32:28 INFO] retrieving Sentinel tile \u001b[33m11SLA\u001b[0m on \u001b[32m2023-04-11\u001b[0m: ~/data/HLS2/2023.04.11/HLS.S30.T11SLA.2023101T183919.v2.0\n",
      "[2025-06-18 09:32:28 INFO]  Getting 1 granules, approx download size: 0.23 GB\n"
     ]
    },
    {
     "data": {
      "application/vnd.jupyter.widget-view+json": {
       "model_id": "8e03435e24f64187bd79b9611fb6d6fb",
       "version_major": 2,
       "version_minor": 0
      },
      "text/plain": [
       "QUEUEING TASKS | :   0%|          | 0/18 [00:00<?, ?it/s]"
      ]
     },
     "metadata": {},
     "output_type": "display_data"
    },
    {
     "name": "stdout",
     "output_type": "stream",
     "text": [
      "[2025-06-18 09:32:28 INFO] File HLS.S30.T11SLA.2023101T183919.v2.0.B02.tif already downloaded\n",
      "[2025-06-18 09:32:28 INFO] File HLS.S30.T11SLA.2023101T183919.v2.0.B05.tif already downloaded\n",
      "[2025-06-18 09:32:28 INFO] File HLS.S30.T11SLA.2023101T183919.v2.0.B11.tif already downloaded\n",
      "[2025-06-18 09:32:28 INFO] File HLS.S30.T11SLA.2023101T183919.v2.0.B06.tif already downloaded\n"
     ]
    },
    {
     "data": {
      "application/vnd.jupyter.widget-view+json": {
       "model_id": "e6ab4e2b28344e568084c0e9245754b5",
       "version_major": 2,
       "version_minor": 0
      },
      "text/plain": [
       "PROCESSING TASKS | :   0%|          | 0/18 [00:00<?, ?it/s]"
      ]
     },
     "metadata": {},
     "output_type": "display_data"
    },
    {
     "name": "stdout",
     "output_type": "stream",
     "text": [
      "[2025-06-18 09:32:28 INFO] File HLS.S30.T11SLA.2023101T183919.v2.0.B12.tif already downloaded\n",
      "[2025-06-18 09:32:28 INFO] File HLS.S30.T11SLA.2023101T183919.v2.0.SAA.tif already downloaded\n",
      "[2025-06-18 09:32:28 INFO] File HLS.S30.T11SLA.2023101T183919.v2.0.B04.tif already downloaded\n",
      "[2025-06-18 09:32:28 INFO] File HLS.S30.T11SLA.2023101T183919.v2.0.B03.tif already downloaded\n",
      "[2025-06-18 09:32:28 INFO] File HLS.S30.T11SLA.2023101T183919.v2.0.SZA.tif already downloaded\n",
      "[2025-06-18 09:32:28 INFO] File HLS.S30.T11SLA.2023101T183919.v2.0.B01.tif already downloaded\n",
      "[2025-06-18 09:32:28 INFO] File HLS.S30.T11SLA.2023101T183919.v2.0.B09.tif already downloaded\n",
      "[2025-06-18 09:32:28 INFO] File HLS.S30.T11SLA.2023101T183919.v2.0.VZA.tif already downloaded\n",
      "[2025-06-18 09:32:28 INFO] File HLS.S30.T11SLA.2023101T183919.v2.0.VAA.tif already downloaded\n",
      "[2025-06-18 09:32:28 INFO] File HLS.S30.T11SLA.2023101T183919.v2.0.B8A.tif already downloaded\n",
      "[2025-06-18 09:32:28 INFO] File HLS.S30.T11SLA.2023101T183919.v2.0.B07.tif already downloaded\n",
      "[2025-06-18 09:32:28 INFO] File HLS.S30.T11SLA.2023101T183919.v2.0.B08.tif already downloaded\n",
      "[2025-06-18 09:32:28 INFO] File HLS.S30.T11SLA.2023101T183919.v2.0.B10.tif already downloaded\n",
      "[2025-06-18 09:32:28 INFO] File HLS.S30.T11SLA.2023101T183919.v2.0.Fmask.tif already downloaded\n"
     ]
    },
    {
     "data": {
      "application/vnd.jupyter.widget-view+json": {
       "model_id": "327c94b5ebd148e6b82d516dfe1af500",
       "version_major": 2,
       "version_minor": 0
      },
      "text/plain": [
       "COLLECTING RESULTS | :   0%|          | 0/18 [00:00<?, ?it/s]"
      ]
     },
     "metadata": {},
     "output_type": "display_data"
    },
    {
     "name": "stdout",
     "output_type": "stream",
     "text": [
      "[2025-06-18 09:32:28 INFO] searching for Landsat tile \u001b[33m11SLA\u001b[0m on \u001b[32m2023-04-11\u001b[0m\n",
      "[2025-06-18 09:32:28 INFO] GDAL signalled an error: err_no=4, msg=\"`/Users/halverso/data/HLS2/2023.04.11/HLS.S30.T11SLA.2023101T183919.v2.0/HLS.S30.T11SLA.2023101T183919.v2.0.B11.tif' not recognized as being in a supported file format.\"\n",
      "\u001b[31m[2025-06-18 09:32:28 ERROR] '/Users/halverso/data/HLS2/2023.04.11/HLS.S30.T11SLA.2023101T183919.v2.0/HLS.S30.T11SLA.2023101T183919.v2.0.B11.tif' not recognized as being in a supported file format.\u001b[0m\n",
      "[2025-06-18 09:32:28 INFO] extracting band ['red', 'green', 'blue', 'NIR', 'SWIR1', 'SWIR2'] for date 2023-04-11\n",
      "[2025-06-18 09:32:28 INFO] searching for Sentinel tile \u001b[33m11SLA\u001b[0m on \u001b[32m2023-04-11\u001b[0m\n",
      "[2025-06-18 09:32:28 INFO] retrieving Sentinel tile \u001b[33m11SLA\u001b[0m on \u001b[32m2023-04-11\u001b[0m: ~/data/HLS2/2023.04.11/HLS.S30.T11SLA.2023101T183919.v2.0\n",
      "[2025-06-18 09:32:28 INFO]  Getting 1 granules, approx download size: 0.23 GB\n"
     ]
    },
    {
     "data": {
      "application/vnd.jupyter.widget-view+json": {
       "model_id": "d5ec8d87d1084c479c437088ad3acf3d",
       "version_major": 2,
       "version_minor": 0
      },
      "text/plain": [
       "QUEUEING TASKS | :   0%|          | 0/18 [00:00<?, ?it/s]"
      ]
     },
     "metadata": {},
     "output_type": "display_data"
    },
    {
     "name": "stdout",
     "output_type": "stream",
     "text": [
      "[2025-06-18 09:32:28 INFO] File HLS.S30.T11SLA.2023101T183919.v2.0.B02.tif already downloaded\n",
      "[2025-06-18 09:32:28 INFO] File HLS.S30.T11SLA.2023101T183919.v2.0.B05.tif already downloaded\n",
      "[2025-06-18 09:32:28 INFO] File HLS.S30.T11SLA.2023101T183919.v2.0.B06.tif already downloaded\n"
     ]
    },
    {
     "data": {
      "application/vnd.jupyter.widget-view+json": {
       "model_id": "e08d624e6c1f4a7095c2ae53189b5c8f",
       "version_major": 2,
       "version_minor": 0
      },
      "text/plain": [
       "PROCESSING TASKS | :   0%|          | 0/18 [00:00<?, ?it/s]"
      ]
     },
     "metadata": {},
     "output_type": "display_data"
    },
    {
     "name": "stdout",
     "output_type": "stream",
     "text": [
      "[2025-06-18 09:32:28 INFO] File HLS.S30.T11SLA.2023101T183919.v2.0.B11.tif already downloaded\n",
      "[2025-06-18 09:32:28 INFO] File HLS.S30.T11SLA.2023101T183919.v2.0.B12.tif already downloaded\n",
      "[2025-06-18 09:32:28 INFO] File HLS.S30.T11SLA.2023101T183919.v2.0.SAA.tif already downloaded\n",
      "[2025-06-18 09:32:28 INFO] File HLS.S30.T11SLA.2023101T183919.v2.0.B03.tif already downloaded\n",
      "[2025-06-18 09:32:28 INFO] File HLS.S30.T11SLA.2023101T183919.v2.0.B04.tif already downloaded\n",
      "[2025-06-18 09:32:28 INFO] File HLS.S30.T11SLA.2023101T183919.v2.0.SZA.tif already downloaded\n",
      "[2025-06-18 09:32:28 INFO] File HLS.S30.T11SLA.2023101T183919.v2.0.B01.tif already downloaded\n",
      "[2025-06-18 09:32:28 INFO] File HLS.S30.T11SLA.2023101T183919.v2.0.B09.tif already downloaded\n",
      "[2025-06-18 09:32:28 INFO] File HLS.S30.T11SLA.2023101T183919.v2.0.VZA.tif already downloaded\n",
      "[2025-06-18 09:32:28 INFO] File HLS.S30.T11SLA.2023101T183919.v2.0.VAA.tif already downloaded\n",
      "[2025-06-18 09:32:28 INFO] File HLS.S30.T11SLA.2023101T183919.v2.0.B8A.tif already downloaded\n",
      "[2025-06-18 09:32:28 INFO] File HLS.S30.T11SLA.2023101T183919.v2.0.B07.tif already downloaded\n",
      "[2025-06-18 09:32:28 INFO] File HLS.S30.T11SLA.2023101T183919.v2.0.B08.tif already downloaded\n",
      "[2025-06-18 09:32:28 INFO] File HLS.S30.T11SLA.2023101T183919.v2.0.B10.tif already downloaded\n",
      "[2025-06-18 09:32:28 INFO] File HLS.S30.T11SLA.2023101T183919.v2.0.Fmask.tif already downloaded\n"
     ]
    },
    {
     "data": {
      "application/vnd.jupyter.widget-view+json": {
       "model_id": "e55635298ce04f498f4ad5a204f47010",
       "version_major": 2,
       "version_minor": 0
      },
      "text/plain": [
       "COLLECTING RESULTS | :   0%|          | 0/18 [00:00<?, ?it/s]"
      ]
     },
     "metadata": {},
     "output_type": "display_data"
    },
    {
     "name": "stdout",
     "output_type": "stream",
     "text": [
      "[2025-06-18 09:32:28 INFO] searching for Landsat tile \u001b[33m11SLA\u001b[0m on \u001b[32m2023-04-11\u001b[0m\n",
      "[2025-06-18 09:32:28 INFO] writing image to ~/data/kings_canyon_HLS/HLS_SWIR2_11SLA_20230411.tif\n",
      "[2025-06-18 09:32:30 INFO] extracting band ['red', 'green', 'blue', 'NIR', 'SWIR1', 'SWIR2'] for date 2023-04-13\n",
      "[2025-06-18 09:32:30 INFO] searching for Sentinel tile \u001b[33m11SLA\u001b[0m on \u001b[32m2023-04-13\u001b[0m\n",
      "[2025-06-18 09:32:30 INFO] retrieving Sentinel tile \u001b[33m11SLA\u001b[0m on \u001b[32m2023-04-13\u001b[0m: ~/data/HLS2/2023.04.13/HLS.S30.T11SLA.2023103T182921.v2.0\n",
      "[2025-06-18 09:32:30 INFO]  Getting 1 granules, approx download size: 0.17 GB\n"
     ]
    },
    {
     "data": {
      "application/vnd.jupyter.widget-view+json": {
       "model_id": "f4bc1f7a16c4492c88388a1edbb4ff7b",
       "version_major": 2,
       "version_minor": 0
      },
      "text/plain": [
       "QUEUEING TASKS | :   0%|          | 0/18 [00:00<?, ?it/s]"
      ]
     },
     "metadata": {},
     "output_type": "display_data"
    },
    {
     "data": {
      "application/vnd.jupyter.widget-view+json": {
       "model_id": "94d0902c266e44f2a193fff9423febf4",
       "version_major": 2,
       "version_minor": 0
      },
      "text/plain": [
       "PROCESSING TASKS | :   0%|          | 0/18 [00:00<?, ?it/s]"
      ]
     },
     "metadata": {},
     "output_type": "display_data"
    }
   ],
   "source": [
    "timeseries(\n",
    "    bands=[\"red\", \"green\", \"blue\", \"NIR\", \"SWIR1\", \"SWIR2\"],\n",
    "    tile=\"11SLA\",\n",
    "    start_date=start_date,\n",
    "    end_date=end_date,\n",
    "    output_directory=\"~/data/kings_canyon_HLS\",\n",
    "    geometry=grid\n",
    ")"
   ]
  },
  {
   "cell_type": "code",
   "execution_count": null,
   "id": "f9cf270b",
   "metadata": {},
   "outputs": [],
   "source": []
  }
 ],
 "metadata": {
  "kernelspec": {
   "display_name": "harmonized-landsat-sentinel",
   "language": "python",
   "name": "python3"
  },
  "language_info": {
   "codemirror_mode": {
    "name": "ipython",
    "version": 3
   },
   "file_extension": ".py",
   "mimetype": "text/x-python",
   "name": "python",
   "nbconvert_exporter": "python",
   "pygments_lexer": "ipython3",
   "version": "3.10.16"
  }
 },
 "nbformat": 4,
 "nbformat_minor": 5
}
