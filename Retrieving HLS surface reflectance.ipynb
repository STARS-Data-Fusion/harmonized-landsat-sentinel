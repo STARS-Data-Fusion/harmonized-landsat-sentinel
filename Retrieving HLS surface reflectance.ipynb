{
 "cells": [
  {
   "cell_type": "code",
   "execution_count": 1,
   "metadata": {},
   "outputs": [
    {
     "name": "stdout",
     "output_type": "stream",
     "text": [
      "[2025-03-26 10:43:21 INFO] HLS 2.0 working directory: \u001b[34m~/data/HLS2\u001b[0m\n",
      "[2025-03-26 10:43:21 INFO] HLS 2.0 download directory: \u001b[34m~/data/HLS2\u001b[0m\n",
      "[2025-03-26 10:43:22 INFO] You're now authenticated with NASA Earthdata Login\n"
     ]
    }
   ],
   "source": [
    "import earthaccess\n",
    "from harmonized_landsat_sentinel import harmonized_landsat_sentinel"
   ]
  },
  {
   "cell_type": "code",
   "execution_count": 2,
   "metadata": {},
   "outputs": [
    {
     "ename": "AttributeError",
     "evalue": "'HLS2EarthAccessConnection' object has no attribute 'product_filename'",
     "output_type": "error",
     "traceback": [
      "\u001b[0;31m---------------------------------------------------------------------------\u001b[0m",
      "\u001b[0;31mAttributeError\u001b[0m                            Traceback (most recent call last)",
      "Cell \u001b[0;32mIn[2], line 1\u001b[0m\n\u001b[0;32m----> 1\u001b[0m NDVI \u001b[38;5;241m=\u001b[39m \u001b[43mharmonized_landsat_sentinel\u001b[49m\u001b[38;5;241;43m.\u001b[39;49m\u001b[43mNDVI\u001b[49m\u001b[43m(\u001b[49m\u001b[43mtile\u001b[49m\u001b[38;5;241;43m=\u001b[39;49m\u001b[38;5;124;43m\"\u001b[39;49m\u001b[38;5;124;43m11SPS\u001b[39;49m\u001b[38;5;124;43m\"\u001b[39;49m\u001b[43m,\u001b[49m\u001b[43m \u001b[49m\u001b[43mdate_UTC\u001b[49m\u001b[38;5;241;43m=\u001b[39;49m\u001b[38;5;124;43m\"\u001b[39;49m\u001b[38;5;124;43m2025-02-01\u001b[39;49m\u001b[38;5;124;43m\"\u001b[39;49m\u001b[43m)\u001b[49m\n\u001b[1;32m      2\u001b[0m NDVI\n",
      "File \u001b[0;32m~/Projects/harmonized-landsat-sentinel/harmonized_landsat_sentinel/HLS2_earthaccess_connection.py:153\u001b[0m, in \u001b[0;36mHLS2EarthAccessConnection.NDVI\u001b[0;34m(self, tile, date_UTC, product_filename, preview_filename, save_data, save_preview, return_filename)\u001b[0m\n\u001b[1;32m    150\u001b[0m geometry \u001b[38;5;241m=\u001b[39m \u001b[38;5;28mself\u001b[39m\u001b[38;5;241m.\u001b[39mgrid(tile)\n\u001b[1;32m    152\u001b[0m \u001b[38;5;28;01mif\u001b[39;00m product_filename \u001b[38;5;129;01mis\u001b[39;00m \u001b[38;5;28;01mNone\u001b[39;00m:\n\u001b[0;32m--> 153\u001b[0m     product_filename \u001b[38;5;241m=\u001b[39m \u001b[38;5;28;43mself\u001b[39;49m\u001b[38;5;241;43m.\u001b[39;49m\u001b[43mproduct_filename\u001b[49m(\n\u001b[1;32m    154\u001b[0m         product\u001b[38;5;241m=\u001b[39m\u001b[38;5;124m\"\u001b[39m\u001b[38;5;124mNDVI\u001b[39m\u001b[38;5;124m\"\u001b[39m,\n\u001b[1;32m    155\u001b[0m         date_UTC\u001b[38;5;241m=\u001b[39mdate_UTC,\n\u001b[1;32m    156\u001b[0m         tile\u001b[38;5;241m=\u001b[39mtile\n\u001b[1;32m    157\u001b[0m     )\n\u001b[1;32m    159\u001b[0m \u001b[38;5;28;01mif\u001b[39;00m preview_filename \u001b[38;5;129;01mis\u001b[39;00m \u001b[38;5;28;01mNone\u001b[39;00m:\n\u001b[1;32m    160\u001b[0m     preview_filename \u001b[38;5;241m=\u001b[39m product_filename\u001b[38;5;241m.\u001b[39mreplace(\u001b[38;5;124m\"\u001b[39m\u001b[38;5;124m.tif\u001b[39m\u001b[38;5;124m\"\u001b[39m, \u001b[38;5;124m\"\u001b[39m\u001b[38;5;124m.jpeg\u001b[39m\u001b[38;5;124m\"\u001b[39m)\n",
      "\u001b[0;31mAttributeError\u001b[0m: 'HLS2EarthAccessConnection' object has no attribute 'product_filename'"
     ]
    }
   ],
   "source": [
    "NDVI = harmonized_landsat_sentinel.NDVI(tile=\"11SPS\", date_UTC=\"2025-02-01\")\n",
    "NDVI"
   ]
  },
  {
   "cell_type": "code",
   "execution_count": null,
   "metadata": {},
   "outputs": [],
   "source": []
  }
 ],
 "metadata": {
  "kernelspec": {
   "display_name": "harmonized-landsat-sentinel",
   "language": "python",
   "name": "python3"
  },
  "language_info": {
   "codemirror_mode": {
    "name": "ipython",
    "version": 3
   },
   "file_extension": ".py",
   "mimetype": "text/x-python",
   "name": "python",
   "nbconvert_exporter": "python",
   "pygments_lexer": "ipython3",
   "version": "3.10.16"
  }
 },
 "nbformat": 4,
 "nbformat_minor": 2
}
